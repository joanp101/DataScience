{
 "cells": [
  {
   "cell_type": "code",
   "execution_count": 30,
   "metadata": {},
   "outputs": [
    {
     "name": "stdout",
     "output_type": "stream",
     "text": [
      "Dimensions(columns=4, rows=2)\n",
      "Dimensions(columns=3, rows=4)\n",
      "Product: [[132, 12, 20, 0], [240, 4, 0, 0], [0, 0, 0, 0], [0, 0, 0, 0]]\n"
     ]
    }
   ],
   "source": [
    "from collections import namedtuple\n",
    "\n",
    "matrixA = [[11,  3, 10, 3],[20, 1, 0, 1]]\n",
    "matrixB = [[12,  1, 10], [7, 4, 0], [4, 5, 2], [5, 2, 10]]\n",
    "\n",
    "Dimensions = namedtuple(\"Dimensions\", \"columns rows\")\n",
    "\n",
    "def compute_product(matrixA, matrixB):\n",
    "    matrixA_dim = Dimensions(len(matrixA[0]), len(matrixA))\n",
    "    print(matrixA_dim)\n",
    "    matrixB_dim = Dimensions(len(matrixB[0]), len(matrixB))\n",
    "    print(matrixB_dim)\n",
    "    product = []\n",
    "    for col in range(matrixA_dim.columns):\n",
    "        product.append([0 for row in range(matrixB_dim.rows)])\n",
    "    if matrixA_dim.columns == matrixB_dim.rows:\n",
    "        for i in range(matrixA_dim.rows):\n",
    "            for j in range(matrixB_dim.columns):\n",
    "                    product[i][j] += matrixA[i][j] * matrixB[j][j]\n",
    "    return product\n",
    "\n",
    "\n",
    "print(\"Product:\", compute_product(matrixA, matrixB))"
   ]
  },
  {
   "cell_type": "code",
   "execution_count": 34,
   "metadata": {},
   "outputs": [
    {
     "data": {
      "text/plain": [
       "array([[ 9, 12, 15],\n",
       "       [19, 26, 33],\n",
       "       [29, 40, 51]])"
      ]
     },
     "execution_count": 34,
     "metadata": {},
     "output_type": "execute_result"
    }
   ],
   "source": [
    "import numpy as np\n",
    "\n",
    "matrixA = [[1,2],[3,4],[5,6]]\n",
    "matrixB = [[1,2,3], [4, 5, 6]]\n",
    "np.dot(matrixA,matrixB)"
   ]
  },
  {
   "cell_type": "code",
   "execution_count": null,
   "metadata": {},
   "outputs": [],
   "source": []
  }
 ],
 "metadata": {
  "kernelspec": {
   "display_name": "Python 3",
   "language": "python",
   "name": "python3"
  },
  "language_info": {
   "codemirror_mode": {
    "name": "ipython",
    "version": 3
   },
   "file_extension": ".py",
   "mimetype": "text/x-python",
   "name": "python",
   "nbconvert_exporter": "python",
   "pygments_lexer": "ipython3",
   "version": "3.7.6"
  }
 },
 "nbformat": 4,
 "nbformat_minor": 4
}
