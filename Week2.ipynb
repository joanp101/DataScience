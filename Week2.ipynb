{
 "cells": [
  {
   "cell_type": "markdown",
   "metadata": {},
   "source": [
    "# Basic Plotting with matplotlib"
   ]
  },
  {
   "cell_type": "markdown",
   "metadata": {},
   "source": [
    "You can show matplotlib figures directly in the notebook by using the `%matplotlib notebook` and `%matplotlib inline` magic commands. \n",
    "\n",
    "`%matplotlib notebook` provides an interactive environment."
   ]
  },
  {
   "cell_type": "code",
   "execution_count": 1,
   "metadata": {
    "collapsed": false
   },
   "outputs": [],
   "source": [
    "%matplotlib notebook"
   ]
  },
  {
   "cell_type": "code",
   "execution_count": 2,
   "metadata": {
    "collapsed": false
   },
   "outputs": [
    {
     "data": {
      "text/plain": [
       "'nbAgg'"
      ]
     },
     "execution_count": 2,
     "metadata": {},
     "output_type": "execute_result"
    }
   ],
   "source": [
    "import matplotlib as mpl\n",
    "mpl.get_backend()"
   ]
  },
  {
   "cell_type": "code",
   "execution_count": 3,
   "metadata": {
    "collapsed": false
   },
   "outputs": [],
   "source": [
    "import matplotlib.pyplot as plt\n",
    "plt.plot?"
   ]
  },
  {
   "cell_type": "code",
   "execution_count": 4,
   "metadata": {
    "collapsed": false
   },
   "outputs": [
    {
     "data": {
      "application/javascript": [
       "/* Put everything inside the global mpl namespace */\n",
       "window.mpl = {};\n",
       "\n",
       "\n",
       "mpl.get_websocket_type = function() {\n",
       "    if (typeof(WebSocket) !== 'undefined') {\n",
       "        return WebSocket;\n",
       "    } else if (typeof(MozWebSocket) !== 'undefined') {\n",
       "        return MozWebSocket;\n",
       "    } else {\n",
       "        alert('Your browser does not have WebSocket support.' +\n",
       "              'Please try Chrome, Safari or Firefox ≥ 6. ' +\n",
       "              'Firefox 4 and 5 are also supported but you ' +\n",
       "              'have to enable WebSockets in about:config.');\n",
       "    };\n",
       "}\n",
       "\n",
       "mpl.figure = function(figure_id, websocket, ondownload, parent_element) {\n",
       "    this.id = figure_id;\n",
       "\n",
       "    this.ws = websocket;\n",
       "\n",
       "    this.supports_binary = (this.ws.binaryType != undefined);\n",
       "\n",
       "    if (!this.supports_binary) {\n",
       "        var warnings = document.getElementById(\"mpl-warnings\");\n",
       "        if (warnings) {\n",
       "            warnings.style.display = 'block';\n",
       "            warnings.textContent = (\n",
       "                \"This browser does not support binary websocket messages. \" +\n",
       "                    \"Performance may be slow.\");\n",
       "        }\n",
       "    }\n",
       "\n",
       "    this.imageObj = new Image();\n",
       "\n",
       "    this.context = undefined;\n",
       "    this.message = undefined;\n",
       "    this.canvas = undefined;\n",
       "    this.rubberband_canvas = undefined;\n",
       "    this.rubberband_context = undefined;\n",
       "    this.format_dropdown = undefined;\n",
       "\n",
       "    this.image_mode = 'full';\n",
       "\n",
       "    this.root = $('<div/>');\n",
       "    this._root_extra_style(this.root)\n",
       "    this.root.attr('style', 'display: inline-block');\n",
       "\n",
       "    $(parent_element).append(this.root);\n",
       "\n",
       "    this._init_header(this);\n",
       "    this._init_canvas(this);\n",
       "    this._init_toolbar(this);\n",
       "\n",
       "    var fig = this;\n",
       "\n",
       "    this.waiting = false;\n",
       "\n",
       "    this.ws.onopen =  function () {\n",
       "            fig.send_message(\"supports_binary\", {value: fig.supports_binary});\n",
       "            fig.send_message(\"send_image_mode\", {});\n",
       "            if (mpl.ratio != 1) {\n",
       "                fig.send_message(\"set_dpi_ratio\", {'dpi_ratio': mpl.ratio});\n",
       "            }\n",
       "            fig.send_message(\"refresh\", {});\n",
       "        }\n",
       "\n",
       "    this.imageObj.onload = function() {\n",
       "            if (fig.image_mode == 'full') {\n",
       "                // Full images could contain transparency (where diff images\n",
       "                // almost always do), so we need to clear the canvas so that\n",
       "                // there is no ghosting.\n",
       "                fig.context.clearRect(0, 0, fig.canvas.width, fig.canvas.height);\n",
       "            }\n",
       "            fig.context.drawImage(fig.imageObj, 0, 0);\n",
       "        };\n",
       "\n",
       "    this.imageObj.onunload = function() {\n",
       "        this.ws.close();\n",
       "    }\n",
       "\n",
       "    this.ws.onmessage = this._make_on_message_function(this);\n",
       "\n",
       "    this.ondownload = ondownload;\n",
       "}\n",
       "\n",
       "mpl.figure.prototype._init_header = function() {\n",
       "    var titlebar = $(\n",
       "        '<div class=\"ui-dialog-titlebar ui-widget-header ui-corner-all ' +\n",
       "        'ui-helper-clearfix\"/>');\n",
       "    var titletext = $(\n",
       "        '<div class=\"ui-dialog-title\" style=\"width: 100%; ' +\n",
       "        'text-align: center; padding: 3px;\"/>');\n",
       "    titlebar.append(titletext)\n",
       "    this.root.append(titlebar);\n",
       "    this.header = titletext[0];\n",
       "}\n",
       "\n",
       "\n",
       "\n",
       "mpl.figure.prototype._canvas_extra_style = function(canvas_div) {\n",
       "\n",
       "}\n",
       "\n",
       "\n",
       "mpl.figure.prototype._root_extra_style = function(canvas_div) {\n",
       "\n",
       "}\n",
       "\n",
       "mpl.figure.prototype._init_canvas = function() {\n",
       "    var fig = this;\n",
       "\n",
       "    var canvas_div = $('<div/>');\n",
       "\n",
       "    canvas_div.attr('style', 'position: relative; clear: both; outline: 0');\n",
       "\n",
       "    function canvas_keyboard_event(event) {\n",
       "        return fig.key_event(event, event['data']);\n",
       "    }\n",
       "\n",
       "    canvas_div.keydown('key_press', canvas_keyboard_event);\n",
       "    canvas_div.keyup('key_release', canvas_keyboard_event);\n",
       "    this.canvas_div = canvas_div\n",
       "    this._canvas_extra_style(canvas_div)\n",
       "    this.root.append(canvas_div);\n",
       "\n",
       "    var canvas = $('<canvas/>');\n",
       "    canvas.addClass('mpl-canvas');\n",
       "    canvas.attr('style', \"left: 0; top: 0; z-index: 0; outline: 0\")\n",
       "\n",
       "    this.canvas = canvas[0];\n",
       "    this.context = canvas[0].getContext(\"2d\");\n",
       "\n",
       "    var backingStore = this.context.backingStorePixelRatio ||\n",
       "\tthis.context.webkitBackingStorePixelRatio ||\n",
       "\tthis.context.mozBackingStorePixelRatio ||\n",
       "\tthis.context.msBackingStorePixelRatio ||\n",
       "\tthis.context.oBackingStorePixelRatio ||\n",
       "\tthis.context.backingStorePixelRatio || 1;\n",
       "\n",
       "    mpl.ratio = (window.devicePixelRatio || 1) / backingStore;\n",
       "\n",
       "    var rubberband = $('<canvas/>');\n",
       "    rubberband.attr('style', \"position: absolute; left: 0; top: 0; z-index: 1;\")\n",
       "\n",
       "    var pass_mouse_events = true;\n",
       "\n",
       "    canvas_div.resizable({\n",
       "        start: function(event, ui) {\n",
       "            pass_mouse_events = false;\n",
       "        },\n",
       "        resize: function(event, ui) {\n",
       "            fig.request_resize(ui.size.width, ui.size.height);\n",
       "        },\n",
       "        stop: function(event, ui) {\n",
       "            pass_mouse_events = true;\n",
       "            fig.request_resize(ui.size.width, ui.size.height);\n",
       "        },\n",
       "    });\n",
       "\n",
       "    function mouse_event_fn(event) {\n",
       "        if (pass_mouse_events)\n",
       "            return fig.mouse_event(event, event['data']);\n",
       "    }\n",
       "\n",
       "    rubberband.mousedown('button_press', mouse_event_fn);\n",
       "    rubberband.mouseup('button_release', mouse_event_fn);\n",
       "    // Throttle sequential mouse events to 1 every 20ms.\n",
       "    rubberband.mousemove('motion_notify', mouse_event_fn);\n",
       "\n",
       "    rubberband.mouseenter('figure_enter', mouse_event_fn);\n",
       "    rubberband.mouseleave('figure_leave', mouse_event_fn);\n",
       "\n",
       "    canvas_div.on(\"wheel\", function (event) {\n",
       "        event = event.originalEvent;\n",
       "        event['data'] = 'scroll'\n",
       "        if (event.deltaY < 0) {\n",
       "            event.step = 1;\n",
       "        } else {\n",
       "            event.step = -1;\n",
       "        }\n",
       "        mouse_event_fn(event);\n",
       "    });\n",
       "\n",
       "    canvas_div.append(canvas);\n",
       "    canvas_div.append(rubberband);\n",
       "\n",
       "    this.rubberband = rubberband;\n",
       "    this.rubberband_canvas = rubberband[0];\n",
       "    this.rubberband_context = rubberband[0].getContext(\"2d\");\n",
       "    this.rubberband_context.strokeStyle = \"#000000\";\n",
       "\n",
       "    this._resize_canvas = function(width, height) {\n",
       "        // Keep the size of the canvas, canvas container, and rubber band\n",
       "        // canvas in synch.\n",
       "        canvas_div.css('width', width)\n",
       "        canvas_div.css('height', height)\n",
       "\n",
       "        canvas.attr('width', width * mpl.ratio);\n",
       "        canvas.attr('height', height * mpl.ratio);\n",
       "        canvas.attr('style', 'width: ' + width + 'px; height: ' + height + 'px;');\n",
       "\n",
       "        rubberband.attr('width', width);\n",
       "        rubberband.attr('height', height);\n",
       "    }\n",
       "\n",
       "    // Set the figure to an initial 600x600px, this will subsequently be updated\n",
       "    // upon first draw.\n",
       "    this._resize_canvas(600, 600);\n",
       "\n",
       "    // Disable right mouse context menu.\n",
       "    $(this.rubberband_canvas).bind(\"contextmenu\",function(e){\n",
       "        return false;\n",
       "    });\n",
       "\n",
       "    function set_focus () {\n",
       "        canvas.focus();\n",
       "        canvas_div.focus();\n",
       "    }\n",
       "\n",
       "    window.setTimeout(set_focus, 100);\n",
       "}\n",
       "\n",
       "mpl.figure.prototype._init_toolbar = function() {\n",
       "    var fig = this;\n",
       "\n",
       "    var nav_element = $('<div/>')\n",
       "    nav_element.attr('style', 'width: 100%');\n",
       "    this.root.append(nav_element);\n",
       "\n",
       "    // Define a callback function for later on.\n",
       "    function toolbar_event(event) {\n",
       "        return fig.toolbar_button_onclick(event['data']);\n",
       "    }\n",
       "    function toolbar_mouse_event(event) {\n",
       "        return fig.toolbar_button_onmouseover(event['data']);\n",
       "    }\n",
       "\n",
       "    for(var toolbar_ind in mpl.toolbar_items) {\n",
       "        var name = mpl.toolbar_items[toolbar_ind][0];\n",
       "        var tooltip = mpl.toolbar_items[toolbar_ind][1];\n",
       "        var image = mpl.toolbar_items[toolbar_ind][2];\n",
       "        var method_name = mpl.toolbar_items[toolbar_ind][3];\n",
       "\n",
       "        if (!name) {\n",
       "            // put a spacer in here.\n",
       "            continue;\n",
       "        }\n",
       "        var button = $('<button/>');\n",
       "        button.addClass('ui-button ui-widget ui-state-default ui-corner-all ' +\n",
       "                        'ui-button-icon-only');\n",
       "        button.attr('role', 'button');\n",
       "        button.attr('aria-disabled', 'false');\n",
       "        button.click(method_name, toolbar_event);\n",
       "        button.mouseover(tooltip, toolbar_mouse_event);\n",
       "\n",
       "        var icon_img = $('<span/>');\n",
       "        icon_img.addClass('ui-button-icon-primary ui-icon');\n",
       "        icon_img.addClass(image);\n",
       "        icon_img.addClass('ui-corner-all');\n",
       "\n",
       "        var tooltip_span = $('<span/>');\n",
       "        tooltip_span.addClass('ui-button-text');\n",
       "        tooltip_span.html(tooltip);\n",
       "\n",
       "        button.append(icon_img);\n",
       "        button.append(tooltip_span);\n",
       "\n",
       "        nav_element.append(button);\n",
       "    }\n",
       "\n",
       "    var fmt_picker_span = $('<span/>');\n",
       "\n",
       "    var fmt_picker = $('<select/>');\n",
       "    fmt_picker.addClass('mpl-toolbar-option ui-widget ui-widget-content');\n",
       "    fmt_picker_span.append(fmt_picker);\n",
       "    nav_element.append(fmt_picker_span);\n",
       "    this.format_dropdown = fmt_picker[0];\n",
       "\n",
       "    for (var ind in mpl.extensions) {\n",
       "        var fmt = mpl.extensions[ind];\n",
       "        var option = $(\n",
       "            '<option/>', {selected: fmt === mpl.default_extension}).html(fmt);\n",
       "        fmt_picker.append(option)\n",
       "    }\n",
       "\n",
       "    // Add hover states to the ui-buttons\n",
       "    $( \".ui-button\" ).hover(\n",
       "        function() { $(this).addClass(\"ui-state-hover\");},\n",
       "        function() { $(this).removeClass(\"ui-state-hover\");}\n",
       "    );\n",
       "\n",
       "    var status_bar = $('<span class=\"mpl-message\"/>');\n",
       "    nav_element.append(status_bar);\n",
       "    this.message = status_bar[0];\n",
       "}\n",
       "\n",
       "mpl.figure.prototype.request_resize = function(x_pixels, y_pixels) {\n",
       "    // Request matplotlib to resize the figure. Matplotlib will then trigger a resize in the client,\n",
       "    // which will in turn request a refresh of the image.\n",
       "    this.send_message('resize', {'width': x_pixels, 'height': y_pixels});\n",
       "}\n",
       "\n",
       "mpl.figure.prototype.send_message = function(type, properties) {\n",
       "    properties['type'] = type;\n",
       "    properties['figure_id'] = this.id;\n",
       "    this.ws.send(JSON.stringify(properties));\n",
       "}\n",
       "\n",
       "mpl.figure.prototype.send_draw_message = function() {\n",
       "    if (!this.waiting) {\n",
       "        this.waiting = true;\n",
       "        this.ws.send(JSON.stringify({type: \"draw\", figure_id: this.id}));\n",
       "    }\n",
       "}\n",
       "\n",
       "\n",
       "mpl.figure.prototype.handle_save = function(fig, msg) {\n",
       "    var format_dropdown = fig.format_dropdown;\n",
       "    var format = format_dropdown.options[format_dropdown.selectedIndex].value;\n",
       "    fig.ondownload(fig, format);\n",
       "}\n",
       "\n",
       "\n",
       "mpl.figure.prototype.handle_resize = function(fig, msg) {\n",
       "    var size = msg['size'];\n",
       "    if (size[0] != fig.canvas.width || size[1] != fig.canvas.height) {\n",
       "        fig._resize_canvas(size[0], size[1]);\n",
       "        fig.send_message(\"refresh\", {});\n",
       "    };\n",
       "}\n",
       "\n",
       "mpl.figure.prototype.handle_rubberband = function(fig, msg) {\n",
       "    var x0 = msg['x0'] / mpl.ratio;\n",
       "    var y0 = (fig.canvas.height - msg['y0']) / mpl.ratio;\n",
       "    var x1 = msg['x1'] / mpl.ratio;\n",
       "    var y1 = (fig.canvas.height - msg['y1']) / mpl.ratio;\n",
       "    x0 = Math.floor(x0) + 0.5;\n",
       "    y0 = Math.floor(y0) + 0.5;\n",
       "    x1 = Math.floor(x1) + 0.5;\n",
       "    y1 = Math.floor(y1) + 0.5;\n",
       "    var min_x = Math.min(x0, x1);\n",
       "    var min_y = Math.min(y0, y1);\n",
       "    var width = Math.abs(x1 - x0);\n",
       "    var height = Math.abs(y1 - y0);\n",
       "\n",
       "    fig.rubberband_context.clearRect(\n",
       "        0, 0, fig.canvas.width, fig.canvas.height);\n",
       "\n",
       "    fig.rubberband_context.strokeRect(min_x, min_y, width, height);\n",
       "}\n",
       "\n",
       "mpl.figure.prototype.handle_figure_label = function(fig, msg) {\n",
       "    // Updates the figure title.\n",
       "    fig.header.textContent = msg['label'];\n",
       "}\n",
       "\n",
       "mpl.figure.prototype.handle_cursor = function(fig, msg) {\n",
       "    var cursor = msg['cursor'];\n",
       "    switch(cursor)\n",
       "    {\n",
       "    case 0:\n",
       "        cursor = 'pointer';\n",
       "        break;\n",
       "    case 1:\n",
       "        cursor = 'default';\n",
       "        break;\n",
       "    case 2:\n",
       "        cursor = 'crosshair';\n",
       "        break;\n",
       "    case 3:\n",
       "        cursor = 'move';\n",
       "        break;\n",
       "    }\n",
       "    fig.rubberband_canvas.style.cursor = cursor;\n",
       "}\n",
       "\n",
       "mpl.figure.prototype.handle_message = function(fig, msg) {\n",
       "    fig.message.textContent = msg['message'];\n",
       "}\n",
       "\n",
       "mpl.figure.prototype.handle_draw = function(fig, msg) {\n",
       "    // Request the server to send over a new figure.\n",
       "    fig.send_draw_message();\n",
       "}\n",
       "\n",
       "mpl.figure.prototype.handle_image_mode = function(fig, msg) {\n",
       "    fig.image_mode = msg['mode'];\n",
       "}\n",
       "\n",
       "mpl.figure.prototype.updated_canvas_event = function() {\n",
       "    // Called whenever the canvas gets updated.\n",
       "    this.send_message(\"ack\", {});\n",
       "}\n",
       "\n",
       "// A function to construct a web socket function for onmessage handling.\n",
       "// Called in the figure constructor.\n",
       "mpl.figure.prototype._make_on_message_function = function(fig) {\n",
       "    return function socket_on_message(evt) {\n",
       "        if (evt.data instanceof Blob) {\n",
       "            /* FIXME: We get \"Resource interpreted as Image but\n",
       "             * transferred with MIME type text/plain:\" errors on\n",
       "             * Chrome.  But how to set the MIME type?  It doesn't seem\n",
       "             * to be part of the websocket stream */\n",
       "            evt.data.type = \"image/png\";\n",
       "\n",
       "            /* Free the memory for the previous frames */\n",
       "            if (fig.imageObj.src) {\n",
       "                (window.URL || window.webkitURL).revokeObjectURL(\n",
       "                    fig.imageObj.src);\n",
       "            }\n",
       "\n",
       "            fig.imageObj.src = (window.URL || window.webkitURL).createObjectURL(\n",
       "                evt.data);\n",
       "            fig.updated_canvas_event();\n",
       "            fig.waiting = false;\n",
       "            return;\n",
       "        }\n",
       "        else if (typeof evt.data === 'string' && evt.data.slice(0, 21) == \"data:image/png;base64\") {\n",
       "            fig.imageObj.src = evt.data;\n",
       "            fig.updated_canvas_event();\n",
       "            fig.waiting = false;\n",
       "            return;\n",
       "        }\n",
       "\n",
       "        var msg = JSON.parse(evt.data);\n",
       "        var msg_type = msg['type'];\n",
       "\n",
       "        // Call the  \"handle_{type}\" callback, which takes\n",
       "        // the figure and JSON message as its only arguments.\n",
       "        try {\n",
       "            var callback = fig[\"handle_\" + msg_type];\n",
       "        } catch (e) {\n",
       "            console.log(\"No handler for the '\" + msg_type + \"' message type: \", msg);\n",
       "            return;\n",
       "        }\n",
       "\n",
       "        if (callback) {\n",
       "            try {\n",
       "                // console.log(\"Handling '\" + msg_type + \"' message: \", msg);\n",
       "                callback(fig, msg);\n",
       "            } catch (e) {\n",
       "                console.log(\"Exception inside the 'handler_\" + msg_type + \"' callback:\", e, e.stack, msg);\n",
       "            }\n",
       "        }\n",
       "    };\n",
       "}\n",
       "\n",
       "// from http://stackoverflow.com/questions/1114465/getting-mouse-location-in-canvas\n",
       "mpl.findpos = function(e) {\n",
       "    //this section is from http://www.quirksmode.org/js/events_properties.html\n",
       "    var targ;\n",
       "    if (!e)\n",
       "        e = window.event;\n",
       "    if (e.target)\n",
       "        targ = e.target;\n",
       "    else if (e.srcElement)\n",
       "        targ = e.srcElement;\n",
       "    if (targ.nodeType == 3) // defeat Safari bug\n",
       "        targ = targ.parentNode;\n",
       "\n",
       "    // jQuery normalizes the pageX and pageY\n",
       "    // pageX,Y are the mouse positions relative to the document\n",
       "    // offset() returns the position of the element relative to the document\n",
       "    var x = e.pageX - $(targ).offset().left;\n",
       "    var y = e.pageY - $(targ).offset().top;\n",
       "\n",
       "    return {\"x\": x, \"y\": y};\n",
       "};\n",
       "\n",
       "/*\n",
       " * return a copy of an object with only non-object keys\n",
       " * we need this to avoid circular references\n",
       " * http://stackoverflow.com/a/24161582/3208463\n",
       " */\n",
       "function simpleKeys (original) {\n",
       "  return Object.keys(original).reduce(function (obj, key) {\n",
       "    if (typeof original[key] !== 'object')\n",
       "        obj[key] = original[key]\n",
       "    return obj;\n",
       "  }, {});\n",
       "}\n",
       "\n",
       "mpl.figure.prototype.mouse_event = function(event, name) {\n",
       "    var canvas_pos = mpl.findpos(event)\n",
       "\n",
       "    if (name === 'button_press')\n",
       "    {\n",
       "        this.canvas.focus();\n",
       "        this.canvas_div.focus();\n",
       "    }\n",
       "\n",
       "    var x = canvas_pos.x * mpl.ratio;\n",
       "    var y = canvas_pos.y * mpl.ratio;\n",
       "\n",
       "    this.send_message(name, {x: x, y: y, button: event.button,\n",
       "                             step: event.step,\n",
       "                             guiEvent: simpleKeys(event)});\n",
       "\n",
       "    /* This prevents the web browser from automatically changing to\n",
       "     * the text insertion cursor when the button is pressed.  We want\n",
       "     * to control all of the cursor setting manually through the\n",
       "     * 'cursor' event from matplotlib */\n",
       "    event.preventDefault();\n",
       "    return false;\n",
       "}\n",
       "\n",
       "mpl.figure.prototype._key_event_extra = function(event, name) {\n",
       "    // Handle any extra behaviour associated with a key event\n",
       "}\n",
       "\n",
       "mpl.figure.prototype.key_event = function(event, name) {\n",
       "\n",
       "    // Prevent repeat events\n",
       "    if (name == 'key_press')\n",
       "    {\n",
       "        if (event.which === this._key)\n",
       "            return;\n",
       "        else\n",
       "            this._key = event.which;\n",
       "    }\n",
       "    if (name == 'key_release')\n",
       "        this._key = null;\n",
       "\n",
       "    var value = '';\n",
       "    if (event.ctrlKey && event.which != 17)\n",
       "        value += \"ctrl+\";\n",
       "    if (event.altKey && event.which != 18)\n",
       "        value += \"alt+\";\n",
       "    if (event.shiftKey && event.which != 16)\n",
       "        value += \"shift+\";\n",
       "\n",
       "    value += 'k';\n",
       "    value += event.which.toString();\n",
       "\n",
       "    this._key_event_extra(event, name);\n",
       "\n",
       "    this.send_message(name, {key: value,\n",
       "                             guiEvent: simpleKeys(event)});\n",
       "    return false;\n",
       "}\n",
       "\n",
       "mpl.figure.prototype.toolbar_button_onclick = function(name) {\n",
       "    if (name == 'download') {\n",
       "        this.handle_save(this, null);\n",
       "    } else {\n",
       "        this.send_message(\"toolbar_button\", {name: name});\n",
       "    }\n",
       "};\n",
       "\n",
       "mpl.figure.prototype.toolbar_button_onmouseover = function(tooltip) {\n",
       "    this.message.textContent = tooltip;\n",
       "};\n",
       "mpl.toolbar_items = [[\"Home\", \"Reset original view\", \"fa fa-home icon-home\", \"home\"], [\"Back\", \"Back to  previous view\", \"fa fa-arrow-left icon-arrow-left\", \"back\"], [\"Forward\", \"Forward to next view\", \"fa fa-arrow-right icon-arrow-right\", \"forward\"], [\"\", \"\", \"\", \"\"], [\"Pan\", \"Pan axes with left mouse, zoom with right\", \"fa fa-arrows icon-move\", \"pan\"], [\"Zoom\", \"Zoom to rectangle\", \"fa fa-square-o icon-check-empty\", \"zoom\"], [\"\", \"\", \"\", \"\"], [\"Download\", \"Download plot\", \"fa fa-floppy-o icon-save\", \"download\"]];\n",
       "\n",
       "mpl.extensions = [\"eps\", \"jpeg\", \"pdf\", \"png\", \"ps\", \"raw\", \"svg\", \"tif\"];\n",
       "\n",
       "mpl.default_extension = \"png\";var comm_websocket_adapter = function(comm) {\n",
       "    // Create a \"websocket\"-like object which calls the given IPython comm\n",
       "    // object with the appropriate methods. Currently this is a non binary\n",
       "    // socket, so there is still some room for performance tuning.\n",
       "    var ws = {};\n",
       "\n",
       "    ws.close = function() {\n",
       "        comm.close()\n",
       "    };\n",
       "    ws.send = function(m) {\n",
       "        //console.log('sending', m);\n",
       "        comm.send(m);\n",
       "    };\n",
       "    // Register the callback with on_msg.\n",
       "    comm.on_msg(function(msg) {\n",
       "        //console.log('receiving', msg['content']['data'], msg);\n",
       "        // Pass the mpl event to the overriden (by mpl) onmessage function.\n",
       "        ws.onmessage(msg['content']['data'])\n",
       "    });\n",
       "    return ws;\n",
       "}\n",
       "\n",
       "mpl.mpl_figure_comm = function(comm, msg) {\n",
       "    // This is the function which gets called when the mpl process\n",
       "    // starts-up an IPython Comm through the \"matplotlib\" channel.\n",
       "\n",
       "    var id = msg.content.data.id;\n",
       "    // Get hold of the div created by the display call when the Comm\n",
       "    // socket was opened in Python.\n",
       "    var element = $(\"#\" + id);\n",
       "    var ws_proxy = comm_websocket_adapter(comm)\n",
       "\n",
       "    function ondownload(figure, format) {\n",
       "        window.open(figure.imageObj.src);\n",
       "    }\n",
       "\n",
       "    var fig = new mpl.figure(id, ws_proxy,\n",
       "                           ondownload,\n",
       "                           element.get(0));\n",
       "\n",
       "    // Call onopen now - mpl needs it, as it is assuming we've passed it a real\n",
       "    // web socket which is closed, not our websocket->open comm proxy.\n",
       "    ws_proxy.onopen();\n",
       "\n",
       "    fig.parent_element = element.get(0);\n",
       "    fig.cell_info = mpl.find_output_cell(\"<div id='\" + id + \"'></div>\");\n",
       "    if (!fig.cell_info) {\n",
       "        console.error(\"Failed to find cell for figure\", id, fig);\n",
       "        return;\n",
       "    }\n",
       "\n",
       "    var output_index = fig.cell_info[2]\n",
       "    var cell = fig.cell_info[0];\n",
       "\n",
       "};\n",
       "\n",
       "mpl.figure.prototype.handle_close = function(fig, msg) {\n",
       "    var width = fig.canvas.width/mpl.ratio\n",
       "    fig.root.unbind('remove')\n",
       "\n",
       "    // Update the output cell to use the data from the current canvas.\n",
       "    fig.push_to_output();\n",
       "    var dataURL = fig.canvas.toDataURL();\n",
       "    // Re-enable the keyboard manager in IPython - without this line, in FF,\n",
       "    // the notebook keyboard shortcuts fail.\n",
       "    IPython.keyboard_manager.enable()\n",
       "    $(fig.parent_element).html('<img src=\"' + dataURL + '\" width=\"' + width + '\">');\n",
       "    fig.close_ws(fig, msg);\n",
       "}\n",
       "\n",
       "mpl.figure.prototype.close_ws = function(fig, msg){\n",
       "    fig.send_message('closing', msg);\n",
       "    // fig.ws.close()\n",
       "}\n",
       "\n",
       "mpl.figure.prototype.push_to_output = function(remove_interactive) {\n",
       "    // Turn the data on the canvas into data in the output cell.\n",
       "    var width = this.canvas.width/mpl.ratio\n",
       "    var dataURL = this.canvas.toDataURL();\n",
       "    this.cell_info[1]['text/html'] = '<img src=\"' + dataURL + '\" width=\"' + width + '\">';\n",
       "}\n",
       "\n",
       "mpl.figure.prototype.updated_canvas_event = function() {\n",
       "    // Tell IPython that the notebook contents must change.\n",
       "    IPython.notebook.set_dirty(true);\n",
       "    this.send_message(\"ack\", {});\n",
       "    var fig = this;\n",
       "    // Wait a second, then push the new image to the DOM so\n",
       "    // that it is saved nicely (might be nice to debounce this).\n",
       "    setTimeout(function () { fig.push_to_output() }, 1000);\n",
       "}\n",
       "\n",
       "mpl.figure.prototype._init_toolbar = function() {\n",
       "    var fig = this;\n",
       "\n",
       "    var nav_element = $('<div/>')\n",
       "    nav_element.attr('style', 'width: 100%');\n",
       "    this.root.append(nav_element);\n",
       "\n",
       "    // Define a callback function for later on.\n",
       "    function toolbar_event(event) {\n",
       "        return fig.toolbar_button_onclick(event['data']);\n",
       "    }\n",
       "    function toolbar_mouse_event(event) {\n",
       "        return fig.toolbar_button_onmouseover(event['data']);\n",
       "    }\n",
       "\n",
       "    for(var toolbar_ind in mpl.toolbar_items){\n",
       "        var name = mpl.toolbar_items[toolbar_ind][0];\n",
       "        var tooltip = mpl.toolbar_items[toolbar_ind][1];\n",
       "        var image = mpl.toolbar_items[toolbar_ind][2];\n",
       "        var method_name = mpl.toolbar_items[toolbar_ind][3];\n",
       "\n",
       "        if (!name) { continue; };\n",
       "\n",
       "        var button = $('<button class=\"btn btn-default\" href=\"#\" title=\"' + name + '\"><i class=\"fa ' + image + ' fa-lg\"></i></button>');\n",
       "        button.click(method_name, toolbar_event);\n",
       "        button.mouseover(tooltip, toolbar_mouse_event);\n",
       "        nav_element.append(button);\n",
       "    }\n",
       "\n",
       "    // Add the status bar.\n",
       "    var status_bar = $('<span class=\"mpl-message\" style=\"text-align:right; float: right;\"/>');\n",
       "    nav_element.append(status_bar);\n",
       "    this.message = status_bar[0];\n",
       "\n",
       "    // Add the close button to the window.\n",
       "    var buttongrp = $('<div class=\"btn-group inline pull-right\"></div>');\n",
       "    var button = $('<button class=\"btn btn-mini btn-primary\" href=\"#\" title=\"Stop Interaction\"><i class=\"fa fa-power-off icon-remove icon-large\"></i></button>');\n",
       "    button.click(function (evt) { fig.handle_close(fig, {}); } );\n",
       "    button.mouseover('Stop Interaction', toolbar_mouse_event);\n",
       "    buttongrp.append(button);\n",
       "    var titlebar = this.root.find($('.ui-dialog-titlebar'));\n",
       "    titlebar.prepend(buttongrp);\n",
       "}\n",
       "\n",
       "mpl.figure.prototype._root_extra_style = function(el){\n",
       "    var fig = this\n",
       "    el.on(\"remove\", function(){\n",
       "\tfig.close_ws(fig, {});\n",
       "    });\n",
       "}\n",
       "\n",
       "mpl.figure.prototype._canvas_extra_style = function(el){\n",
       "    // this is important to make the div 'focusable\n",
       "    el.attr('tabindex', 0)\n",
       "    // reach out to IPython and tell the keyboard manager to turn it's self\n",
       "    // off when our div gets focus\n",
       "\n",
       "    // location in version 3\n",
       "    if (IPython.notebook.keyboard_manager) {\n",
       "        IPython.notebook.keyboard_manager.register_events(el);\n",
       "    }\n",
       "    else {\n",
       "        // location in version 2\n",
       "        IPython.keyboard_manager.register_events(el);\n",
       "    }\n",
       "\n",
       "}\n",
       "\n",
       "mpl.figure.prototype._key_event_extra = function(event, name) {\n",
       "    var manager = IPython.notebook.keyboard_manager;\n",
       "    if (!manager)\n",
       "        manager = IPython.keyboard_manager;\n",
       "\n",
       "    // Check for shift+enter\n",
       "    if (event.shiftKey && event.which == 13) {\n",
       "        this.canvas_div.blur();\n",
       "        // select the cell after this one\n",
       "        var index = IPython.notebook.find_cell_index(this.cell_info[0]);\n",
       "        IPython.notebook.select(index + 1);\n",
       "    }\n",
       "}\n",
       "\n",
       "mpl.figure.prototype.handle_save = function(fig, msg) {\n",
       "    fig.ondownload(fig, null);\n",
       "}\n",
       "\n",
       "\n",
       "mpl.find_output_cell = function(html_output) {\n",
       "    // Return the cell and output element which can be found *uniquely* in the notebook.\n",
       "    // Note - this is a bit hacky, but it is done because the \"notebook_saving.Notebook\"\n",
       "    // IPython event is triggered only after the cells have been serialised, which for\n",
       "    // our purposes (turning an active figure into a static one), is too late.\n",
       "    var cells = IPython.notebook.get_cells();\n",
       "    var ncells = cells.length;\n",
       "    for (var i=0; i<ncells; i++) {\n",
       "        var cell = cells[i];\n",
       "        if (cell.cell_type === 'code'){\n",
       "            for (var j=0; j<cell.output_area.outputs.length; j++) {\n",
       "                var data = cell.output_area.outputs[j];\n",
       "                if (data.data) {\n",
       "                    // IPython >= 3 moved mimebundle to data attribute of output\n",
       "                    data = data.data;\n",
       "                }\n",
       "                if (data['text/html'] == html_output) {\n",
       "                    return [cell, data, j];\n",
       "                }\n",
       "            }\n",
       "        }\n",
       "    }\n",
       "}\n",
       "\n",
       "// Register the function which deals with the matplotlib target/channel.\n",
       "// The kernel may be null if the page has been refreshed.\n",
       "if (IPython.notebook.kernel != null) {\n",
       "    IPython.notebook.kernel.comm_manager.register_target('matplotlib', mpl.mpl_figure_comm);\n",
       "}\n"
      ],
      "text/plain": [
       "<IPython.core.display.Javascript object>"
      ]
     },
     "metadata": {},
     "output_type": "display_data"
    },
    {
     "data": {
      "text/html": [
       "<img src=\"data:image/png;base64,iVBORw0KGgoAAAANSUhEUgAAAsAAAAIQCAYAAACPEdjAAAAgAElEQVR4Xu3dCZh0VX3n8S+rLA6CAcLyyqIgEVEREAQlBkZQDGJEERAG45OYEYiyI4IERKJGligCEeIgGhBZBLdBEJlANCCgsg2ggIA0iAhxRjDDKszzn5war2V1V1X3rfp39fne53l9peve+6/7qXP6/fXpc89dDDcFFFBAAQUUUEABBSoSWKyia/VSFVBAAQUUUEABBRTAAGwjUEABBRRQQAEFFKhKwABc1cftxSqggAIKKKCAAgoYgG0DCiiggAIKKKCAAlUJGICr+ri9WAUUUEABBRRQQAEDsG1AAQUUUEABBRRQoCoBA3BVH7cXq4ACCiiggAIKKGAAtg0ooIACCiiggAIKVCVgAK7q4/ZiFVBAAQUUUEABBQzAtgEFFFBAAQUUUECBqgQMwFV93F6sAgoooIACCiiggAHYNqCAAgoooIACCihQlYABuKqP24tVQAEFFFBAAQUUMADbBhRQQAEFFFBAAQWqEjAAV/Vxe7EKKKCAAgoooIACBmDbgAIKKKCAAgoooEBVAgbgqj5uL1YBBRRQQAEFFFDAAGwbUEABBRRQQAEFFKhKwABc1cftxSqggAIKKKCAAgoYgG0DCiiggAIKKKCAAlUJGICr+ri9WAUUUEABBRRQQAEDsG1AAQUUUEABBRRQoCoBA3BVH7cXq4ACCiiggAIKKGAAtg0ooIACCiiggAIKVCVgAK7q4/ZiFVBAAQUUUEABBQzAtgEFFFBAAQUUUECBqgQMwFV93F6sAgoooIACCiiggAHYNqCAAgoooIACCihQlYABuKqP24tVQAEFFFBAAQUUMADbBhRQQAEFFFBAAQWqEjAAV/Vxe7EKKKCAAgoooIACBmDbgAIKKKCAAgoooEBVAgbgqj5uL1YBBRRQQAEFFFDAAGwbUEABBRRQQAEFFKhKwABc1cftxSqggAIKKKCAAgoYgG0DCiiggAIKKKCAAlUJGICr+ri9WAUUUEABBRRQQAEDsG1AAQUUUEABBRRQoCoBA3BVH7cXq4ACCiiggAIKKGAAtg0ooIACCiiggAIKVCVgAK7q4/ZiFVBAAQUUUEABBQzAtgEFFFBAAQUUUECBqgQMwFV93F6sAgoooIACCiiggAHYNqCAAgoooIACCihQlYABuKqP24tVQAEFFFBAAQUUMADbBhRQQAEFFFBAAQWqEjAAV/Vxe7EKKKCAAgoooIACBmDbgAIKKKCAAgoooEBVAgbgqj5uL1YBBRRQQAEFFFDAAGwbUEABBRRQQAEFFKhKwABc1cftxSqggAIKKKCAAgoYgG0DCiiggAIKKKCAAlUJGICr+ri9WAUUUEABBRRQQAEDsG1AAQUUUEABBRRQoCoBA3BVH7cXq4ACCiiggAIKKGAAtg0ooIACCiiggAIKVCVgAK7q4/ZiFVBAAQUUUEABBQzAtgEFFFBAAQUUUECBqgQMwFV93F6sAgoooIACCiiggAHYNqCAAgoooIACCihQlYABuKqP24tVQAEFFFBAAQUUMACPtg08B3gZ8BDwm9GW8uwKKKCAAgoooMDvCCwBrALcDDyhzW8FDMCjbQ2bAdeNtoRnV0ABBRRQQAEFZhR4FfB9jQzA42oDawP3XHvttay++urjqmkdBRRQQAEFFFCABx54gM033zwk1gF+KokBeFxtYBEwNTU1xaJF8X/dFFBAAQUUUECB8Qjcd999vOAFL4hi8T/3jafqZFRxCsRoPycD8Gh9PbsCCiiggAIKTCNgAJ6+aRiAR9ttDMCj9fXsCiiggAIKKGAAHroNGICHJhvqAAPwUFzurIACCiiggAJtCTgC7AhwW21p2PMYgIcVc38FFFBAAQUUaEXAAGwAbqUhzeIkBuBZoHmIAgoooIACCsxdwABsAJ57K5rdGQzAs3PzKAUUUEABBRSYo4AB2AA8xyY068MNwLOm80AFFFBAAQUUmIuAAdgAPJf2M5djDcBz0fNYBRRQQAEFFJi1gAHYADzrxjPHAw3AcwT0cAUUUEABBRSYnYAB2AA8u5Yz96MMwHM39AwKKKCAAgooMAsBA/DkBOBdgD2BTYGVgDuAk4DPAc/O8NnvA7wJ2AJYGYjzXNBj/zWATwPbA08BFwIHAo907ftm4FhgA+Be4GPlPQzb/AzAw4q5vwIKKKCAAgq0ImAAnpwAfDVwD/AV4CFgO+BQ4BjgwzO0hu+V134M7DVNAF4K+GHZ73BgOeB44EZgx8a5XwtcAXwWOBfYFjgCeMc0oXqmRmoAbqULexIFFFBAAQUUGFbAADw5AThGbx/uerunA7uWEeFnprmUxYF4bR3g7mkC8O7A2cBLgAjKscVI8KVl5Pja8rX47+cCr2nU+iKwMbDhkI3PADwkmLsroIACCiigQDsCBuDJCcC93unewKnACsCjfZrETAH4C8DLS5DtnCYeBR2BO6ZFHA08p9SIUedPNmrtBHwVWLeMUA/aMg3Ag0q5nwIKKKCAAgq0KmAAnuwAHKO2rwMiTPbbZgrAMcJ7F7Bb10n+FZgqX48R3luAHYBLGvutD9ze4+v93o8BuJ+QryuggAIKKKDASAQMwJMbgGM+7pXAQV0jstNd0UwBOG6ouxx4b9fB3wCWLtMhYtrDd4Etgc684tg9pmbEnOQ9gJgOMd0Wo9Txp7OtBlw3NTXFokWD5PeRtH9PqoACCiiggAIVChiAJzMAR2K8BrithNPp5v82ry47AMc0iqO6uQ3AFX7X8ZIVUEABBRRIFjAAT14AXhH4Tln6bGvgVwO2oX5TIH4CxM1wza3XFIg3lpvjOvsNOgXCEeABPyh3U0ABBRRQQIHRChiAJysALwtcBqxVpiLcP0Tz6HcT3MuAVzbOFzfBxdSGk7tugjsE+FRjv1gX+GveBDfEJ+GuCiiggAIKKJAqYACenAC8JHARsBUQI7+3DtlyBlkGLR5uEfOBY3t9CdvxAI3mMmixRnDU72xnAZu4DNqQn4a7K6CAAgoooECagAF4cgJwrPn7nnLT21Vdb/t64IlyI9vawHqN1zcrawCvUpZMO6HcxBaju3ETXWydB2HEE+WaD8K4aZoHYcR7OQ/YBjiyrEV8/pCt2FUghgRzdwUUUEABBRRoR8AAPDkBOJ4CF+G219ZZgzee0hYjvfGns50JvKvHQRF+/6Tx9TXLo5XjARhPl0chH9DjUcix7m/3o5DPmEVzNADPAs1DFFBAAQUUUGDuAgbgyQnAc/+059cZDMDz6/Pw3SiggAIKKFCNgAHYAJzV2A3AWfLWVUABBRRQoHIBA7ABOKsLGICz5K2rgAIKKKBA5QIGYANwVhcwAGfJW1cBBRRQQIHKBQzABuCsLmAAzpK3rgIKKKCAApULGIANwFldwACcJW9dBRRQQAEFKhcwABuAs7qAAThL3roKKKCAAgpULmAANgBndQEDcJa8dRVQQAEFFKhcwABsAM7qAgbgLHnrKqCAAgooULmAAdgAnNUFDMBZ8tZVQAEFFFCgcgEDsAE4qwsYgLPkrauAAgoooEDlAgZgA3BWFzAAZ8lbVwEFFFBAgcoFDMAG4KwuYADOkreuAgoooIAClQsYgA3AWV3AAJwlb10FFFBAAQUqFzAAG4CzuoABOEveugoooIACClQuYAA2AGd1AQNwlrx1FVBAAQUUqFzAAGwAzuoCBuAseesqoIACCihQuYAB2ACc1QUMwFny1lVAAQUUUKByAQOwATirCxiAs+Stq4ACCiigQOUCBmADcFYXMABnyVtXAQUUUECBygUMwAbgrC5gAM6St64CCiiggAKVCxiADcBZXcAAnCVvXQUUUEABBSoXMAAbgLO6gAE4S966CiiggAIKVC5gADYAZ3UBA3CWvHUVUEABBRSoXMAAbADO6gIG4Cx56yqggAIKKFC5gAHYAJzVBQzAWfLWVUABBRRQoHIBA7ABOKsLGICz5K2rgAIKKKBA5QIGYANwVhcwAGfJW1cBBRRQQIHKBQzABuCsLmAAzpK3rgIKKKCAApULGIANwFldwACcJW9dBRRQQAEFKhcwABuAs7qAAThL3roKKKCAAgpULmAANgBndQEDcJa8dRVQQAEFFKhcwABsAM7qAgbgLHnrKqCAAgooULmAAdgAnNUFDMBZ8tZVQAEFFFCgcgED8OQE4F2APYFNgZWAO4CTgM8Bz87QjhcDPgDsA6wC3AAcAHyvccyZwLumOccHgY+X16bbbwfgkiH7kgF4SDB3V0ABBRRQQIF2BAzAkxOArwbuAb4CPARsBxwKHAN8eIbmcFh5Pf6+CdgXeD2wMXBXOe5FJRw3T7MrsH/Z78ZGAN4a2KOr3m3Ar4ZskgbgIcHcXQEFFFBAAQXaETAAT04AXhl4uOvtng5EUI0R4Wd6XMoywIPAKcDh5fWlgduBi8uo8HQCV5RQ/NLGDjECvBmwUQvNzwDcAqKnUEABBRRQQIHhBQzAkxOAe73TvYFTgRWAR3vssC1wOfDKMvWhs8uJwM7AOtNc/prAvcCRwEcNwMN3LI9QQAEFFFBAgfkrYACe7AB8NvA6IEZTe20x7zdGf5cFHm/s8B7gNGB54LEeBx4MHAe8ELi7KwDvBjxRznkz8JEyLWPYVu4I8LBi7q+AAgoooIACrQgYgCc3AL8WuBI4CPjkNJdxRBnFjakQze3twPlAjPT+rMexPyyBeauu1/YDngZuAVYEYgR6eyBu0LugT4uMUer409lWA66bmppi0aLp8nsrbdyTKKCAAgoooIACvyNgAJ7MAByJ8Rogbj6LANpr/m9c2WwC8B+V874POLlPf1kcuKoE2w377Hs0cFT3PgZgvyMpoIACCiigwLgFDMCTF4Bj5PU7ZemzWJFhptUXZjMFIqY0xIoRa5TVJvq1yUOATwDLTTOdonO8I8D9JH1dAQUUUEABBcYiYACerAAcc3kvA9YCtgTu79NKOjfBxZJnnaXM4pATgLdNcxPcnWWN4Vjbd5Bt0ADcfS7nAA+i6z4KKKCAAgoo0LqAAXhyAvCSwEVAzMuNkd9bB2gNnWXQPg18qOy/VFkG7Zs9lkHbojwgYy/gnwY4f0yBiAdqxOjvsEujGYAHAHYXBRRQQAEFFGhfwAA8OQE41vyN1RvipreYd9vcri8rM8SSZ2sD6zVejOkMMf82ngYXqzbEtIiYN9x8EEZn90+VGqsCv+6qEef9PHAOEKPEsfZw3AS3TRlNjnA+zGYAHkbLfRVQQAEFFFCgNQED8OQE4HgKXITQXtu65Slx8fCKWNu3ub5vPAo5QnD3o5DjyXLNbQngPuBfysM1uus8vzx2eRMgAvKTwPfLY5IvnUWLNADPAs1DFFBAAQUUUGDuAgbgyQnAc/+059cZDMDz6/Pw3SiggAIKKFCNgAHYAJzV2A3AWfLWVUABBRRQoHIBA7ABOKsLGICz5K2rgAIKKKBA5QIGYANwVhcwAGfJW1cBBRRQQIHKBQzABuCsLmAAzpK3rgIKKKCAApULGIANwFldwACcJW9dBRRQQAEFKhcwABuAs7qAAThL3roKKKCAAgpULmAANgBndQEDcJa8dRVQQAEFFKhcwABsAM7qAgbgLHnrKqCAAgooULmAAdgAnNUFDMBZ8tZVQAEFFFCgcgEDsAE4qwsYgLPkrauAAgoooEDlAgZgA3BWFzAAZ8lbVwEFFFBAgcoFDMAG4KwuYADOkreuAgoooIAClQsYgA3AWV3AAJwlb10FFFBAAQUqFzAAG4CzuoABOEveugoooIACClQuYAA2AGd1AQNwlrx1FVBAAQUUqFzAAGwAzuoCBuAseesqoIACCihQuYAB2ACc1QUMwFny1lVAAQUUUKByAQOwATirCxiAs+Stq4ACCiigQOUCBmADcFYXMABnyVtXAQUUUECBygUMwAbgrC5gAM6St64CCiiggAKVCxiADcBZXcAAnCVvXQUUUEABBSoXMAAbgLO6gAE4S966CiiggAIKVC5gADYAZ3UBA3CWvHUVUEABBRSoXMAAbADO6gIG4Cx56yqggAIKKFC5gAHYAJzVBQzAWfLWVUABBRRQoHIBA7ABOKsLGICz5K2rgAIKKKBA5QIGYANwVhcwAGfJW1cBBRRQQIHKBQzABuCsLmAAzpK3rgIKKKCAApULGIANwFldwACcJW9dBRRQQAEFKhcwABuAs7qAAThL3roKKKCAAgpULmAANgBndQEDcJa8dRVQQAEFFKhcwABsAM7qAgbgLHnrKqCAAgooULmAAdgAnNUFDMBZ8tZVQAEFFFCgcgED8OQE4F2APYFNgZWAO4CTgM8Bz87QjhcDPgDsA6wC3AAcAHyvccyfAP/c4xznArt1ff3NwLHABsC9wMfKexi2KxmAhxVzfwUUUEABBRRoRcAAPDkB+GrgHuArwEPAdsChwDHAh2doDYeV1+Pvm4B9gdcDGwN3leM6AfjdwI8a53oYuLPx368FrgA+C0Q43hY4AngHcMGQLdIAPCSYuyuggAIKKKBAOwIG4MkJwCsDEUib2+nArmVE+Jkel7IM8CBwCnB4eX1p4Hbg4jIqHF/uBOBXAd+foWldCjwXeE1jny+WML3hkE3SADwkmLsroIACCiigQDsCBuDJCcC93unewKnACsCjPXaIEdrLgVeWqQ+dXU4EdgbWKV8YJAA/p9SIUedPNmrtBHwVWLeMUA/aMg3Ag0q5nwIKKKCAAgq0KmAAnuwAfDbwOiDCZK8t5v3G6O+ywOONHd4DnAYsDzzWGAGOqRV/ADwAnAP8TXk9Do0R3luAHYBLGudav4wod3+9X0M1APcT8nUFFFBAAQUUGImAAXhyA3DMx70SOKhrRLZ5RTE/90ggpkI0t7cD5wNrAj8rI8Rxs9u/lMAbI8cHA98GdiwHxrSH7wJbdt1AF1MzIjjvAcR0iOm2GKWOP51tNeC6qakpFi2aLr+PpM17UgUUUEABBRSoXMAAPJkBOBLjNcBtwPZAr/m/cWWDBuBeCnGz3MnAFsC1Zd7vXALw0cBR3YUMwJV/B/LyFVBAAQUUSBAwAE9eAF4R+E5Z+mxr4FcztJtBp0D0OkUsmfaLcqPcPzSmQLwRiJvhOtugUyAcAU7o4JZUQAEFFFBAgd8XMABPVgCOubyXAWuVqQj392nUnZvgYsmzGxv7ngC8rXET3CABuHMT3CHApxoHxLrAX/MmOL+9KKCAAgoooMCkCBiAJycALwlcBGwFxMjvrQM0ss4yaJ8GPlT2X6rctPbNxjJovU71vvKgjebSaDHyu1yp3znmLGCTMkI8wFv6/7t4E9wwWu6rgAIKKKCAAq0JGIAnJwDHmr+xekPc9HZV19u+HniiLHm2NrBe4/V4AEbMv42nwd1cQm/MG24+CCNCbDzw4odltYgYOY6nxcVawW9tnKvzIIx4L+cB25Sb7GIt4ripbpjNADyMlvsqoIACCiigQGsCBuDJCcDxFLgIt722zhq88ZS2WNu3s75v7BuPQo4Q3P0o5HiyXGf7YFnFIc4fUx3uLis6xGOOn+wqGOv+dj8K+YxZtEgD8CzQPEQBBRRQQAEF5i5gAJ6cADz3T3t+ncEAPL8+D9+NAgoooIAC1QgYgA3AWY3dAJwlb10FFFBAAQUqFzAAG4CzuoABOEveugoooIACClQuYAA2AGd1AQNwlrx1FVBAAQUUqFzAAGwAzuoCBuAseesqoIACCihQuYAB2ACc1QUMwFny1lVAAQUUUKByAQOwATirCxiAs+Stq4ACCiigQOUCBmADcFYXMABnyVtXAQUUUECBygUMwAbgrC5gAM6St64CCiiggAKVCxiADcBZXcAAnCVvXQUUUEABBSoXMAAbgLO6gAE4S966CiiggAIKVC5gADYAZ3UBA3CWvHUVUEABBRSoXMAAbADO6gIG4Cx56yqggAIKKFC5gAHYAJzVBQzAWfLWVUABBRRQoHIBA7ABOKsLGICz5K2rgAIKKKBA5QIGYANwVhcwAGfJW1cBBRRQQIHKBQzABuCsLmAAzpK3rgIKKKCAApULGIANwFldwACcJW9dBRRQQAEFKhcwABuAs7qAAThL3roKKKCAAgpULmAANgBndQEDcJa8dRVQQAEFFKhcwABsAM7qAgbgLHnrKqCAAgooULmAAdgAnNUFDMBZ8tZVQAEFFFCgcgEDsAE4qwsYgLPkrauAAgoooEDlAgZgA3BWFzAAZ8lbVwEFFFBAgcoFDMAG4KwuYADOkreuAgoooIAClQsYgA3AWV3AAJwlb10FFFBAAQUqFzAAG4CzuoABOEveugoooIACClQuYAA2AGd1AQNwlrx1FVBAAQUUqFzAAGwAzuoCBuAseesqoIACCihQuYAB2ACc1QUMwFny1lVAAQUUUKByAQOwATirCxiAs+Stq4ACCiigQOUCBmADcFYXMABnyVtXAQUUUECBygUMwAbgrC5gAM6St64CCiiggAKVCxiADcBZXcAAnCVvXQUUUEABBSoXMABPTgDeBdgT2BRYCbgDOAn4HPDsDO14MeADwD7AKsANwAHA9xrHvB74S+DVwKrAPeW8nwSeaux3JvCuHrV2AC4Zsi8ZgIcEc3cFFFBAAQUUaEfAADw5AfjqEky/AjwEbAccChwDfHiG5nBYeT3+vgnYF4jAuzFwVznufGA54Fzg3hKE/6b897u7AvDWwB5d9W4DfjVkkzQADwnm7goooIACCijQjoABeHIC8MrAw11v93Rg1zIi/EyPS1kGeBA4BTi8vL40cDtwcRkVji/3Onfsf2wZEe7UjRHgzYCNWmh+BuAWED2FAgoooIACCgwvYACenADc653uDZwKrAA82mOHbYHLgVeWqQ+dXU4EdgbWmaHJxLSGCMkvB24u+xmAh+9jHqGAAgoooIAC80zAADzZAfhs4HVAjKb22mLeb4z+Lgs83tjhPcBpwPLAY9Mc+7fAQWV0+NeNALwb8EQ5ZwTjjwAxLWPYzRHgYcXcXwEFFFBAAQVaETAAT24Afi1wZQmpcbNar+0I4EggpkI0t7cDMe93TeBnPQ5cH7ge+Cywf+P1/YCngVuAFYEYgd4eiBv0LujTImOUOv50ttWA66ampli0aLr83kob9yQKKKCAAgoooMDvCBiAJzMAR2K8BoibzyKA9pr/G1c2mwAcIfVfC0usCvHvM/SZxYGrSrDdsE/fOho4qnsfA7DfkRRQQAEFFFBg3AIG4MkLwDHy+p2y9FmsyDDT6gvDToGIG+S+CWwAbAlMDdAgDwE+UVaRmG46RZzGEeABMN1FAQUUUEABBUYvYACerAAcc3kvA9YqAfX+Pk2kcxNcLHl2Y2PfE4C3dd0EF6O5sQxaLK8Wwbpz41u/VjhoAO4+j3OA+8n6ugIKKKCAAgqMRMAAPDkBeEngImCrElBvHaBFdJZB+zTwobL/UmUZtBjpjRHizvYPQKz5+4Yyt3iA0xOhOR6oEWsID7s0mgF4EGH3UUABBRRQQIHWBQzAkxOAY83fWL0hVmaIebfNLW5Yi5UZYsmztYH1Gi/GAzBi/m08DS5GdSP0xrzh5oMwYs3fWPXhOODCrnNH0H6knPfzwDnAnWXt4bgJbpsymhzhfJjNADyMlvsqoIACCiigQGsCBuDJCcDxeOIIt722dctT4q4o0xqa6/vGo5AjBHc/CjmeLNfZ4rhYTq3XFgE3Xn9+eTzyJuXhGE8C3wc+Dlw6ixZpAJ4FmocooIACCiigwNwFDMCTE4Dn/mnPrzMYgOfX5+G7UUABBRRQoBoBA7ABOKuxG4Cz5K2rgAIKKKBA5QIGYANwVhcwAGfJW1cBBRRQQIHKBQzABuCsLmAAzpK3rgIKKKCAApULGIANwFldwACcJW9dBRRQQAEFKhcwABuAs7qAAThL3roKKKCAAgpULmAANgBndQEDcJa8dRVQQAEFFKhcwABsAM7qAgbgLHnrKqCAAgooULmAAdgAnNUFDMBZ8tZVQAEFFFCgcgEDsAE4qwsYgLPkrauAAgoooEDlAgZgA3BWFzAAZ8lbVwEFFFBAgcoFDMAG4KwuYADOkreuAgoooIAClQsYgA3AWV3AAJwlb10FFFBAAQUqFzAAG4CzuoABOEveugoooIACClQuYAA2AGd1AQNwlrx1FVBAAQUUqFzAAGwAzuoCBuAseesqoIACCihQuYAB2ACc1QUMwFny1lVAAQUUUKByAQOwATirCxiAs+Stq4ACCiigQOUCBmADcFYXMABnyVtXAQUUUECBygUMwAbgrC5gAM6St64CCiiggAKVCxiADcBZXcAAnCVvXQUUUEABBSoXMAAbgLO6gAE4S966CiiggAIKVC5gADYAZ3UBA3CWvHUVUEABBRSoXMAAbADO6gIG4Cx56yqggAIKKFC5gAHYAJzVBQzAWfLWVUABBRRQoHIBA7ABOKsLGICz5K2rgAIKKKBA5QIGYANwVhcwAGfJW1cBBRRQQIHKBQzABuCsLmAAzpK3rgIKKKCAApULGIANwFldwACcJW9dBRRQQAEFKhcwABuAs7qAAThL3roKKKCAAgpULmAANgBndQEDcJa8dRVQQAEFFKhcwABsAM7qAgbgLHnrKqCAAgooULmAAdgAnNUFDMBZ8tZVQAEFFFCgcgEDsAE4qwsYgLPkrauAAgoooEDlAgZgA3BWFzAAZ8lbVwEFFFBAgcoFDMCTE4B3AfYENgVWAu4ATgI+Bzw7QzteDPgAsA+wCnADcADwva5j1gA+DWwPPAVcCBwIPNK135uBY4ENgHuBj5X3MGxXMgAPK+b+CiiggAIKKNCKgAF4cgLw1cA9wFeAh4DtgEOBY4APz9AaDiuvx983AfsCrwc2Bu4qxy0F/LD8/8OB5YDjgRuBHRvnfi1wBfBZ4FxgW+AI4B3ABUO2SAPwkGDuroACCiiggALtCBiAJycArww83PV2Twd2LSPCz/S4lGWAB4FTgAi2sS0N3A5cXEaF42u7A2cDLwF+XPaLkeBLgS2Aa8vX4r+fC7ymUaaPBuQAACAASURBVOuLJUxvOGSTNAAPCebuCiiggAIKKNCOgAF4cgJwr3e6N3AqsALwaI8dYoT2cuCVZepDZ5cTgZ2BdcoXvgC8vATZzj4xdSICd0yLOBp4TqkRo86fbNTaCfgqsG4ZoR60ZRqAB5VyPwUU+F2Bp5+EG78I/+seWGld2PidsET8IstNAQUUGEzAADzZAThGbV8HRJjstcW83xj9XRZ4vLHDe4DTgOWBx8oIb0yH2K3rJP8KTJWvxwjvLcAOwCWN/dYvI8rdX+/XAg3A/YR8XQEFfl8gwu8/vRV++t3fvrbO1vBfLjIE214UUGBgAQPw5AbgmI97JXBQ14hs84pifu6RQEyFaG5vB84H1gR+Vm6oi5Hi93bt940yZSKmQ8S0h/gXZ8uuG+hiakbMSd4DiOkQ020xSh1/OttqwHVTU1MsWjRdfh+4HbujAgrUIvCDM+Hr+/3+1b75JNj0XbUoeJ0KKDBHAQPwZAbgSIzXALeVVRt6zf+NK5tPATimURzVzW0AnmMP9nAFahP49tHw3b///at+7QHw+vg246aAAgr0FzAAT14AXhH4Tln6bGvgVzN8zMNMgfhJuRmuebpeUyDeWG6O6+w36BQIR4D790f3UECBfgKOAPcT8nUFFBhAwAA8WQE45vJeBqxVpiLc3+cz7twEF0uexZJmne0E4G1dN8G9rNws19knboKLqQ0nd90Edwjwqca5Yl3gr3kT3AC9zV0UUGDuAs4BnruhZ1BAAQzAkxOAlwQuArYCYuT31gHab2cZtFjJ4UNl/7hVOpZB+2aPZdDi4RbxgI3YYq3gCNvdy6DFGsFRv7OdBWwCuAzaAB+IuyigQAsCv3kKbohVIO52FYgWOD2FAjUKGIAnJwDHmr+xekPc9HZV19u+HniiLHm2NrBe4/V4AEZMjIunwd1cQm/c1NbrQRjxRLnmgzDiwRm9HoQR7+U8YJtyk12sRRw31Q2zuQrEMFruq4ACCiiggAKtCRiAJycAx1PgItz22jpr8MZT2mJt3876vrFvTGWIENz9KOR4slxzixUh4tHKEY6fLo9Cjkcmdz8KOdb97X4U8hmzaJEG4FmgeYgCCiiggAIKzF3AADw5AXjun/b8OoMBeH59Hr4bBRRQQAEFqhEwABuAsxq7AThL3roKKKCAAgpULmAANgBndQEDcJa8dRVQQAEFFKhcwABsAM7qAgbgLHnrKqCAAgooULmAAdgAnNUFDMBZ8tZVQAEFFFCgcgEDsAE4qwsYgLPkrauAAgoooEDlAgZgA3BWFzAAZ8lbVwEFFFBAgcoFDMAG4KwuYADOkreuAgoooIAClQsYgA3AWV3AAJwlb10FFFBAAQUqFzAAG4CzuoABOEveugoooIACClQuYAA2AGd1AQNwlrx1FVBAAQUUqFzAAGwAzuoCBuAseesqoIACCihQuYAB2ACc1QUMwFny1lVAAQUUUKByAQOwATirCxiAs+Stq4ACCiigQOUCBmADcFYXMABnyVtXAQUUUECBygUMwAbgrC5gAM6St64CCiiggAKVCxiADcBZXcAAnCVvXQUUUEABBSoXMAAbgLO6gAE4S966CiiggAIKVC5gADYAZ3UBA3CWvHUVUEABBRSoXMAAbADO6gIG4Cx56yqggAIKKFC5gAHYAJzVBQzAWfLWVUABBRRQoHIBA7ABOKsLGICz5K2rgAIKKKBA5QIGYANwVhcwAGfJW1cBBRRQQIHKBQzABuCsLmAAzpK3rgIKKKCAApULGIANwFldwACcJW9dBRRQQAEFKhcwABuAs7qAAThL3roKKKCAAgpULmAANgBndQEDcJa8dRVQQAEFFKhcwABsAM7qAgbgLHnrKqCAAgooULmAAdgAnNUFDMBZ8tZVQAEFFFCgcgEDsAE4qwsYgLPkrauAAgoooEDlAgZgA3BWFzAAZ8lbVwEFFFBAgcoFDMAG4KwuYADOkreuAgoooIAClQsYgA3AWV3AAJwlb10FFFBAAQUqFzAAG4CzuoABOEveugoooIACClQuYACenAC8HnAw8GpgI+BH5e9+Tfh5wHHAzsBywLXA/sANjQOPBo6a5kSnAe8tr023397AZ/q9ka7XDcBDgrm7AgoooIACCrQjYACenAD8FuBk4BrgxcDiAwbgi4HNgMOAB4EDgE2AVwBT5fIjjMaf5vbHwN8BfwZ8tRGADwW27dr3LuAXQzZJA/CQYO6ugAIKKKCAAu0IGIAnJwBH4H2mvN0zS6iNkeCZthgtvhrYCfh62TFGge8GvgTsN8PBUSOOWw14shGAYxT6uS00PwNwC4ieQgEFFFBAAQWGFzAAT04Abr7TQQNwTE04pUx9eLxxggvKKPALp7n8Zcpo8bnAXzX2iSkQBuDh+5lHKKCAAgoooMA8EjAAL+wAHNMdYv5vBNqnG5d6NrA7sDzwWA+CtwPnA9sAV3QF4COBXwIrAbcDfw/84yzatCPAs0DzEAUUUEABBRSYu4ABeGEH4B3L1Ictys1vcbUxlSJuoFsfWAN4oAfBhcDmwFqNaRex255lSsT1JVS/E4g/hwDH92mOKwDxp7PF1IrrpqamWLSoe/rx3Bu2Z1BAAQUUUEABBaYTMAAv7AC8NHAr8AiwV7lRLW6Gez+wBLA68PMughXL1+KGu5ju0G+LkeLtgFWAp2bYuecKEgbgfry+roACCiiggAJtCxiAF3YAjqvbFDinjPjGf98MfKuE4JgC0R1a/wL4bJkjHCO9/bZdgPOADYHbZtjZEeB+kr6ugAIKKKCAAmMRMAAv/AAcV7gYEOsIx993lOXUYim0LXtc/uVlasRLBmyBgwbg7tM5B3hAYHdTQAEFFFBAgXYFDMB1BODmVcZUhRipjfV8z+i6/JgScR8Q0xU+MmBT+3JZF3jVPlMgDMADgrqbAgoooIACCoxWwAA8OQE41u99U3m7+wIvAg4s/30l8BAQo7drl9HezpUdAdxZljXbADi83AS3Q9cNbrF/rBpxYjn+Jz1ofgB8vhy/LLAHECPA8WS5Tw3ZVB0BHhLM3RVQQAEFFFCgHQED8OQE4HXKAyx6vePOcmWxZFnsF386W6zOsCsQI7Sx4sNZwLFAc13gzr7XlVAcq0b02mJd4FgdIlZweLbMJz4JiGXVht0MwMOKub8CCiiggAIKtCJgAJ6cANzKBz6PTmIAnkcfhm9FAQUUUECBmgQMwAbgrPZuAM6St64CCiiggAKVCxiADcBZXcAAnCVvXQUUUEABBSoXMAAbgLO6gAE4S966CiiggAIKVC5gADYAZ3UBA3CWvHUVUEABBRSoXMAAbADO6gIG4Cx56yqggAIKKFC5gAHYAJzVBQzAWfLWVUABBRRQoHIBA7ABOKsLGICz5K2rgAIKKKBA5QIGYANwVhcwAGfJW1cBBRRQQIHKBQzABuCsLmAAzpK3rgIKKKCAApULGIANwFldwACcJW9dBRRQQAEFKhcwABuAs7qAAThL3roKKKCAAgpULmAANgBndQEDcJa8dRVQQAEFFKhcwABsAM7qAgbgLHnrKqCAAgooULmAAdgAnNUFDMBZ8tZVQAEFFFCgcgEDsAE4qwsYgLPkrauAAgoooEDlAgZgA3BWFzAAZ8lbVwEFFFBAgcoFDMAG4KwuYADOkreuAgoooIAClQsYgA3AWV3AAJwlb10FFFBAAQUqFzAAG4CzuoABOEveugoooIACClQuYAA2AGd1AQNwlrx1FVBAAQUUqFzAAGwAzuoCBuAseesqoIACCihQuYAB2ACc1QUMwFny1lVAAQUUUKByAQOwATirCxiAs+Stq4ACCiigQOUCBmADcFYXMABnyVtXAQUUUECBygUMwAbgrC5gAM6St64CCiiggAKVCxiADcBZXcAAnCVvXQUUUEABBSoXMAAbgLO6gAE4S966CiiggAIKVC5gADYAZ3UBA3CWvHUVUEABBRSoXMAAbADO6gIG4Cx56yqggAIKKFC5gAHYAJzVBQzAWfLWVUABBRRQoHIBA7ABOKsLGICz5K2rgAIKKKBA5QIGYANwVhcwAGfJW1cBBRRQQIHKBQzABuCsLmAAzpK3rgIKKKCAApULGIAnJwCvBxwMvBrYCPhR+btfE34ecBywM7AccC2wP3BD48B1gLt7nOiaUq/50lbACcDGwC+AU4FPAM/2eyNdrxuAhwRzdwUUUEABBRRoR8AAPDkB+C3AyUCE0hcDiw8YgC8GNgMOAx4EDgA2AV4BTJXL7wTgw4F/bpA8CtzS+O8I4dcDlwGnAC8HPg4cARw/ZJM0AA8J5u4KKKCAAgoo0I6AAXhyAnAE3mfK2z2zhNoYCZ5pi9Hiq4GdgK+XHWMUOEZ7vwTs1xWAdwEumOGEpwFvKAH8ybLfR4G9gdWAJ4ZolgbgIbDcVQEFFFBAAQXaEzAAT04Abr7TQQNwBNMYqY3Q+3jjBBFyYxT4hUMG4HuBC8sUis7pYhT4RmAb4IohmqYBeAgsd1VAAQUUUECB9gQMwAs7AMd0h5j/uwzwdONSzwZ2B5YHHgM6UyAeBp4P/BvwVeADwC/LcbHvr8to72ca51q6hOt9gObX+7VSA3A/IV9XQAEFFFBAgZEIGIAXdgDesUx92KLc/BZXG1Mp4ga69YE1gAeA1YEjgUuB/w3E/jGv9y5gc+ApYE3gvhKcY/pEc4tgHFMh4s902wpA/OlsMWXiuqmpKRYtiizspoACCiiggAIKjEfAALywA3CMzt4KPALsVVZtiJvh3g8sUYLvz6ch+FPgG8CuwHktBOCjgaO6axmAx9PRraKAAgoooIACvxUwAC/sABxXtylwThnxjf++GfhWCcExrSFGd3ttiwGxCkTMIY6pEJ0pEO8F4ma4zjboFAhHgP3Oo4ACCiiggALzQsAAvPADcFxhhNlYwiz+vqMspxY3wW05QyvsDsCxa9wE9+WylFrn0JcBN3kT3Lzoz74JBRRQQAEFFBhAwABcRwBuXuUqwG3AocAZM7SRNwNfA5pLo8XI73bABo2R42OBfYE/BDpLow3Q9PAmuEGU3EcBBRRQQAEFWhcwAE9OAI6lzN5U3m4EzhcBB5b/vhJ4CLgcWLuM9nauLG5mu7M8BCOCazzsIm6C26GxrnA82S3WGP5euQkubnz7IPDjMkrcWUEiRpHjCXKXlCfAxehvPAXOB2G03jU9oQIKKKCAAgqMSsAAPDkBeLrHFccVdNbgjXV4Y7/409niCW1xI9uqZcWHs4AYtW2uC/wXQCxjFgE3gvb9wEXlprW4ga65xaOQTyyPQo7QHXOE/85HIY+qi3peBRRQQAEFFGhbwAA8OQG47c8++3xOgcj+BKyvgAIKKKBApQIGYANwVtM3AGfJW1cBBRRQQIHKBQzABuCsLmAAzpK3rgIKKKCAApULGIANwFldwACcJW9dBRRQQAEFKhcwABuAs7qAAThL3roKKKCAAgpULmAANgBndQEDcJa8dRVQQAEFFKhcwABsAM7qAgbgLHnrKqCAAgooULmAAdgAnNUFDMBZ8tZVQAEFFFCgcgEDsAE4qwsYgLPkrauAAgoooEDlAgZgA3BWFzAAZ8lbVwEFFFBAgcoFDMAG4KwuYADOkreuAgoooIAClQsYgA3AWV3AAJwlb10FFFBAAQUqFzAAG4CzuoABOEveugoooIACClQuYAA2AGd1AQNwlrx1FVBAAQUUqFzAAGwAzuoCBuAseesqoIACCihQuYAB2ACc1QUMwFny1lVAAQUUUKByAQOwATirCxiAs+Stq4ACCiigQOUCBmADcFYXMABnyVtXAQUUUECBygUMwAbgrC5gAM6St64CCiiggAKVCxiADcBZXcAAnCVvXQUUUEABBSoXMAAbgLO6gAE4S966CiiggAIKVC5gADYAZ3UBA3CWvHUVUEABBRSoXMAAbADO6gIG4Cx56yqggAIKKFC5gAHYAJzVBQzAWfLWVUABBRRQoHIBA7ABOKsLGICz5K2rgAIKKKBA5QIGYANwVhcwAGfJW1cBBRRQQIHKBQzABuCsLmAAzpK3rgIKKKCAApULGIANwFldwACcJW9dBRRQQAEFKhcwABuAs7qAAThL3roKKKCAAgpULmAANgBndQEDcJa8dRVQQAEFFKhcwABsAM7qAgbgLHnrKqCAAgooULmAAdgAnNUFDMBZ8tZVQAEFFFCgcgEDsAE4qwsYgLPkrauAAgoooEDlAgZgA3BWFzAAZ8lbVwEFFFBAgcoFDMCTE4DXAw4GXg1sBPyo/N2vCT8POA7YGVgOuBbYH7ihceCrgL2BPwbWAO4HLgCOBf69sd/RwFE9Csaxn+n3RrpeNwAPCebuCiiggAIKKNCOgAF4cgLwW4CTgWuAFwOLDxiALwY2Aw4DHgQOADYBXgFMlcs/HtgC+CfgduClwDHAjcC2XQH40K6vxct3Ab8YskkagIcEc3cFFFBAAQUUaEfAADw5ATgC7zPl7Z5ZQm2MBM+0xWjx1cBOwNfLjjEKfDfwJWC/8rVVgIe6TvRO4OxS5wfltRgBjlHo57bQ/AzALSB6CgUUUEABBRQYXsAAPDkBuPlOBw3AMTXhlDL14fHGCWJ6Q4wCv3CGJvMS4Nau8GwAHr6PeYQCCiiggAIKzDMBA/DCDsAx3SHm/y4DPN241BjZ3R1YHnhsGoL3AKeX6RZ3NEaAjwR+CaxUpkv8PfCPs2jXjgDPAs1DFFBAAQUUUGDuAgbghR2AdyxTH2J+b9z8FltMpYgb6NYvN7w90INg5TL/9zrgzxqv7wmsBlxfQnVMk4g/hwAxj3imbQUg/nS2OM91U1NTLFoUWdhNAQUUUEABBRQYj4ABeGEH4KXLNIZHgL3KjWpxM9z7gSWA1YGfdxEsBXwTiCkQcfNcr4DcPOR8YDsg5hE/NUOz7bmChAF4PB3dKgoooIACCijwWwED8MIOwHF1mwLnlBHf+O+bgW+VEBxTIJqhdTHgC0CsOLF1GQXu1192Ac4DNgRum2FnR4D7Sfq6AgoooIACCoxFwAC88ANwXGEE21hHOP6O+byxnFrcBLdl1+WfAPw18Cbg8gFb4KABuPt0zgEeENjdFFBAAQUUUKBdAQNwHQG4eZUxVSFGamM93zMaL8TUiI8Ce5QR40Fb2pfLusCr9pkCYQAeVNT9FFBAAQUUUGCkAgbgyQnAsX5vjMzGti/wIuDA8t9XlnV8Y9R27TLa27myI4A7y0MwNgAOLzfB7dBYV7iz5u9ZZdm0pspPGmsEx3rAny/HL1vCcowAx5PlPjVkS3UEeEgwd1dAAQUUUECBdgQMwJMTgNcpD7Do9Y63Aa4of2K/+NPZYnWGXYEYoY0b2iLkxiOOm+sCx7rC75qG4t1AvB7bucDmZSWIZ8t84pPKAzOGbZEG4GHF3F8BBRRQQAEFWhEwAE9OAG7lA59HJzEAz6MPw7eigAIKKKBATQIGYANwVns3AGfJW1cBBRRQQIHKBQzABuCsLmAAzpK3rgIKKKCAApULGIANwFldwACcJW9dBRRQQAEFKhcwABuAs7qAAThL3roKKKCAAgpULmAANgBndQEDcJa8dRVQQAEFFKhcwABsAM7qAgbgLHnrKqCAAgooULmAAdgAnNUFDMBZ8tZVQAEFFFCgcgEDsAE4qwsYgLPkrauAAgoooEDlAgZgA3BWFzAAZ8lbVwEFFFBAgcoFDMAG4KwuYADOkreuAgoooIAClQsYgA3AWV3AAJwlb10FFFBAAQUqFzAAG4CzuoABOEveugoooIACClQuYAA2AGd1AQNwlrx1FVBAAQUUqFzAAGwAzuoCBuAseesqoIACCihQuYAB2ACc1QUMwFny1lVAAQUUUKByAQOwATirCxiAs+Stq4ACCiigQOUCBmADcFYXMABnyVtXAQUUUECBygUMwAbgrC5gAM6St64CCiiggAKVCxiADcBZXcAAnCVvXQUUUEABBSoXMAAbgLO6gAE4S966CiiggAIKVC5gADYAZ3UBA3CWvHUVUEABBRSoXMAAbADO6gIG4Cx56yqggAIKKFC5gAHYAJzVBQzAWfLWVUABBRRQoHIBA7ABOKsLGICz5K2rgAIKKKBA5QIGYANwVhcwAGfJW1cBBRRQQIHKBQzABuCsLmAAzpK3rgIKKKCAApULGIANwFldwACcJW9dBRRQQAEFKhcwABuAs7qAAThL3roKKKCAAgpULmAANgBndQEDcJa8dRVQQAEFFKhcwABsAM7qAgbgLHnrKqCAAgooULmAAdgAnNUFDMBZ8tZVQAEFFFCgcgEDsAE4qwsYgLPkrauAAgoooEDlAgZgA3BWFzAAZ8lbVwEFFFBAgcoFDMCTE4DXAw4GXg1sBPyo/N2vCT8POA7YGVgOuBbYH7ih68DY70TgrcBSwKXA+4AHuvbbCjgB2Bj4BXAq8Ang2X5vpOt1A/CQYO6ugAIKKKCAAu0IGIAnJwC/BTgZuAZ4MbD4gAH4YmAz4DDgQeAAYBPgFcBU4/IvAV4KHAQ8Dvwt8Jty7NNlvwjh1wOXAacALwc+DhwBHD9kkzQADwnm7goooIACCijQjoABeHICcATeZ8rbPbME0xgJnmmL0eKrgZ2Ar5cdYxT4buBLwH7la1sCVwFvAL5VvrYBcBuwG3Be+dppZZ8I4E+Wr30U2BtYDXhiiGZpAB4Cy10VUEABBRRQoD0BA/DkBODmOx00AEcwjZHaCL0xqtvZLiijwC8sXzimTHd4ftdUhh8CNwF/Xva7F7iwTKHonCtGgW8EtgGuGKJpGoCHwHJXBRRQQAEFFGhPwAC8sANwTHeI+b/LAJ1pDHHFZwO7A8sDj5UR3rXK/OKmSOz3ovL12PfXZbT3M42dli7heh+g+fV+rdQA3E/I1xVQQAEFFFBgJAIG4IUdgHcsUx+2KDe/xdXGVIq4gW59YI1yk1vM6Y35vm/s4og5x9uXOcdrAveV4BzTJ5pbBOOYChF/pttWAOJPZ4spE9dNTU2xaFFkYTcFFFBAAQUUUGA8AgbghR2AY3T2VuARYK+yakPcDPd+YAlgdeDn5aa2UQfgo4GjurkNwOPp6FZRQAEFFFBAgd8KGIAXdgCOq9sUOKeM+MZ/31xudIsQHNManipTIF4AxM1wza3XFIj3AnEzXGcbdAqEI8B+51FAAQUUUECBeSFgAF74ATiucDEgljCLv+8oy6nFUmidwBs3wf018AddN8H9oATm5k1wXy5LqXXkXlZulPMmuHnRpX0TCiiggAIKKNBPwABcRwBuXuUqZXmzQ4EzygudZdC2A75dvhZLncVc4e5l0GKfWCItRo5jOxbYF/jDxtJo/dpdvO5NcIMouY8CCiiggAIKtC5gAJ6cABxLmb2pvN0InLE6w4Hlv68EHgIuB9Yuo72dK4uHVNxZHoIRwfXwEmx3aKwrHPvGgzA27HoQRqw7HA/RaD4II54gF/vGE+Bi9DeeAueDMFrvmp5QAQUUUEABBUYlYACenAC8TnmARa933Jl+EOvwxn7xp7PFE9p2BVYtKz6cVUZtm+sCx76dRyHHI5OXLPOE41HIP+sqGI9Cjkcmx6OQI3THOsN/56OQR9VFPa8CCiiggAIKtC1gAJ6cANz2Z599PqdAZH8C1ldAAQUUUKBSAQOwATir6RuAs+Stq4ACCiigQOUCBmADcFYXMABnyVtXAQUUUECBygUMwAbgrC5gAM6St64CCiiggAKVCxiADcBZXcAAnCVvXQUUUEABBSoXMAAbgLO6gAE4S966CiiggAIKVC5gADYAZ3UBA3CWvHUVUEABBRSoXMAAbADO6gIG4Cx56yqggAIKKFC5gAHYAJzVBQzAWfLWVUABBRRQoHIBA7ABOKsLGICz5K2rgAIKKKBA5QIGYANwVhcwAGfJW1cBBRRQQIHKBQzABuCsLmAAzpK3rgIKKKCAApULGIANwFldYG3gnmuvvZbVV1896z1YVwEFFFBAAQUqFHjggQfYfPPN48rXAX5aIcG0l7yYGCMV2Ay4bqQVPLkCCiiggAIKKDCzwKuA74v0WwED8Ghbw3OAlwEPAb8ZUanVSsiOxv3zEdWo4bQ6tvcpa6llewLtnMk22Y5jnEXLybJcAlgFuBl4or23PvlnMgBP/mf4/+YZAy8A7pv8y0m7Ah3bo9dSy/YE2jmTbbIdxziLllq2J5B4JgNwIn5Lpf1m1A6kju04+g9ke45atmdp/9ayPYH2zmS7bM9y6DMZgIcmm3cH2IHa+Uh0bMfR0Naeo5btWdq/tWxPoL0z2S7bsxz6TAbgocnm3QErAAcCJwKPzLt3NzlvSMf2PisttWxPoJ0z2SbbcYyzaKllewKJZzIAJ+JbWgEFFFBAAQUUUGD8Agbg8ZtbUQEFFFBAAQUUUCBRwACciG9pBRRQQAEFFFBAgfELGIDHb25FBRRQQAEFFFBAgUQBA3AivqUVUEABBRRQQAEFxi9gAB6/ea+KuwB7ApsCKwF3ACcBnwOeneEt/gHwt8CbgPj/dwMnA59pHPMnwD/3OMe5wG7z4/JbfReztXwecBywM7AccC2wP3BD17uL/WLFjbcCSwGXAu8DHmj1KvJPNkrHeCZ9tNXu7Rrg1fmX3vo7iP75AWDDcgf9/cBXgA8Dv+pT7S/KsWsBPwaOAL5RaZuMyx6lZU3tcraOuwLvALYA1gQOAY7v0YZr+T45lzY5iGVNbbL1b7z9TmgA7ic0ntevBu4p/yjGY5O3Aw4Fjin/SE73Lv4H8EfA4cC95R+Hg4C/Av6xHNQJwO8GftQ40cPAneO5vLFWma3lxcBmwGHAg8ABwCbAK8qT9joXcQnwUiCcHy8/gMRjruPYp8d6paMtNkrHzjf1aLfNH84eBW4Z7WWlnD1+uH05EAH/34CNgKOBHwLbz/CO4gfUL5Y2Fn09/sGMQLw18L3GcbW0ybjkUVrW1C5n63g+sF5py/91hgBsm+zfvwexrKlNjv2bswF47OQ9C64MRCBtloptuAAACVRJREFUbqeXf/BiRPiZHkfF89hj1DGC7ZmN168sQew/dwXgVwHfnx+XO9J3MRvLGHWMwLcT8PXy7mIUOEYpvwTsV762JXAV8AbgW+VrGwC3ldH080Z6ZeM9+SgdO9/UY5T5gvFe1ryp9h4g+niMov1smncVI74/AN7ZeD3a3/8uP+zGl2tqk9N9eG1Z1t4uB3FcvPHvUfx2stcIsG0S2rKsvU2O9Bu2AXikvHM6+d7AqeVXpjEy1r29oIz6xq/sL2q8+DXgucC2lQbgXuj9LOP1U8rUhxjV7WwRzmIU+IXlCzEiH9Mdnt81NSVG8m4C/nxOn/j8P7gtR7+p/8dUmy8D65bf/nR/+tHmflKm2sR0ic72/jJVJx5G8ET5LVHNbTJc2rKsvV32c+xuo9MF4Nq/Tw7SJge1rL1NjvRfRQPwSHnndPKzgdcB8ajE6baYfxph7F3l1/Q7AF8A9ij/uMZxnSkQMbUi5gnHqPE5wN8Aj83pHU7Owf0sY7pDzP9dpmsaQxy3O7B8sYoR3piL2T1PNfZ70QKdv9r8lNty7HxTj996RPuNaQFfLXNdfzk5zWrod7pEmTcec4HPAH4KvGWas8Qczf8OvKRr6lJMj4rfPnS+XmubHIVlje1yGMdBQ5ttsn//HtSyxjY59DfW2R5gAJ6t3GiPey0QUxlinuknZygVwSxuZvvTsk/MRY3RoH9oHPPK8uv5fykhLkaGDwa+Dew42suYF2cfxDIcYupD3NgRN7/FFr/qiznT6wNrlB8cLgPC+I1dVxY3HsZczhfPiysezZto03F14MhyA2H8Oj/c4+auu4DNgadGcwnpZ72vTHmINxJzJN8O/Ps07yp+iD0LCKufN/aJuebXAa8p03FqbZOjsKyxXQ7jOGhos03279+DWtbYJsf2jdoAPDbqgQvFiG/cLBPzSiNU9Zr/GyeLzy7Cb9ykFTfUxMhujA5FuI0R4Zi7Ot22b1ktohn4Bn6DE7TjoJZLA7cCjwB7Ab8oN8PFr5tjhKQTQmr9xt62Y68mFD/ExeoGcaPXQppL3bzWuBEufmiNmyg/VAJ/9Nn4oap7MwDP/I1mFJY1tsthHAcNbbV+nxyFZY1tcmwRwwA8NuqBCq0IfKfML407vWdaIqkzahmd7ubG2WP1h/j1adxcM922Sgl5+3SNFg/0Jidkp2Es45JiCbqYGhIjvrGFafyqOUJwhJYYlYxgFnOv4yaP5raQp0CMwrFXE4rvRTHXPeZix5JhC32LH1xjib3pbgTsTIGIVV7iZrjO1msKRG1tsrtttGVZe7vs5zhoAK7x++SwbXJQy9rb5Ej/HTAAj5R3qJMvC8RPzjHHNAJWrBU60xbLpH20zClsrhUcoTZCRIS2/zPNCRZ6AB7WssMU/SGW+Im/Yy3mmNoQN8F1Am/c3PHXZS510zzu1I/AvNBughuVo9/U/6ONxU1sMRf/4z1AOjfB/VmZH93ZJaY4xbqr/wl4stwEV1ObnK7ttGFZe7vs1yYHDW21fZ+cTZsc1LL2NjlUiBp2ZwPwsGKj2X/JspLDVmWNz/h1fL8tflUc0xw2Bm5s7PzfytzeP5zhBPGPaDxoYyEujTYby15U8UNCTEOJHzTihqXYOsv7xChczKGOLeb9xlzhWLN1If3qfpSOvbzfDMQKJrUsjdZZem+mKR8x8hvzfWPN1s723TJVJ0aIa2uT031La8uy9nY5iGPTqN8yaDV8n5xLmxzEsvY22S8Hzel1A/Cc+Fo7ONYDjXUD46a3WOezuV1fRoouB9YuI5TxeowA/c8yChRPlIo5wDFnOOYAHwUcW04SN9LEAy9iqa5Y4itugotVD+LBD/E0s4W2zcYyDOImrHCKh2DE2r7xkIYItrGyRnMedty8FHfxNx+EEa8vtAdhjNLxhGIaD3OIm+DixrcPll/1xw8ZC+mBItG2LixrcMdSebHySvyqOdZPjbnm8UNojOTGD64xdz9+8OhssQJJTK/5SHlgSITlvwT+uKxb3dmvljY5asua2uVs22R874s/scWDHGLVobiBOG7m/Gaj7dom+/fvQSxrapNjzyIG4LGT9ywYT4GLcNtr66wTegUQS6LEn84Wv66PRyHHHfoxVzMe3BBzgONX950bayJYxA01cf7nlH3i6VIfK//wzg+B9t7FbC3j18oRMFYtP0zEDw7xQ0RzXeB4l51HfMaamRFWYp5wjKhP9zCD9q5svGcapWM8zSym6kT7jQeOxHSfWMs6fnCLGxEX2hZPF4y2FUvlxeoiYRsBJNpc53rjYTYRgLu/J4dVHN95FHL8YDbdo5AXepuMdjFKy5ra5Wwd44br6KfdWyzp1/y3qZbvk3Npk4NY1tQmx/593wA8dnILKqCAAgoooIACCmQKGIAz9a2tgAIKKKCAAgooMHYBA/DYyS2ogAIKKKCAAgookClgAM7Ut7YCCiiggAIKKKDA2AUMwGMnt6ACCiiggAIKKKBApoABOFPf2goooIACCiiggAJjFzAAj53cggoooIACCiiggAKZAgbgTH1rK6CAAgoooIACCoxdwAA8dnILKqCAAgoooIACCmQKGIAz9a2tgAIKKKCAAgooMHYBA/DYyS2ogAIKKKCAAgookClgAM7Ut7YCCiiggAIKKKDA2AUMwGMnt6ACCiiggAIKKKBApoABOFPf2goooIACCiiggAJjFzAAj53cggoooIACCiiggAKZAgbgTH1rK6CAAgoooIACCoxdwAA8dnILKqCAAgoooIACCmQKGIAz9a2tgAIKKKCAAgooMHYBA/DYyS2ogAIKKKCAAgookClgAM7Ut7YCCiiggAIKKKDA2AUMwGMnt6ACCiiggAIKKKBApoABOFPf2goooIACCiiggAJjFzAAj53cggoooIACCiiggAKZAgbgTH1rK6CAAgoooIACCoxdwAA8dnILKqCAAgoooIACCmQKGIAz9a2tgAIKKKCAAgooMHYBA/DYyS2ogAIKKKCAAgookClgAM7Ut7YCCiiggAIKKKDA2AUMwGMnt6ACCiiggAIKKKBApoABOFPf2goooIACCiiggAJjFzAAj53cggoooIACCiiggAKZAgbgTH1rK6CAAgoooIACCoxdwAA8dnILKqCAAgoooIACCmQKGIAz9a2tgAIKKKCAAgooMHYBA/DYyS2ogAIKKKCAAgookCnwfwH7ylNMeJuL1AAAAABJRU5ErkJggg==\" width=\"639.9999861283738\">"
      ],
      "text/plain": [
       "<IPython.core.display.HTML object>"
      ]
     },
     "metadata": {},
     "output_type": "display_data"
    },
    {
     "data": {
      "text/plain": [
       "[<matplotlib.lines.Line2D at 0x7f75c077d198>]"
      ]
     },
     "execution_count": 4,
     "metadata": {},
     "output_type": "execute_result"
    }
   ],
   "source": [
    "# because the default is the line style '-', \n",
    "# nothing will be shown if we only pass in one point (3,2)\n",
    "plt.plot(3, 2)"
   ]
  },
  {
   "cell_type": "code",
   "execution_count": 5,
   "metadata": {
    "collapsed": false
   },
   "outputs": [
    {
     "data": {
      "text/plain": [
       "[<matplotlib.lines.Line2D at 0x7f75c141dcf8>]"
      ]
     },
     "execution_count": 5,
     "metadata": {},
     "output_type": "execute_result"
    }
   ],
   "source": [
    "# we can pass in '.' to plt.plot to indicate that we want\n",
    "# the point (3,2) to be indicated with a marker '.'\n",
    "plt.plot(3, 2, '.')"
   ]
  },
  {
   "cell_type": "markdown",
   "metadata": {},
   "source": [
    "Let's see how to make a plot without using the scripting layer."
   ]
  },
  {
   "cell_type": "code",
   "execution_count": 6,
   "metadata": {
    "collapsed": false
   },
   "outputs": [],
   "source": [
    "# First let's set the backend without using mpl.use() from the scripting layer\n",
    "from matplotlib.backends.backend_agg import FigureCanvasAgg\n",
    "from matplotlib.figure import Figure\n",
    "\n",
    "# create a new figure\n",
    "fig = Figure()\n",
    "\n",
    "# associate fig with the backend\n",
    "canvas = FigureCanvasAgg(fig)\n",
    "\n",
    "# add a subplot to the fig\n",
    "ax = fig.add_subplot(111)\n",
    "\n",
    "# plot the point (3,2)\n",
    "ax.plot(3, 2, '.')\n",
    "\n",
    "# save the figure to test.png\n",
    "# you can see this figure in your Jupyter workspace afterwards by going to\n",
    "# https://hub.coursera-notebooks.org/\n",
    "canvas.print_png('test.png')"
   ]
  },
  {
   "cell_type": "markdown",
   "metadata": {},
   "source": [
    "We can use html cell magic to display the image."
   ]
  },
  {
   "cell_type": "code",
   "execution_count": null,
   "metadata": {
    "collapsed": false
   },
   "outputs": [],
   "source": [
    "%%html\n",
    "<img src='test.png' />"
   ]
  },
  {
   "cell_type": "code",
   "execution_count": null,
   "metadata": {
    "collapsed": false
   },
   "outputs": [],
   "source": [
    "# create a new figure\n",
    "plt.figure()\n",
    "\n",
    "# plot the point (3,2) using the circle marker\n",
    "plt.plot(3, 2, 'o')\n",
    "\n",
    "# get the current axes\n",
    "ax = plt.gca()\n",
    "\n",
    "# Set axis properties [xmin, xmax, ymin, ymax]\n",
    "ax.axis([0,6,0,10])"
   ]
  },
  {
   "cell_type": "code",
   "execution_count": null,
   "metadata": {
    "collapsed": false
   },
   "outputs": [],
   "source": [
    "# create a new figure\n",
    "plt.figure()\n",
    "\n",
    "# plot the point (1.5, 1.5) using the circle marker\n",
    "plt.plot(1.5, 1.5, 'o')\n",
    "# plot the point (2, 2) using the circle marker\n",
    "plt.plot(2, 2, 'o')\n",
    "# plot the point (2.5, 2.5) using the circle marker\n",
    "plt.plot(2.5, 2.5, 'o')"
   ]
  },
  {
   "cell_type": "code",
   "execution_count": null,
   "metadata": {
    "collapsed": false
   },
   "outputs": [],
   "source": [
    "# get current axes\n",
    "ax = plt.gca()\n",
    "# get all the child objects the axes contains\n",
    "ax.get_children()"
   ]
  },
  {
   "cell_type": "markdown",
   "metadata": {},
   "source": [
    "# Scatterplots"
   ]
  },
  {
   "cell_type": "code",
   "execution_count": null,
   "metadata": {
    "collapsed": false,
    "scrolled": false
   },
   "outputs": [],
   "source": [
    "import numpy as np\n",
    "\n",
    "x = np.array([1,2,3,4,5,6,7,8])\n",
    "y = x\n",
    "\n",
    "plt.figure()\n",
    "plt.scatter(x, y) # similar to plt.plot(x, y, '.'), but the underlying child objects in the axes are not Line2D"
   ]
  },
  {
   "cell_type": "code",
   "execution_count": null,
   "metadata": {
    "collapsed": false
   },
   "outputs": [],
   "source": [
    "import numpy as np\n",
    "\n",
    "x = np.array([1,2,3,4,5,6,7,8])\n",
    "y = x\n",
    "\n",
    "# create a list of colors for each point to have\n",
    "# ['green', 'green', 'green', 'green', 'green', 'green', 'green', 'red']\n",
    "colors = ['green']*(len(x)-1)\n",
    "colors.append('red')\n",
    "\n",
    "plt.figure()\n",
    "\n",
    "# plot the point with size 100 and chosen colors\n",
    "plt.scatter(x, y, s=100, c=colors)"
   ]
  },
  {
   "cell_type": "code",
   "execution_count": null,
   "metadata": {
    "collapsed": false
   },
   "outputs": [],
   "source": [
    "# convert the two lists into a list of pairwise tuples\n",
    "zip_generator = zip([1,2,3,4,5], [6,7,8,9,10])\n",
    "\n",
    "print(list(zip_generator))\n",
    "# the above prints:\n",
    "# [(1, 6), (2, 7), (3, 8), (4, 9), (5, 10)]\n",
    "\n",
    "zip_generator = zip([1,2,3,4,5], [6,7,8,9,10])\n",
    "# The single star * unpacks a collection into positional arguments\n",
    "print(*zip_generator)\n",
    "# the above prints:\n",
    "# (1, 6) (2, 7) (3, 8) (4, 9) (5, 10)"
   ]
  },
  {
   "cell_type": "code",
   "execution_count": null,
   "metadata": {
    "collapsed": false
   },
   "outputs": [],
   "source": [
    "# use zip to convert 5 tuples with 2 elements each to 2 tuples with 5 elements each\n",
    "print(list(zip((1, 6), (2, 7), (3, 8), (4, 9), (5, 10))))\n",
    "# the above prints:\n",
    "# [(1, 2, 3, 4, 5), (6, 7, 8, 9, 10)]\n",
    "\n",
    "\n",
    "zip_generator = zip([1,2,3,4,5], [6,7,8,9,10])\n",
    "# let's turn the data back into 2 lists\n",
    "x, y = zip(*zip_generator) # This is like calling zip((1, 6), (2, 7), (3, 8), (4, 9), (5, 10))\n",
    "print(x)\n",
    "print(y)\n",
    "# the above prints:\n",
    "# (1, 2, 3, 4, 5)\n",
    "# (6, 7, 8, 9, 10)"
   ]
  },
  {
   "cell_type": "code",
   "execution_count": null,
   "metadata": {
    "collapsed": false
   },
   "outputs": [],
   "source": [
    "plt.figure()\n",
    "# plot a data series 'Tall students' in red using the first two elements of x and y\n",
    "plt.scatter(x[:2], y[:2], s=100, c='red', label='Tall students')\n",
    "# plot a second data series 'Short students' in blue using the last three elements of x and y \n",
    "plt.scatter(x[2:], y[2:], s=100, c='blue', label='Short students')"
   ]
  },
  {
   "cell_type": "code",
   "execution_count": null,
   "metadata": {
    "collapsed": false
   },
   "outputs": [],
   "source": [
    "# add a label to the x axis\n",
    "plt.xlabel('The number of times the child kicked a ball')\n",
    "# add a label to the y axis\n",
    "plt.ylabel('The grade of the student')\n",
    "# add a title\n",
    "plt.title('Relationship between ball kicking and grades')"
   ]
  },
  {
   "cell_type": "code",
   "execution_count": null,
   "metadata": {
    "collapsed": false
   },
   "outputs": [],
   "source": [
    "# add a legend (uses the labels from plt.scatter)\n",
    "plt.legend()"
   ]
  },
  {
   "cell_type": "code",
   "execution_count": null,
   "metadata": {
    "collapsed": false
   },
   "outputs": [],
   "source": [
    "# add the legend to loc=4 (the lower right hand corner), also gets rid of the frame and adds a title\n",
    "plt.legend(loc=4, frameon=False, title='Legend')"
   ]
  },
  {
   "cell_type": "code",
   "execution_count": null,
   "metadata": {
    "collapsed": false
   },
   "outputs": [],
   "source": [
    "# get children from current axes (the legend is the second to last item in this list)\n",
    "plt.gca().get_children()"
   ]
  },
  {
   "cell_type": "code",
   "execution_count": null,
   "metadata": {
    "collapsed": true
   },
   "outputs": [],
   "source": [
    "# get the legend from the current axes\n",
    "legend = plt.gca().get_children()[-2]"
   ]
  },
  {
   "cell_type": "code",
   "execution_count": null,
   "metadata": {
    "collapsed": false
   },
   "outputs": [],
   "source": [
    "# you can use get_children to navigate through the child artists\n",
    "legend.get_children()[0].get_children()[1].get_children()[0].get_children()"
   ]
  },
  {
   "cell_type": "code",
   "execution_count": null,
   "metadata": {
    "collapsed": false
   },
   "outputs": [],
   "source": [
    "# import the artist class from matplotlib\n",
    "from matplotlib.artist import Artist\n",
    "\n",
    "def rec_gc(art, depth=0):\n",
    "    if isinstance(art, Artist):\n",
    "        # increase the depth for pretty printing\n",
    "        print(\"  \" * depth + str(art))\n",
    "        for child in art.get_children():\n",
    "            rec_gc(child, depth+2)\n",
    "\n",
    "# Call this function on the legend artist to see what the legend is made up of\n",
    "rec_gc(plt.legend())"
   ]
  },
  {
   "cell_type": "markdown",
   "metadata": {},
   "source": [
    "# Line Plots"
   ]
  },
  {
   "cell_type": "code",
   "execution_count": null,
   "metadata": {
    "collapsed": false
   },
   "outputs": [],
   "source": [
    "import numpy as np\n",
    "\n",
    "linear_data = np.array([1,2,3,4,5,6,7,8])\n",
    "exponential_data = linear_data**2\n",
    "\n",
    "plt.figure()\n",
    "# plot the linear data and the exponential data\n",
    "plt.plot(linear_data, '-o', exponential_data, '-o')"
   ]
  },
  {
   "cell_type": "code",
   "execution_count": null,
   "metadata": {
    "collapsed": false
   },
   "outputs": [],
   "source": [
    "# plot another series with a dashed red line\n",
    "plt.plot([22,44,55], '--r')"
   ]
  },
  {
   "cell_type": "code",
   "execution_count": null,
   "metadata": {
    "collapsed": false
   },
   "outputs": [],
   "source": [
    "plt.xlabel('Some data')\n",
    "plt.ylabel('Some other data')\n",
    "plt.title('A title')\n",
    "# add a legend with legend entries (because we didn't have labels when we plotted the data series)\n",
    "plt.legend(['Baseline', 'Competition', 'Us'])"
   ]
  },
  {
   "cell_type": "code",
   "execution_count": null,
   "metadata": {
    "collapsed": false
   },
   "outputs": [],
   "source": [
    "# fill the area between the linear data and exponential data\n",
    "plt.gca().fill_between(range(len(linear_data)), \n",
    "                       linear_data, exponential_data, \n",
    "                       facecolor='blue', \n",
    "                       alpha=0.25)"
   ]
  },
  {
   "cell_type": "markdown",
   "metadata": {},
   "source": [
    "Let's try working with dates!"
   ]
  },
  {
   "cell_type": "code",
   "execution_count": null,
   "metadata": {
    "collapsed": false
   },
   "outputs": [],
   "source": [
    "plt.figure()\n",
    "\n",
    "observation_dates = np.arange('2017-01-01', '2017-01-09', dtype='datetime64[D]')\n",
    "\n",
    "plt.plot(observation_dates, linear_data, '-o',  observation_dates, exponential_data, '-o')"
   ]
  },
  {
   "cell_type": "markdown",
   "metadata": {},
   "source": [
    "Let's try using pandas"
   ]
  },
  {
   "cell_type": "code",
   "execution_count": null,
   "metadata": {
    "collapsed": false
   },
   "outputs": [],
   "source": [
    "import pandas as pd\n",
    "\n",
    "plt.figure()\n",
    "observation_dates = np.arange('2017-01-01', '2017-01-09', dtype='datetime64[D]')\n",
    "observation_dates = map(pd.to_datetime, observation_dates) # trying to plot a map will result in an error\n",
    "plt.plot(observation_dates, linear_data, '-o',  observation_dates, exponential_data, '-o')"
   ]
  },
  {
   "cell_type": "code",
   "execution_count": null,
   "metadata": {
    "collapsed": false
   },
   "outputs": [],
   "source": [
    "plt.figure()\n",
    "observation_dates = np.arange('2017-01-01', '2017-01-09', dtype='datetime64[D]')\n",
    "observation_dates = list(map(pd.to_datetime, observation_dates)) # convert the map to a list to get rid of the error\n",
    "plt.plot(observation_dates, linear_data, '-o',  observation_dates, exponential_data, '-o')"
   ]
  },
  {
   "cell_type": "code",
   "execution_count": null,
   "metadata": {
    "collapsed": false
   },
   "outputs": [],
   "source": [
    "x = plt.gca().xaxis\n",
    "\n",
    "# rotate the tick labels for the x axis\n",
    "for item in x.get_ticklabels():\n",
    "    item.set_rotation(45)"
   ]
  },
  {
   "cell_type": "code",
   "execution_count": null,
   "metadata": {
    "collapsed": false
   },
   "outputs": [],
   "source": [
    "# adjust the subplot so the text doesn't run off the image\n",
    "plt.subplots_adjust(bottom=0.25)"
   ]
  },
  {
   "cell_type": "code",
   "execution_count": null,
   "metadata": {
    "collapsed": false
   },
   "outputs": [],
   "source": [
    "ax = plt.gca()\n",
    "ax.set_xlabel('Date')\n",
    "ax.set_ylabel('Units')\n",
    "ax.set_title('Exponential vs. Linear performance')"
   ]
  },
  {
   "cell_type": "code",
   "execution_count": null,
   "metadata": {
    "collapsed": false
   },
   "outputs": [],
   "source": [
    "# you can add mathematical expressions in any text element\n",
    "ax.set_title(\"Exponential ($x^2$) vs. Linear ($x$) performance\")"
   ]
  },
  {
   "cell_type": "markdown",
   "metadata": {},
   "source": [
    "# Bar Charts"
   ]
  },
  {
   "cell_type": "code",
   "execution_count": null,
   "metadata": {
    "collapsed": false
   },
   "outputs": [],
   "source": [
    "plt.figure()\n",
    "xvals = range(len(linear_data))\n",
    "plt.bar(xvals, linear_data, width = 0.3)"
   ]
  },
  {
   "cell_type": "code",
   "execution_count": null,
   "metadata": {
    "collapsed": false
   },
   "outputs": [],
   "source": [
    "new_xvals = []\n",
    "\n",
    "# plot another set of bars, adjusting the new xvals to make up for the first set of bars plotted\n",
    "for item in xvals:\n",
    "    new_xvals.append(item+0.3)\n",
    "\n",
    "plt.bar(new_xvals, exponential_data, width = 0.3 ,color='red')"
   ]
  },
  {
   "cell_type": "code",
   "execution_count": null,
   "metadata": {
    "collapsed": false,
    "scrolled": true
   },
   "outputs": [],
   "source": [
    "from random import randint\n",
    "linear_err = [randint(0,15) for x in range(len(linear_data))] \n",
    "\n",
    "# This will plot a new set of bars with errorbars using the list of random error values\n",
    "plt.bar(xvals, linear_data, width = 0.3, yerr=linear_err)"
   ]
  },
  {
   "cell_type": "code",
   "execution_count": null,
   "metadata": {
    "collapsed": false
   },
   "outputs": [],
   "source": [
    "# stacked bar charts are also possible\n",
    "plt.figure()\n",
    "xvals = range(len(linear_data))\n",
    "plt.bar(xvals, linear_data, width = 0.3, color='b')\n",
    "plt.bar(xvals, exponential_data, width = 0.3, bottom=linear_data, color='r')"
   ]
  },
  {
   "cell_type": "code",
   "execution_count": null,
   "metadata": {
    "collapsed": false
   },
   "outputs": [],
   "source": [
    "# or use barh for horizontal bar charts\n",
    "plt.figure()\n",
    "xvals = range(len(linear_data))\n",
    "plt.barh(xvals, linear_data, height = 0.3, color='b')\n",
    "plt.barh(xvals, exponential_data, height = 0.3, left=linear_data, color='r')"
   ]
  },
  {
   "cell_type": "code",
   "execution_count": null,
   "metadata": {
    "collapsed": true
   },
   "outputs": [],
   "source": []
  },
  {
   "cell_type": "code",
   "execution_count": 3,
   "metadata": {
    "collapsed": false
   },
   "outputs": [
    {
     "data": {
      "image/png": "[encoded data removed]",
      "text/plain": [
       "<matplotlib.figure.Figure at 0x7fed7c4a1d68>"
      ]
     },
     "metadata": {},
     "output_type": "display_data"
    }
   ],
   "source": [
    "import matplotlib.pyplot as plt\n",
    "import numpy as np\n",
    "\n",
    "plt.figure()\n",
    "\n",
    "languages =['Python', 'SQL', 'Java', 'C++', 'JavaScript']\n",
    "pos = np.arange(len(languages))\n",
    "popularity = [56, 39, 34, 34, 29]\n",
    "\n",
    "# change the bar color to be less bright blue\n",
    "bars = plt.bar(pos, popularity, align='center', linewidth=0, color='lightslategrey')\n",
    "# make one bar, the python bar, a contrasting color\n",
    "bars[0].set_color('#1F77B4')\n",
    "\n",
    "# soften all labels by turning grey\n",
    "plt.xticks(pos, languages, alpha=0.8)\n",
    "# remove the Y label since bars are directly labeled\n",
    "#plt.ylabel('% Popularity', alpha=0.8)\n",
    "plt.title('Top 5 Languages for Math & Data \\nby % popularity on Stack Overflow', alpha=0.8)\n",
    "\n",
    "# remove all the ticks (both axes), and tick labels on the Y axis\n",
    "plt.tick_params(top='off', bottom='off', left='off', right='off', labelleft='off', labelbottom='on')\n",
    "\n",
    "# remove the frame of the chart\n",
    "for spine in plt.gca().spines.values():\n",
    "    spine.set_visible(False)\n",
    "    \n",
    "# direct label each bar with Y axis values\n",
    "for bar in bars:\n",
    "    plt.gca().text(bar.get_x() + bar.get_width()/2, bar.get_height() - 5, str(int(bar.get_height())) + '%', \n",
    "                 ha='center', color='w', fontsize=11)\n",
    "plt.show()"
   ]
  },
  {
   "cell_type": "code",
   "execution_count": null,
   "metadata": {
    "collapsed": true
   },
   "outputs": [],
   "source": []
  }
 ],
 "metadata": {
  "kernelspec": {
   "display_name": "Python 3",
   "language": "python",
   "name": "python3"
  },
  "language_info": {
   "codemirror_mode": {
    "name": "ipython",
    "version": 3
   },
   "file_extension": ".py",
   "mimetype": "text/x-python",
   "name": "python",
   "nbconvert_exporter": "python",
   "pygments_lexer": "ipython3",
   "version": "3.6.2"
  }
 },
 "nbformat": 4,
 "nbformat_minor": 1
}
