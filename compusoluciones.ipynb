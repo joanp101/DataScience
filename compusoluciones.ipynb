{
 "cells": [
  {
   "cell_type": "markdown",
   "metadata": {
    "collapsed": true
   },
   "source": [
    "# MARATONA BEHIND THE CODE 2020\n",
    "\n",
    "## DESAFIO 4 - CompuSoluciones"
   ]
  },
  {
   "cell_type": "markdown",
   "metadata": {},
   "source": [
    "### Introducción"
   ]
  },
  {
   "cell_type": "markdown",
   "metadata": {},
   "source": [
    "En este desafío, CompuSoluciones usará herramientas de IBM como Watson Studio (o Cloud Pack for Data) y Watson Machine Learning para construir un modelo de Machine Learning natural capaz de predecir la probabilidad de cumplimiento de pago.\n",
    "\n",
    "La idea esencial del Desafío 4 es crear un modelo basado en machine learning capaz de identificar el comportamiento financiero del asociado de negocio, permitiendo una probabilidad de cumplimiento o incumplimiento del crédito."
   ]
  },
  {
   "cell_type": "markdown",
   "metadata": {},
   "source": [
    "<hr>"
   ]
  },
  {
   "cell_type": "markdown",
   "metadata": {},
   "source": [
    "### Instalación de Librerias"
   ]
  },
  {
   "cell_type": "code",
   "execution_count": 9,
   "metadata": {},
   "outputs": [
    {
     "name": "stdout",
     "output_type": "stream",
     "text": [
      "Requirement already up-to-date: scikit-learn==0.20.3 in /opt/conda/envs/Python36/lib/python3.6/site-packages (0.20.3)\r\n",
      "Requirement already satisfied, skipping upgrade: scipy>=0.13.3 in /opt/conda/envs/Python36/lib/python3.6/site-packages (from scikit-learn==0.20.3) (1.2.0)\r\n",
      "Requirement already satisfied, skipping upgrade: numpy>=1.8.2 in /opt/conda/envs/Python36/lib/python3.6/site-packages (from scikit-learn==0.20.3) (1.15.4)\r\n"
     ]
    }
   ],
   "source": [
    "!pip install scikit-learn==0.20.3 --upgrade"
   ]
  },
  {
   "cell_type": "code",
   "execution_count": 10,
   "metadata": {},
   "outputs": [],
   "source": [
    "# Si desea utilizar la biblioteca ** xgboost **, instale la versión 0.71.\n",
    "#!pip install xgboost==0.71 --upgrade"
   ]
  },
  {
   "cell_type": "code",
   "execution_count": 1,
   "metadata": {},
   "outputs": [],
   "source": [
    "import json\n",
    "import requests\n",
    "import pandas as pd\n",
    "import numpy as np\n",
    "from scipy import stats\n",
    "from datetime import datetime\n",
    "from sklearn import preprocessing\n",
    "from sklearn.model_selection import KFold\n",
    "from sklearn.impute import SimpleImputer\n",
    "from sklearn.model_selection import train_test_split\n",
    "from sklearn.pipeline import Pipeline\n",
    "import matplotlib.pyplot as plt\n",
    "import seaborn as sns"
   ]
  },
  {
   "cell_type": "markdown",
   "metadata": {},
   "source": [
    "### Descargando el dataset csv desde Github"
   ]
  },
  {
   "cell_type": "code",
   "execution_count": 2,
   "metadata": {},
   "outputs": [
    {
     "name": "stdout",
     "output_type": "stream",
     "text": [
      "--2020-08-25 19:30:00--  https://raw.githubusercontent.com/vanderlei-test/dataset/master/reto-4-compu-train.csv\n",
      "Resolving raw.githubusercontent.com (raw.githubusercontent.com)... 151.101.48.133\n",
      "Connecting to raw.githubusercontent.com (raw.githubusercontent.com)|151.101.48.133|:443... connected.\n",
      "HTTP request sent, awaiting response... 200 OK\n",
      "Length: 1751735 (1.7M) [text/plain]\n",
      "Saving to: ‘reto-4-compu-train.csv.1’\n",
      "\n",
      "100%[======================================>] 1,751,735   --.-K/s   in 0.05s   \n",
      "\n",
      "2020-08-25 19:30:00 (32.3 MB/s) - ‘reto-4-compu-train.csv.1’ saved [1751735/1751735]\n",
      "\n"
     ]
    }
   ],
   "source": [
    "!wget --no-check-certificate --content-disposition https://raw.githubusercontent.com/vanderlei-test/dataset/master/reto-4-compu-train.csv"
   ]
  },
  {
   "cell_type": "code",
   "execution_count": 3,
   "metadata": {},
   "outputs": [
    {
     "data": {
      "text/html": [
       "<div>\n",
       "<style scoped>\n",
       "    .dataframe tbody tr th:only-of-type {\n",
       "        vertical-align: middle;\n",
       "    }\n",
       "\n",
       "    .dataframe tbody tr th {\n",
       "        vertical-align: top;\n",
       "    }\n",
       "\n",
       "    .dataframe thead th {\n",
       "        text-align: right;\n",
       "    }\n",
       "</style>\n",
       "<table border=\"1\" class=\"dataframe\">\n",
       "  <thead>\n",
       "    <tr style=\"text-align: right;\">\n",
       "      <th></th>\n",
       "      <th>EFECTIVO</th>\n",
       "      <th>CXC</th>\n",
       "      <th>INVENTARIO</th>\n",
       "      <th>EQ_OFICINA</th>\n",
       "      <th>EQ_TRANSPORTE</th>\n",
       "      <th>TERRENOS_Y_CONSTRUCCIONES</th>\n",
       "      <th>CXP</th>\n",
       "      <th>CONTRIBUCIONES_X_PAGAR</th>\n",
       "      <th>ANTICIPOS_CTE</th>\n",
       "      <th>CAP_SOCIAL</th>\n",
       "      <th>UTILIDADES_ACUMULADAS</th>\n",
       "      <th>UTILIDAD_O_PERDIDA</th>\n",
       "      <th>TOTAL_VENTAS</th>\n",
       "      <th>TOTAL_COMPRAS</th>\n",
       "      <th>UTILIDAD_BRUTA</th>\n",
       "      <th>TOTAL_GASTOS</th>\n",
       "      <th>OBJETIVO</th>\n",
       "    </tr>\n",
       "  </thead>\n",
       "  <tbody>\n",
       "    <tr>\n",
       "      <th>0</th>\n",
       "      <td>NaN</td>\n",
       "      <td>7.710800e+06</td>\n",
       "      <td>NaN</td>\n",
       "      <td>1.237449e+06</td>\n",
       "      <td>2.947057e+05</td>\n",
       "      <td>8.812520e+06</td>\n",
       "      <td>4.547214e+07</td>\n",
       "      <td>239671.50090</td>\n",
       "      <td>1.257907e+06</td>\n",
       "      <td>2356497.733</td>\n",
       "      <td>-6.009930e+06</td>\n",
       "      <td>-6.816681e+06</td>\n",
       "      <td>41309820.53</td>\n",
       "      <td>6.872572e+07</td>\n",
       "      <td>6298390.104</td>\n",
       "      <td>1.505762e+07</td>\n",
       "      <td>Aceptado</td>\n",
       "    </tr>\n",
       "    <tr>\n",
       "      <th>1</th>\n",
       "      <td>7.437098e+04</td>\n",
       "      <td>2.213116e+06</td>\n",
       "      <td>NaN</td>\n",
       "      <td>1.335531e+05</td>\n",
       "      <td>4.000109e+05</td>\n",
       "      <td>8.491851e+06</td>\n",
       "      <td>1.573254e+07</td>\n",
       "      <td>94809.20697</td>\n",
       "      <td>6.708985e+05</td>\n",
       "      <td>NaN</td>\n",
       "      <td>-7.980962e+06</td>\n",
       "      <td>-3.342452e+06</td>\n",
       "      <td>NaN</td>\n",
       "      <td>3.588274e+07</td>\n",
       "      <td>NaN</td>\n",
       "      <td>1.085156e+07</td>\n",
       "      <td>Aceptado</td>\n",
       "    </tr>\n",
       "    <tr>\n",
       "      <th>2</th>\n",
       "      <td>5.269987e+06</td>\n",
       "      <td>2.893119e+07</td>\n",
       "      <td>3.983352e+05</td>\n",
       "      <td>1.533061e+07</td>\n",
       "      <td>3.478673e+06</td>\n",
       "      <td>-1.393229e+07</td>\n",
       "      <td>NaN</td>\n",
       "      <td>610814.63990</td>\n",
       "      <td>1.009937e+07</td>\n",
       "      <td>1444426.243</td>\n",
       "      <td>NaN</td>\n",
       "      <td>-4.026344e+06</td>\n",
       "      <td>NaN</td>\n",
       "      <td>3.292337e+08</td>\n",
       "      <td>NaN</td>\n",
       "      <td>8.680735e+06</td>\n",
       "      <td>Sospechoso</td>\n",
       "    </tr>\n",
       "    <tr>\n",
       "      <th>3</th>\n",
       "      <td>9.092134e+05</td>\n",
       "      <td>1.145092e+07</td>\n",
       "      <td>9.577823e+06</td>\n",
       "      <td>1.068692e+06</td>\n",
       "      <td>1.302021e+06</td>\n",
       "      <td>1.379064e+06</td>\n",
       "      <td>NaN</td>\n",
       "      <td>NaN</td>\n",
       "      <td>2.378928e+06</td>\n",
       "      <td>1236065.779</td>\n",
       "      <td>NaN</td>\n",
       "      <td>-4.567435e+06</td>\n",
       "      <td>76310275.60</td>\n",
       "      <td>NaN</td>\n",
       "      <td>NaN</td>\n",
       "      <td>1.323267e+07</td>\n",
       "      <td>Aceptado</td>\n",
       "    </tr>\n",
       "    <tr>\n",
       "      <th>4</th>\n",
       "      <td>9.688669e+05</td>\n",
       "      <td>8.539206e+06</td>\n",
       "      <td>3.898283e+06</td>\n",
       "      <td>4.168733e+05</td>\n",
       "      <td>NaN</td>\n",
       "      <td>-6.297179e+05</td>\n",
       "      <td>7.620711e+06</td>\n",
       "      <td>116647.73960</td>\n",
       "      <td>1.798065e+06</td>\n",
       "      <td>3657339.603</td>\n",
       "      <td>7.702845e+05</td>\n",
       "      <td>-7.110320e+05</td>\n",
       "      <td>62901614.29</td>\n",
       "      <td>3.614260e+07</td>\n",
       "      <td>6850340.403</td>\n",
       "      <td>1.100048e+07</td>\n",
       "      <td>Aceptado</td>\n",
       "    </tr>\n",
       "  </tbody>\n",
       "</table>\n",
       "</div>"
      ],
      "text/plain": [
       "       EFECTIVO           CXC    INVENTARIO    EQ_OFICINA  EQ_TRANSPORTE  \\\n",
       "0           NaN  7.710800e+06           NaN  1.237449e+06   2.947057e+05   \n",
       "1  7.437098e+04  2.213116e+06           NaN  1.335531e+05   4.000109e+05   \n",
       "2  5.269987e+06  2.893119e+07  3.983352e+05  1.533061e+07   3.478673e+06   \n",
       "3  9.092134e+05  1.145092e+07  9.577823e+06  1.068692e+06   1.302021e+06   \n",
       "4  9.688669e+05  8.539206e+06  3.898283e+06  4.168733e+05            NaN   \n",
       "\n",
       "   TERRENOS_Y_CONSTRUCCIONES           CXP  CONTRIBUCIONES_X_PAGAR  \\\n",
       "0               8.812520e+06  4.547214e+07            239671.50090   \n",
       "1               8.491851e+06  1.573254e+07             94809.20697   \n",
       "2              -1.393229e+07           NaN            610814.63990   \n",
       "3               1.379064e+06           NaN                     NaN   \n",
       "4              -6.297179e+05  7.620711e+06            116647.73960   \n",
       "\n",
       "   ANTICIPOS_CTE   CAP_SOCIAL  UTILIDADES_ACUMULADAS  UTILIDAD_O_PERDIDA  \\\n",
       "0   1.257907e+06  2356497.733          -6.009930e+06       -6.816681e+06   \n",
       "1   6.708985e+05          NaN          -7.980962e+06       -3.342452e+06   \n",
       "2   1.009937e+07  1444426.243                    NaN       -4.026344e+06   \n",
       "3   2.378928e+06  1236065.779                    NaN       -4.567435e+06   \n",
       "4   1.798065e+06  3657339.603           7.702845e+05       -7.110320e+05   \n",
       "\n",
       "   TOTAL_VENTAS  TOTAL_COMPRAS  UTILIDAD_BRUTA  TOTAL_GASTOS    OBJETIVO  \n",
       "0   41309820.53   6.872572e+07     6298390.104  1.505762e+07    Aceptado  \n",
       "1           NaN   3.588274e+07             NaN  1.085156e+07    Aceptado  \n",
       "2           NaN   3.292337e+08             NaN  8.680735e+06  Sospechoso  \n",
       "3   76310275.60            NaN             NaN  1.323267e+07    Aceptado  \n",
       "4   62901614.29   3.614260e+07     6850340.403  1.100048e+07    Aceptado  "
      ]
     },
     "execution_count": 3,
     "metadata": {},
     "output_type": "execute_result"
    }
   ],
   "source": [
    "df = pd.read_csv(r'reto-4-compu-train.csv')\n",
    "df.head()"
   ]
  },
  {
   "cell_type": "markdown",
   "metadata": {},
   "source": [
    "### Acerca del Dataset"
   ]
  },
  {
   "cell_type": "code",
   "execution_count": 4,
   "metadata": {
    "scrolled": false
   },
   "outputs": [
    {
     "name": "stdout",
     "output_type": "stream",
     "text": [
      "<class 'pandas.core.frame.DataFrame'>\n",
      "RangeIndex: 9400 entries, 0 to 9399\n",
      "Data columns (total 17 columns):\n",
      "EFECTIVO                     7986 non-null float64\n",
      "CXC                          7968 non-null float64\n",
      "INVENTARIO                   8000 non-null float64\n",
      "EQ_OFICINA                   7945 non-null float64\n",
      "EQ_TRANSPORTE                7988 non-null float64\n",
      "TERRENOS_Y_CONSTRUCCIONES    8038 non-null float64\n",
      "CXP                          7934 non-null float64\n",
      "CONTRIBUCIONES_X_PAGAR       8052 non-null float64\n",
      "ANTICIPOS_CTE                7976 non-null float64\n",
      "CAP_SOCIAL                   8036 non-null float64\n",
      "UTILIDADES_ACUMULADAS        7993 non-null float64\n",
      "UTILIDAD_O_PERDIDA           8031 non-null float64\n",
      "TOTAL_VENTAS                 7941 non-null float64\n",
      "TOTAL_COMPRAS                7908 non-null float64\n",
      "UTILIDAD_BRUTA               7971 non-null float64\n",
      "TOTAL_GASTOS                 7943 non-null float64\n",
      "OBJETIVO                     9400 non-null object\n",
      "dtypes: float64(16), object(1)\n",
      "memory usage: 1.2+ MB\n"
     ]
    }
   ],
   "source": [
    "df.info()"
   ]
  },
  {
   "cell_type": "markdown",
   "metadata": {},
   "source": [
    "Las variables son todas numericas. Solo nuestra variable TARGET (Prestamo aprobado o posible incumplimiento financiero) es the tipo float.\n",
    "\n",
    "La función describe() de abajo muestra varias estadisticas del dataset."
   ]
  },
  {
   "cell_type": "code",
   "execution_count": 5,
   "metadata": {
    "scrolled": true
   },
   "outputs": [
    {
     "data": {
      "text/html": [
       "<div>\n",
       "<style scoped>\n",
       "    .dataframe tbody tr th:only-of-type {\n",
       "        vertical-align: middle;\n",
       "    }\n",
       "\n",
       "    .dataframe tbody tr th {\n",
       "        vertical-align: top;\n",
       "    }\n",
       "\n",
       "    .dataframe thead th {\n",
       "        text-align: right;\n",
       "    }\n",
       "</style>\n",
       "<table border=\"1\" class=\"dataframe\">\n",
       "  <thead>\n",
       "    <tr style=\"text-align: right;\">\n",
       "      <th></th>\n",
       "      <th>EFECTIVO</th>\n",
       "      <th>CXC</th>\n",
       "      <th>INVENTARIO</th>\n",
       "      <th>EQ_OFICINA</th>\n",
       "      <th>EQ_TRANSPORTE</th>\n",
       "      <th>TERRENOS_Y_CONSTRUCCIONES</th>\n",
       "      <th>CXP</th>\n",
       "      <th>CONTRIBUCIONES_X_PAGAR</th>\n",
       "      <th>ANTICIPOS_CTE</th>\n",
       "      <th>CAP_SOCIAL</th>\n",
       "      <th>UTILIDADES_ACUMULADAS</th>\n",
       "      <th>UTILIDAD_O_PERDIDA</th>\n",
       "      <th>TOTAL_VENTAS</th>\n",
       "      <th>TOTAL_COMPRAS</th>\n",
       "      <th>UTILIDAD_BRUTA</th>\n",
       "      <th>TOTAL_GASTOS</th>\n",
       "    </tr>\n",
       "  </thead>\n",
       "  <tbody>\n",
       "    <tr>\n",
       "      <th>count</th>\n",
       "      <td>7.986000e+03</td>\n",
       "      <td>7.968000e+03</td>\n",
       "      <td>8.000000e+03</td>\n",
       "      <td>7.945000e+03</td>\n",
       "      <td>7.988000e+03</td>\n",
       "      <td>8.038000e+03</td>\n",
       "      <td>7.934000e+03</td>\n",
       "      <td>8.052000e+03</td>\n",
       "      <td>7.976000e+03</td>\n",
       "      <td>8.036000e+03</td>\n",
       "      <td>7.993000e+03</td>\n",
       "      <td>8.031000e+03</td>\n",
       "      <td>7.941000e+03</td>\n",
       "      <td>7.908000e+03</td>\n",
       "      <td>7.971000e+03</td>\n",
       "      <td>7.943000e+03</td>\n",
       "    </tr>\n",
       "    <tr>\n",
       "      <th>mean</th>\n",
       "      <td>1.720915e+06</td>\n",
       "      <td>1.561073e+07</td>\n",
       "      <td>1.098941e+07</td>\n",
       "      <td>4.341284e+06</td>\n",
       "      <td>1.321588e+06</td>\n",
       "      <td>6.198420e+05</td>\n",
       "      <td>2.275234e+07</td>\n",
       "      <td>4.109997e+05</td>\n",
       "      <td>2.635145e+06</td>\n",
       "      <td>3.325138e+06</td>\n",
       "      <td>4.240122e+06</td>\n",
       "      <td>-2.090086e+06</td>\n",
       "      <td>1.017051e+08</td>\n",
       "      <td>1.211510e+08</td>\n",
       "      <td>1.702067e+07</td>\n",
       "      <td>1.620236e+07</td>\n",
       "    </tr>\n",
       "    <tr>\n",
       "      <th>std</th>\n",
       "      <td>5.958844e+06</td>\n",
       "      <td>1.980334e+07</td>\n",
       "      <td>1.541956e+07</td>\n",
       "      <td>1.885512e+07</td>\n",
       "      <td>1.398674e+06</td>\n",
       "      <td>6.202347e+06</td>\n",
       "      <td>2.810091e+07</td>\n",
       "      <td>6.311683e+05</td>\n",
       "      <td>3.828127e+06</td>\n",
       "      <td>4.122756e+06</td>\n",
       "      <td>1.066916e+07</td>\n",
       "      <td>2.439421e+06</td>\n",
       "      <td>1.148423e+08</td>\n",
       "      <td>3.320798e+08</td>\n",
       "      <td>1.710116e+07</td>\n",
       "      <td>1.341951e+07</td>\n",
       "    </tr>\n",
       "    <tr>\n",
       "      <th>min</th>\n",
       "      <td>2.591455e+03</td>\n",
       "      <td>3.282261e+01</td>\n",
       "      <td>5.019700e-02</td>\n",
       "      <td>2.974216e+02</td>\n",
       "      <td>1.698222e+02</td>\n",
       "      <td>-1.577708e+07</td>\n",
       "      <td>1.276200e+01</td>\n",
       "      <td>5.638191e+03</td>\n",
       "      <td>4.495763e+00</td>\n",
       "      <td>2.334091e+00</td>\n",
       "      <td>-4.029189e+07</td>\n",
       "      <td>-8.716171e+06</td>\n",
       "      <td>7.154203e+03</td>\n",
       "      <td>1.458903e+05</td>\n",
       "      <td>2.408107e+03</td>\n",
       "      <td>3.979024e+03</td>\n",
       "    </tr>\n",
       "    <tr>\n",
       "      <th>25%</th>\n",
       "      <td>1.874601e+05</td>\n",
       "      <td>2.362067e+06</td>\n",
       "      <td>9.281351e+05</td>\n",
       "      <td>1.769855e+05</td>\n",
       "      <td>3.433503e+05</td>\n",
       "      <td>-3.874056e+06</td>\n",
       "      <td>3.711720e+06</td>\n",
       "      <td>1.113298e+05</td>\n",
       "      <td>3.813363e+05</td>\n",
       "      <td>5.629920e+05</td>\n",
       "      <td>-3.025772e+06</td>\n",
       "      <td>-3.824858e+06</td>\n",
       "      <td>2.303181e+07</td>\n",
       "      <td>1.214764e+07</td>\n",
       "      <td>4.836037e+06</td>\n",
       "      <td>6.104123e+06</td>\n",
       "    </tr>\n",
       "    <tr>\n",
       "      <th>50%</th>\n",
       "      <td>5.112329e+05</td>\n",
       "      <td>8.255125e+06</td>\n",
       "      <td>4.810330e+06</td>\n",
       "      <td>6.529255e+05</td>\n",
       "      <td>8.630635e+05</td>\n",
       "      <td>1.828932e+06</td>\n",
       "      <td>1.286143e+07</td>\n",
       "      <td>2.288855e+05</td>\n",
       "      <td>1.235872e+06</td>\n",
       "      <td>1.870131e+06</td>\n",
       "      <td>4.119952e+06</td>\n",
       "      <td>-1.629044e+06</td>\n",
       "      <td>6.309045e+07</td>\n",
       "      <td>3.473485e+07</td>\n",
       "      <td>1.181114e+07</td>\n",
       "      <td>1.272461e+07</td>\n",
       "    </tr>\n",
       "    <tr>\n",
       "      <th>75%</th>\n",
       "      <td>1.432613e+06</td>\n",
       "      <td>2.160462e+07</td>\n",
       "      <td>1.474278e+07</td>\n",
       "      <td>2.430901e+06</td>\n",
       "      <td>1.827559e+06</td>\n",
       "      <td>5.955197e+06</td>\n",
       "      <td>3.097250e+07</td>\n",
       "      <td>4.690705e+05</td>\n",
       "      <td>3.273238e+06</td>\n",
       "      <td>4.536913e+06</td>\n",
       "      <td>1.140550e+07</td>\n",
       "      <td>-7.368186e+03</td>\n",
       "      <td>1.378293e+08</td>\n",
       "      <td>1.007433e+08</td>\n",
       "      <td>2.352766e+07</td>\n",
       "      <td>2.260017e+07</td>\n",
       "    </tr>\n",
       "    <tr>\n",
       "      <th>max</th>\n",
       "      <td>3.343603e+08</td>\n",
       "      <td>2.135761e+08</td>\n",
       "      <td>1.664338e+08</td>\n",
       "      <td>5.913821e+08</td>\n",
       "      <td>1.290365e+07</td>\n",
       "      <td>9.031323e+06</td>\n",
       "      <td>2.644946e+08</td>\n",
       "      <td>1.618323e+07</td>\n",
       "      <td>4.291686e+07</td>\n",
       "      <td>4.116688e+07</td>\n",
       "      <td>4.056842e+07</td>\n",
       "      <td>1.214191e+06</td>\n",
       "      <td>1.151511e+09</td>\n",
       "      <td>1.000136e+10</td>\n",
       "      <td>1.438985e+08</td>\n",
       "      <td>9.763166e+07</td>\n",
       "    </tr>\n",
       "  </tbody>\n",
       "</table>\n",
       "</div>"
      ],
      "text/plain": [
       "           EFECTIVO           CXC    INVENTARIO    EQ_OFICINA  EQ_TRANSPORTE  \\\n",
       "count  7.986000e+03  7.968000e+03  8.000000e+03  7.945000e+03   7.988000e+03   \n",
       "mean   1.720915e+06  1.561073e+07  1.098941e+07  4.341284e+06   1.321588e+06   \n",
       "std    5.958844e+06  1.980334e+07  1.541956e+07  1.885512e+07   1.398674e+06   \n",
       "min    2.591455e+03  3.282261e+01  5.019700e-02  2.974216e+02   1.698222e+02   \n",
       "25%    1.874601e+05  2.362067e+06  9.281351e+05  1.769855e+05   3.433503e+05   \n",
       "50%    5.112329e+05  8.255125e+06  4.810330e+06  6.529255e+05   8.630635e+05   \n",
       "75%    1.432613e+06  2.160462e+07  1.474278e+07  2.430901e+06   1.827559e+06   \n",
       "max    3.343603e+08  2.135761e+08  1.664338e+08  5.913821e+08   1.290365e+07   \n",
       "\n",
       "       TERRENOS_Y_CONSTRUCCIONES           CXP  CONTRIBUCIONES_X_PAGAR  \\\n",
       "count               8.038000e+03  7.934000e+03            8.052000e+03   \n",
       "mean                6.198420e+05  2.275234e+07            4.109997e+05   \n",
       "std                 6.202347e+06  2.810091e+07            6.311683e+05   \n",
       "min                -1.577708e+07  1.276200e+01            5.638191e+03   \n",
       "25%                -3.874056e+06  3.711720e+06            1.113298e+05   \n",
       "50%                 1.828932e+06  1.286143e+07            2.288855e+05   \n",
       "75%                 5.955197e+06  3.097250e+07            4.690705e+05   \n",
       "max                 9.031323e+06  2.644946e+08            1.618323e+07   \n",
       "\n",
       "       ANTICIPOS_CTE    CAP_SOCIAL  UTILIDADES_ACUMULADAS  UTILIDAD_O_PERDIDA  \\\n",
       "count   7.976000e+03  8.036000e+03           7.993000e+03        8.031000e+03   \n",
       "mean    2.635145e+06  3.325138e+06           4.240122e+06       -2.090086e+06   \n",
       "std     3.828127e+06  4.122756e+06           1.066916e+07        2.439421e+06   \n",
       "min     4.495763e+00  2.334091e+00          -4.029189e+07       -8.716171e+06   \n",
       "25%     3.813363e+05  5.629920e+05          -3.025772e+06       -3.824858e+06   \n",
       "50%     1.235872e+06  1.870131e+06           4.119952e+06       -1.629044e+06   \n",
       "75%     3.273238e+06  4.536913e+06           1.140550e+07       -7.368186e+03   \n",
       "max     4.291686e+07  4.116688e+07           4.056842e+07        1.214191e+06   \n",
       "\n",
       "       TOTAL_VENTAS  TOTAL_COMPRAS  UTILIDAD_BRUTA  TOTAL_GASTOS  \n",
       "count  7.941000e+03   7.908000e+03    7.971000e+03  7.943000e+03  \n",
       "mean   1.017051e+08   1.211510e+08    1.702067e+07  1.620236e+07  \n",
       "std    1.148423e+08   3.320798e+08    1.710116e+07  1.341951e+07  \n",
       "min    7.154203e+03   1.458903e+05    2.408107e+03  3.979024e+03  \n",
       "25%    2.303181e+07   1.214764e+07    4.836037e+06  6.104123e+06  \n",
       "50%    6.309045e+07   3.473485e+07    1.181114e+07  1.272461e+07  \n",
       "75%    1.378293e+08   1.007433e+08    2.352766e+07  2.260017e+07  \n",
       "max    1.151511e+09   1.000136e+10    1.438985e+08  9.763166e+07  "
      ]
     },
     "execution_count": 5,
     "metadata": {},
     "output_type": "execute_result"
    }
   ],
   "source": [
    "df.describe()"
   ]
  },
  {
   "cell_type": "markdown",
   "metadata": {},
   "source": [
    "<hr>"
   ]
  },
  {
   "cell_type": "markdown",
   "metadata": {},
   "source": [
    "### Entrenamiento y evaluación de un modelo de clasificación binaria"
   ]
  },
  {
   "cell_type": "markdown",
   "metadata": {},
   "source": [
    "\n",
    "#### Transformación 1: excluir columnas del conjunto de datos\n",
    "\n",
    "Para la creación de una transformación de datos personalizada en scikit-learn, es necesario crear una clase con los métodos transform y fit. En el método de 'transform', se ejecutará la lógica de nuestra transformación.\n",
    "\n",
    "La siguiente celda muestra el código completo de una transformación DropColumns para eliminar columnas de un pandas DataFrame.\n"
   ]
  },
  {
   "cell_type": "code",
   "execution_count": 6,
   "metadata": {},
   "outputs": [],
   "source": [
    "from sklearn.base import BaseEstimator, TransformerMixin\n",
    "\n",
    "\n",
    "# All sklearn Transforms must have the `transform` and `fit` methods\n",
    "class DropColumns(BaseEstimator, TransformerMixin):\n",
    "    def __init__(self, columns):\n",
    "        self.columns = columns\n",
    "\n",
    "    def fit(self, X, y=None):\n",
    "        return self\n",
    "    \n",
    "    def transform(self, X):\n",
    "        # Primero copiamos el dataframe de datos de entrada 'X'\n",
    "        data = X.copy()\n",
    "        # Devolvemos un nuevo dataframe de datos sin las columnas no deseadas\n",
    "        return data.drop(labels=self.columns, axis='columns')"
   ]
  },
  {
   "cell_type": "code",
   "execution_count": 7,
   "metadata": {},
   "outputs": [
    {
     "name": "stdout",
     "output_type": "stream",
     "text": [
      "DropColumns(columns=['EFECTIVO', 'CXC', 'INVENTARIO', 'EQ_OFICINA', 'EQ_TRANSPORTE', 'TERRENOS_Y_CONSTRUCCIONES', 'CXP', 'CONTRIBUCIONES_X_PAGAR', 'ANTICIPOS_CTE', 'CAP_SOCIAL'])\n"
     ]
    }
   ],
   "source": [
    "# Creación de instancias de una transformación DropColumns\n",
    "rm_columns = DropColumns(\n",
    "    columns=[ 'EFECTIVO', 'CXC', 'INVENTARIO', 'EQ_OFICINA', 'EQ_TRANSPORTE',\n",
    "       'TERRENOS_Y_CONSTRUCCIONES', 'CXP', 'CONTRIBUCIONES_X_PAGAR',\n",
    "       'ANTICIPOS_CTE', 'CAP_SOCIAL']  # Esta transformación toma como parámetro una lista con los nombres de las columnas no deseadas\n",
    ")\n",
    "\n",
    "print(rm_columns)"
   ]
  },
  {
   "cell_type": "code",
   "execution_count": 91,
   "metadata": {},
   "outputs": [
    {
     "name": "stdout",
     "output_type": "stream",
     "text": [
      "Columnas del conjunto de datos original: \n",
      "\n",
      "Index(['EFECTIVO', 'CXC', 'INVENTARIO', 'EQ_OFICINA', 'EQ_TRANSPORTE',\n",
      "       'TERRENOS_Y_CONSTRUCCIONES', 'CXP', 'CONTRIBUCIONES_X_PAGAR',\n",
      "       'ANTICIPOS_CTE', 'CAP_SOCIAL', 'UTILIDADES_ACUMULADAS',\n",
      "       'UTILIDAD_O_PERDIDA', 'TOTAL_VENTAS', 'TOTAL_COMPRAS', 'UTILIDAD_BRUTA',\n",
      "       'TOTAL_GASTOS', 'OBJETIVO'],\n",
      "      dtype='object')\n",
      "\n",
      "\n",
      "Columnas del conjunto de datos después de la transformación ``DropColumns``: \n",
      "\n",
      "Index(['UTILIDADES_ACUMULADAS', 'UTILIDAD_O_PERDIDA', 'TOTAL_VENTAS',\n",
      "       'TOTAL_COMPRAS', 'UTILIDAD_BRUTA', 'TOTAL_GASTOS', 'OBJETIVO'],\n",
      "      dtype='object')\n"
     ]
    },
    {
     "data": {
      "text/html": [
       "<div>\n",
       "<style scoped>\n",
       "    .dataframe tbody tr th:only-of-type {\n",
       "        vertical-align: middle;\n",
       "    }\n",
       "\n",
       "    .dataframe tbody tr th {\n",
       "        vertical-align: top;\n",
       "    }\n",
       "\n",
       "    .dataframe thead th {\n",
       "        text-align: right;\n",
       "    }\n",
       "</style>\n",
       "<table border=\"1\" class=\"dataframe\">\n",
       "  <thead>\n",
       "    <tr style=\"text-align: right;\">\n",
       "      <th></th>\n",
       "      <th>UTILIDADES_ACUMULADAS</th>\n",
       "      <th>UTILIDAD_O_PERDIDA</th>\n",
       "      <th>TOTAL_VENTAS</th>\n",
       "      <th>TOTAL_COMPRAS</th>\n",
       "      <th>UTILIDAD_BRUTA</th>\n",
       "      <th>TOTAL_GASTOS</th>\n",
       "      <th>OBJETIVO</th>\n",
       "    </tr>\n",
       "  </thead>\n",
       "  <tbody>\n",
       "    <tr>\n",
       "      <th>0</th>\n",
       "      <td>-6.009930e+06</td>\n",
       "      <td>-6.816681e+06</td>\n",
       "      <td>41309820.53</td>\n",
       "      <td>6.872572e+07</td>\n",
       "      <td>6298390.104</td>\n",
       "      <td>1.505762e+07</td>\n",
       "      <td>Aceptado</td>\n",
       "    </tr>\n",
       "    <tr>\n",
       "      <th>1</th>\n",
       "      <td>-7.980962e+06</td>\n",
       "      <td>-3.342452e+06</td>\n",
       "      <td>NaN</td>\n",
       "      <td>3.588274e+07</td>\n",
       "      <td>NaN</td>\n",
       "      <td>1.085156e+07</td>\n",
       "      <td>Aceptado</td>\n",
       "    </tr>\n",
       "    <tr>\n",
       "      <th>2</th>\n",
       "      <td>NaN</td>\n",
       "      <td>-4.026344e+06</td>\n",
       "      <td>NaN</td>\n",
       "      <td>3.292337e+08</td>\n",
       "      <td>NaN</td>\n",
       "      <td>8.680735e+06</td>\n",
       "      <td>Sospechoso</td>\n",
       "    </tr>\n",
       "    <tr>\n",
       "      <th>3</th>\n",
       "      <td>NaN</td>\n",
       "      <td>-4.567435e+06</td>\n",
       "      <td>76310275.60</td>\n",
       "      <td>NaN</td>\n",
       "      <td>NaN</td>\n",
       "      <td>1.323267e+07</td>\n",
       "      <td>Aceptado</td>\n",
       "    </tr>\n",
       "    <tr>\n",
       "      <th>4</th>\n",
       "      <td>7.702845e+05</td>\n",
       "      <td>-7.110320e+05</td>\n",
       "      <td>62901614.29</td>\n",
       "      <td>3.614260e+07</td>\n",
       "      <td>6850340.403</td>\n",
       "      <td>1.100048e+07</td>\n",
       "      <td>Aceptado</td>\n",
       "    </tr>\n",
       "  </tbody>\n",
       "</table>\n",
       "</div>"
      ],
      "text/plain": [
       "   UTILIDADES_ACUMULADAS  UTILIDAD_O_PERDIDA  TOTAL_VENTAS  TOTAL_COMPRAS  \\\n",
       "0          -6.009930e+06       -6.816681e+06   41309820.53   6.872572e+07   \n",
       "1          -7.980962e+06       -3.342452e+06           NaN   3.588274e+07   \n",
       "2                    NaN       -4.026344e+06           NaN   3.292337e+08   \n",
       "3                    NaN       -4.567435e+06   76310275.60            NaN   \n",
       "4           7.702845e+05       -7.110320e+05   62901614.29   3.614260e+07   \n",
       "\n",
       "   UTILIDAD_BRUTA  TOTAL_GASTOS    OBJETIVO  \n",
       "0     6298390.104  1.505762e+07    Aceptado  \n",
       "1             NaN  1.085156e+07    Aceptado  \n",
       "2             NaN  8.680735e+06  Sospechoso  \n",
       "3             NaN  1.323267e+07    Aceptado  \n",
       "4     6850340.403  1.100048e+07    Aceptado  "
      ]
     },
     "execution_count": 91,
     "metadata": {},
     "output_type": "execute_result"
    }
   ],
   "source": [
    "# Ver las columnas del conjunto de datos original\n",
    "print(\"Columnas del conjunto de datos original: \\n\")\n",
    "print(df.columns)\n",
    "\n",
    "# Aplicar la transformación ``DropColumns`` al conjunto de datos base\n",
    "rm_columns.fit(X=df)\n",
    "\n",
    "# Reconstruyendo un DataFrame de Pandas con el resultado de la transformación\n",
    "df2 = pd.DataFrame.from_records(\n",
    "    data=rm_columns.transform(\n",
    "        X=df\n",
    "    ),\n",
    ")\n",
    "\n",
    "# Ver las columnas del conjunto de datos transformado\n",
    "print(\"\\n\\nColumnas del conjunto de datos después de la transformación ``DropColumns``: \\n\")\n",
    "print(df2.columns)\n",
    "df2.head()"
   ]
  },
  {
   "cell_type": "markdown",
   "metadata": {},
   "source": [
    "#### Transformación 2: estandarización de Features"
   ]
  },
  {
   "cell_type": "markdown",
   "metadata": {},
   "source": [
    "#### Definición de features (Variables Independientes)\n",
    "\n",
    "En este * ejemplo * usaremos todas las columnas. (Usted debe decidir cuales variables utilizar)"
   ]
  },
  {
   "cell_type": "markdown",
   "metadata": {},
   "source": [
    "#### División en 80% entrenamiento y 20% pruebas"
   ]
  },
  {
   "cell_type": "markdown",
   "metadata": {},
   "source": [
    "#### Transformación 3: tratamiento de datos faltantes\n",
    "\n",
    "Para manejar los datos que faltan en nuestro conjunto de datos, ahora usaremos una transformación lista para usar de la biblioteca scikit-learn, llamada SimpleImputer.\n",
    "\n",
    "Esta transformación permite varias estrategias para el tratamiento de datos faltantes. La documentación oficial se puede encontrar en: https://scikit-learn.org/stable/modules/generated/sklearn.impute.SimpleImputer.html\n",
    "\n",
    "En este ejemplo, simplemente haremos cero todos los valores faltante usted puede escoger otra estrategia ;)."
   ]
  },
  {
   "cell_type": "code",
   "execution_count": 98,
   "metadata": {},
   "outputs": [
    {
     "name": "stdout",
     "output_type": "stream",
     "text": [
      "SimpleImputer(copy=True, fill_value=None, missing_values=nan,\n",
      "       strategy='most_frequent', verbose=0)\n"
     ]
    }
   ],
   "source": [
    "# Crear un objeto ``SimpleImputer``\n",
    "si = SimpleImputer(\n",
    "    missing_values=np.nan,  # los valores que faltan son del tipo ``np.nan`` (Pandas estándar)\n",
    "    strategy='most_frequent',  # la estrategia elegida es cambiar el valor faltante por una constante\n",
    "    verbose=0,\n",
    ")\n",
    "\n",
    "print(si)"
   ]
  },
  {
   "cell_type": "code",
   "execution_count": 112,
   "metadata": {
    "scrolled": false
   },
   "outputs": [
    {
     "name": "stdout",
     "output_type": "stream",
     "text": [
      "\n",
      "\n",
      "Valores nulos en el conjunto de datos después de la transformación SimpleImputer: \n",
      "\n",
      "0                                         -2.27994e+10\n",
      "1                                         -2.87179e+10\n",
      "2                                          8.07651e+11\n",
      "3                                           9.5828e+11\n",
      "4                                          1.35675e+11\n",
      "5                                          1.28701e+11\n",
      "6    AceptadoAceptadoAceptadoSospechosoAceptadoSosp...\n",
      "dtype: object\n",
      "\n"
     ]
    }
   ],
   "source": [
    "# Ver los datos faltantes del conjunto de datos antes de la primera transformación (df_data_2)\n",
    "#print(\"Valores nulos antes de la transformación SimpleImputer: \\n\\n{}\\n\".format(df2.isnull().sum(axis = 0)))\n",
    "df2=np.array(df2)\n",
    "# Aplicamos el SimpleImputer ``si`` al conjunto de datos df_data_2 (resultado de la primera transformación)\n",
    "si=si.fit(df2[::-1])\n",
    "\n",
    " #Reconstrucción de un nuevo DataFrame de Pandas con el conjunto imputado (df_data_3)\n",
    "df3 = pd.DataFrame.from_records(\n",
    "    data=si.transform(\n",
    "        df2[::-1]\n",
    "   ),  # el resultado SimpleImputer.transform (<< pandas dataframe >>) es lista lista\n",
    "\n",
    "# las columnas originales deben conservarse en esta transformación\n",
    ")\n",
    "\n",
    "# Ver los datos faltantes del conjunto de datos después de la segunda transformación (SimpleImputer) (df_data_3)\n",
    "print(\"\\n\\nValores nulos en el conjunto de datos después de la transformación SimpleImputer: \\n\\n{}\\n\".format(df3.sum(axis = 0)))"
   ]
  },
  {
   "cell_type": "code",
   "execution_count": 113,
   "metadata": {},
   "outputs": [
    {
     "name": "stdout",
     "output_type": "stream",
     "text": [
      "Index(['UTILIDADES_ACUMULADAS', 'UTILIDAD_O_PERDIDA', 'TOTAL_VENTAS',\n",
      "       'TOTAL_COMPRAS', 'UTILIDAD_BRUTA', 'TOTAL_GASTOS', 'OBJETIVO'],\n",
      "      dtype='object')\n"
     ]
    },
    {
     "data": {
      "text/html": [
       "<div>\n",
       "<style scoped>\n",
       "    .dataframe tbody tr th:only-of-type {\n",
       "        vertical-align: middle;\n",
       "    }\n",
       "\n",
       "    .dataframe tbody tr th {\n",
       "        vertical-align: top;\n",
       "    }\n",
       "\n",
       "    .dataframe thead th {\n",
       "        text-align: right;\n",
       "    }\n",
       "</style>\n",
       "<table border=\"1\" class=\"dataframe\">\n",
       "  <thead>\n",
       "    <tr style=\"text-align: right;\">\n",
       "      <th></th>\n",
       "      <th>UTILIDADES_ACUMULADAS</th>\n",
       "      <th>UTILIDAD_O_PERDIDA</th>\n",
       "      <th>TOTAL_VENTAS</th>\n",
       "      <th>TOTAL_COMPRAS</th>\n",
       "      <th>UTILIDAD_BRUTA</th>\n",
       "      <th>TOTAL_GASTOS</th>\n",
       "      <th>OBJETIVO</th>\n",
       "    </tr>\n",
       "  </thead>\n",
       "  <tbody>\n",
       "    <tr>\n",
       "      <th>0</th>\n",
       "      <td>-4.029189e+07</td>\n",
       "      <td>-2486727.744</td>\n",
       "      <td>1.122458e+08</td>\n",
       "      <td>1.136379e+08</td>\n",
       "      <td>22303696.39</td>\n",
       "      <td>26172747.54</td>\n",
       "      <td>Aceptado</td>\n",
       "    </tr>\n",
       "    <tr>\n",
       "      <th>1</th>\n",
       "      <td>1.036295e+06</td>\n",
       "      <td>-1710693.486</td>\n",
       "      <td>7.154203e+03</td>\n",
       "      <td>1.079290e+08</td>\n",
       "      <td>33875162.34</td>\n",
       "      <td>33678877.65</td>\n",
       "      <td>Aceptado</td>\n",
       "    </tr>\n",
       "    <tr>\n",
       "      <th>2</th>\n",
       "      <td>6.787283e+06</td>\n",
       "      <td>-8716171.436</td>\n",
       "      <td>8.408760e+07</td>\n",
       "      <td>2.220056e+08</td>\n",
       "      <td>14722995.91</td>\n",
       "      <td>24415528.51</td>\n",
       "      <td>Aceptado</td>\n",
       "    </tr>\n",
       "    <tr>\n",
       "      <th>3</th>\n",
       "      <td>1.974726e+07</td>\n",
       "      <td>-6242070.631</td>\n",
       "      <td>1.114211e+08</td>\n",
       "      <td>1.004731e+08</td>\n",
       "      <td>12885083.17</td>\n",
       "      <td>10916813.86</td>\n",
       "      <td>Sospechoso</td>\n",
       "    </tr>\n",
       "    <tr>\n",
       "      <th>4</th>\n",
       "      <td>6.505209e+06</td>\n",
       "      <td>-1340405.857</td>\n",
       "      <td>1.316208e+08</td>\n",
       "      <td>1.458903e+05</td>\n",
       "      <td>42130695.21</td>\n",
       "      <td>51144931.69</td>\n",
       "      <td>Aceptado</td>\n",
       "    </tr>\n",
       "  </tbody>\n",
       "</table>\n",
       "</div>"
      ],
      "text/plain": [
       "   UTILIDADES_ACUMULADAS  UTILIDAD_O_PERDIDA  TOTAL_VENTAS  TOTAL_COMPRAS  \\\n",
       "0          -4.029189e+07        -2486727.744  1.122458e+08   1.136379e+08   \n",
       "1           1.036295e+06        -1710693.486  7.154203e+03   1.079290e+08   \n",
       "2           6.787283e+06        -8716171.436  8.408760e+07   2.220056e+08   \n",
       "3           1.974726e+07        -6242070.631  1.114211e+08   1.004731e+08   \n",
       "4           6.505209e+06        -1340405.857  1.316208e+08   1.458903e+05   \n",
       "\n",
       "   UTILIDAD_BRUTA  TOTAL_GASTOS    OBJETIVO  \n",
       "0     22303696.39   26172747.54    Aceptado  \n",
       "1     33875162.34   33678877.65    Aceptado  \n",
       "2     14722995.91   24415528.51    Aceptado  \n",
       "3     12885083.17   10916813.86  Sospechoso  \n",
       "4     42130695.21   51144931.69    Aceptado  "
      ]
     },
     "execution_count": 113,
     "metadata": {},
     "output_type": "execute_result"
    }
   ],
   "source": [
    "df3.columns=['UTILIDADES_ACUMULADAS',\n",
    "       'UTILIDAD_O_PERDIDA', 'TOTAL_VENTAS', 'TOTAL_COMPRAS', 'UTILIDAD_BRUTA',\n",
    "       'TOTAL_GASTOS','OBJETIVO']\n",
    "print(df3.columns)\n",
    "df3.head()"
   ]
  },
  {
   "cell_type": "code",
   "execution_count": 114,
   "metadata": {},
   "outputs": [],
   "source": [
    "# Definiendo las variables features y target (removed CXC and CXP)\n",
    "\n",
    "features = df3[\n",
    "    [\n",
    "        'UTILIDADES_ACUMULADAS',\n",
    "        'UTILIDAD_O_PERDIDA',\n",
    "        'TOTAL_VENTAS',\n",
    "        'TOTAL_COMPRAS',\n",
    "        'UTILIDAD_BRUTA',\n",
    "        'TOTAL_GASTOS',\n",
    "    ]\n",
    "]\n",
    "target = df3[\"OBJETIVO\"]  ## No cambie la variable target!"
   ]
  },
  {
   "cell_type": "code",
   "execution_count": 115,
   "metadata": {},
   "outputs": [],
   "source": [
    "X_train, X_test, y_train, y_test = train_test_split(features, target, test_size=0.2, random_state=None)"
   ]
  },
  {
   "cell_type": "code",
   "execution_count": 116,
   "metadata": {},
   "outputs": [],
   "source": [
    "from sklearn.preprocessing import StandardScaler\n",
    "\n",
    "sc = StandardScaler()\n",
    "\n",
    "X_train = sc.fit_transform(X_train)\n",
    "X_test = sc.transform(X_test)"
   ]
  },
  {
   "cell_type": "markdown",
   "metadata": {},
   "source": [
    "#### Entrenando un modelo ``DecisionTreeClassifier()``"
   ]
  },
  {
   "cell_type": "code",
   "execution_count": 118,
   "metadata": {},
   "outputs": [],
   "source": [
    "# Método para creacion de modelos basados en arbol de desición\n",
    "#from sklearn.tree import DecisionTreeClassifier\n",
    "from sklearn.naive_bayes import GaussianNB\n",
    "\n",
    "dtc = GaussianNB()\n",
    "model = dtc.fit(X_train, y_train)"
   ]
  },
  {
   "cell_type": "markdown",
   "metadata": {},
   "source": [
    "#### Haciendo una predicción con el set de prueba"
   ]
  },
  {
   "cell_type": "code",
   "execution_count": 119,
   "metadata": {
    "scrolled": true
   },
   "outputs": [
    {
     "name": "stdout",
     "output_type": "stream",
     "text": [
      "['Aceptado' 'Sospechoso' 'Aceptado' ... 'Aceptado' 'Aceptado' 'Aceptado']\n"
     ]
    }
   ],
   "source": [
    "y_pred = dtc.predict(X_test)\n",
    "print(y_pred)"
   ]
  },
  {
   "cell_type": "markdown",
   "metadata": {},
   "source": [
    "#### Analizar la calidad del modelo a través de la matriz de confusión"
   ]
  },
  {
   "cell_type": "code",
   "execution_count": 120,
   "metadata": {},
   "outputs": [
    {
     "data": {
      "text/plain": [
       "Text(0.5, 15.0, 'Predicted label\\n\\nAccuracy=0.898\\nPrecision=0.212\\nRecall=0.387\\nF1 Score=0.2737642585551331')"
      ]
     },
     "execution_count": 120,
     "metadata": {},
     "output_type": "execute_result"
    },
    {
     "data": {
      "image/png": "[encoded data removed]",
      "text/plain": [
       "<Figure size 432x288 with 2 Axes>"
      ]
     },
     "metadata": {
      "needs_background": "light"
     },
     "output_type": "display_data"
    }
   ],
   "source": [
    "\n",
    "from sklearn.metrics import confusion_matrix\n",
    "\n",
    "cf_matrix = confusion_matrix(y_test, y_pred)\n",
    "group_names = ['Aprobado `Aceptado`', 'Refused `Sospechoso`', 'Refused `Aceptado`', 'Aprobado `Sospechoso`']\n",
    "group_counts = ['{0:0.0f}'.format(value) for value in cf_matrix.flatten()]\n",
    "group_percentages = ['{0:.2%}'.format(value) for value in cf_matrix.flatten()/np.sum(cf_matrix)]\n",
    "labels = [f'{v1}\\n{v2}\\n{v3}' for v1, v2, v3 in zip(group_names, group_counts, group_percentages)]\n",
    "labels = np.asarray(labels).reshape(2,2)\n",
    "accuracy  = np.trace(cf_matrix) / float(np.sum(cf_matrix))\n",
    "precision = cf_matrix[1,1] / sum(cf_matrix[:,1])\n",
    "recall    = cf_matrix[1,1] / sum(cf_matrix[1,:])\n",
    "f1_score  = 2*precision*recall / (precision + recall)\n",
    "sns.heatmap(cf_matrix, annot=labels, fmt='')\n",
    "stats_text = \"\\n\\nAccuracy={:0.3f}\\nPrecision={:0.3f}\\nRecall={:0.3f}\\nF1 Score={}\".format(accuracy, precision, recall, f1_score)\n",
    "plt.ylabel('True label')\n",
    "plt.xlabel('Predicted label' + stats_text)"
   ]
  },
  {
   "cell_type": "markdown",
   "metadata": {},
   "source": [
    "##### ¡ATENCIÓN! Su puntuación en este desafío de clasificación se basará en la puntuación F1 del modelo."
   ]
  },
  {
   "cell_type": "markdown",
   "metadata": {},
   "source": [
    "<hr>"
   ]
  },
  {
   "cell_type": "markdown",
   "metadata": {},
   "source": [
    "### Construcción del Pipeline completo para el encapsulamiento en WML"
   ]
  },
  {
   "cell_type": "markdown",
   "metadata": {},
   "source": [
    "#### Preparando transformaciones personalizadas para cargar en WML"
   ]
  },
  {
   "cell_type": "markdown",
   "metadata": {},
   "source": [
    "En el reto 2 (Tortuga Code), se mostró cómo crear una transformación personalizada, declarando una clase Python con los métodos ``fit`` y ``transform``.\n",
    "\n",
    "    - Código de transformación personalizada DropColumns():\n",
    "    \n",
    "    from sklearn.base import BaseEstimator, TransformerMixin\n",
    "    # All sklearn Transforms must have the `transform` and `fit` methods\n",
    "    class DropColumns(BaseEstimator, TransformerMixin):\n",
    "        def __init__(self, columns):\n",
    "            self.columns = columns\n",
    "        def fit(self, X, y=None):\n",
    "            return self\n",
    "        def transform(self, X):\n",
    "            # Primero copiamos el dataframe de entrada 'X' de entrada\n",
    "            data = X.copy()\n",
    "            # Devolvemos un nuevo marco de datos sin las columnas no deseadas\n",
    "            return data.drop(labels=self.columns, axis='columns')\n",
    "\n",
    "Para integrar estos tipos de transformaciones personalizadas con Pipelines en Watson Machine Learning, primero debe empaquetar su código personalizado como una biblioteca de Python. Esto se puede hacer fácilmente usando la herramienta *setuptools*.\n",
    "\n",
    "En el siguiente repositorio de git: https://github.com/vnderlev/sklearn_transforms tenemos todos los archivos necesarios para crear un paquete de Python, llamado **my_custom_sklearn_transforms**.\n",
    "Este paquete tiene la siguiente estructura de archivos:\n",
    "\n",
    "    /my_custom_sklearn_transforms.egg-info\n",
    "        dependency_links.txt\n",
    "        not-zip-safe\n",
    "        PKG-INFO\n",
    "        SOURCES.txt\n",
    "        top_level.txt\n",
    "    /my_custom_sklearn_transforms\n",
    "        __init__.py\n",
    "        sklearn_transformers.py\n",
    "    PKG-INFO\n",
    "    README.md\n",
    "    setup.cfg\n",
    "    setup.py\n",
    "    \n",
    "El archivo principal, que contendrá el código para nuestras transformaciones personalizadas, es el archivo **/my_custom_sklearn_transforms/sklearn_transformers.py**. Si accedes a él en el repositorio, notarás que contiene exactamente el mismo código declarado en el primer paso (la clase DropColumns).\n",
    "\n",
    "Si has declarado sus propias transformaciones (además de la DropColumn proporcionada), debes agregar todas las clases de esas transformaciones creadas en este mismo archivo. Para hacer esto, debes hacer fork de este repositorio (esto se puede hacer en la propia interfaz web de Github, haciendo clic en el botón como se muestra en la imagen a continuación) y agregue sus clases personalizadas al archivo **sklearn_transformers.py**.\n",
    "\n",
    "![alt text](https://i.imgur.com/2lZ4Ty2.png \"forking-a-repo\")\n",
    "\n",
    "Si solo hizo uso de la transformación proporcionada (DropColumns), puede omitir este paso de fork y continuar usando el paquete base provisto. :)\n",
    "\n",
    "Después de preparar su paquete de Python con sus transformaciones personalizadas, reemplace el enlace del repositorio de git en la celda a continuación y ejecútelo. Si no ha preparado ninguna transformación nueva, ejecute la celda con el enlace del repositorio ya proporcionado.\n",
    "\n",
    "<hr>\n",
    "    \n",
    "**OBSERVACIÓN**\n",
    "\n",
    "Si la ejecución de la celda a continuación devuelve un error de que el repositorio ya existe, ejecute:\n",
    "\n",
    "**!rm -r -f sklearn_transforms**"
   ]
  },
  {
   "cell_type": "code",
   "execution_count": 121,
   "metadata": {},
   "outputs": [
    {
     "name": "stdout",
     "output_type": "stream",
     "text": [
      "Cloning into 'sklearn_transforms'...\n",
      "remote: Enumerating objects: 59, done.\u001b[K\n",
      "remote: Total 59 (delta 0), reused 0 (delta 0), pack-reused 59\u001b[K\n",
      "Unpacking objects: 100% (59/59), done.\n"
     ]
    }
   ],
   "source": [
    "# Susbtituya el link de abajo por el link de su repositorio git (se es necesario)\n",
    "!git clone https://github.com/vnderlev/sklearn_transforms.git"
   ]
  },
  {
   "cell_type": "code",
   "execution_count": 122,
   "metadata": {},
   "outputs": [
    {
     "name": "stdout",
     "output_type": "stream",
     "text": [
      "total 3428\r\n",
      "-rw-r----- 1 dsxuser dsxuser 1751735 Aug 25 18:37 reto-4-compu-train.csv\r\n",
      "-rw-r----- 1 dsxuser dsxuser 1751735 Aug 25 19:30 reto-4-compu-train.csv.1\r\n",
      "drwxr-x--- 5 dsxuser dsxuser    4096 Aug 25 21:02 sklearn_transforms\r\n"
     ]
    }
   ],
   "source": [
    "!cd sklearn_transforms\n",
    "!ls -ltr"
   ]
  },
  {
   "cell_type": "markdown",
   "metadata": {},
   "source": [
    "Para subir o código no WML, precisamos enviar um arquivo .zip com todo o código fonte, então iremos zipar o diretório clonado em seguida:"
   ]
  },
  {
   "cell_type": "code",
   "execution_count": 123,
   "metadata": {
    "scrolled": false
   },
   "outputs": [
    {
     "name": "stdout",
     "output_type": "stream",
     "text": [
      "  adding: sklearn_transforms/ (stored 0%)\r\n",
      "  adding: sklearn_transforms/setup.py (deflated 46%)\r\n",
      "  adding: sklearn_transforms/.git/ (stored 0%)\r\n",
      "  adding: sklearn_transforms/.git/description (deflated 14%)\r\n",
      "  adding: sklearn_transforms/.git/hooks/ (stored 0%)\r\n",
      "  adding: sklearn_transforms/.git/hooks/pre-applypatch.sample (deflated 36%)\r\n",
      "  adding: sklearn_transforms/.git/hooks/update.sample (deflated 68%)\r\n",
      "  adding: sklearn_transforms/.git/hooks/prepare-commit-msg.sample (deflated 46%)\r\n",
      "  adding: sklearn_transforms/.git/hooks/pre-rebase.sample (deflated 59%)\r\n",
      "  adding: sklearn_transforms/.git/hooks/pre-commit.sample (deflated 46%)\r\n",
      "  adding: sklearn_transforms/.git/hooks/commit-msg.sample (deflated 44%)\r\n",
      "  adding: sklearn_transforms/.git/hooks/applypatch-msg.sample (deflated 41%)\r\n",
      "  adding: sklearn_transforms/.git/hooks/post-update.sample (deflated 27%)\r\n",
      "  adding: sklearn_transforms/.git/hooks/pre-push.sample (deflated 50%)\r\n",
      "  adding: sklearn_transforms/.git/HEAD (stored 0%)\r\n",
      "  adding: sklearn_transforms/.git/packed-refs (deflated 9%)\r\n",
      "  adding: sklearn_transforms/.git/logs/ (stored 0%)\r\n",
      "  adding: sklearn_transforms/.git/logs/HEAD (deflated 28%)\r\n",
      "  adding: sklearn_transforms/.git/logs/refs/ (stored 0%)\r\n",
      "  adding: sklearn_transforms/.git/logs/refs/remotes/ (stored 0%)\r\n",
      "  adding: sklearn_transforms/.git/logs/refs/remotes/origin/ (stored 0%)\r\n",
      "  adding: sklearn_transforms/.git/logs/refs/remotes/origin/HEAD (deflated 28%)\r\n",
      "  adding: sklearn_transforms/.git/logs/refs/heads/ (stored 0%)\r\n",
      "  adding: sklearn_transforms/.git/logs/refs/heads/master (deflated 28%)\r\n",
      "  adding: sklearn_transforms/.git/objects/ (stored 0%)\r\n",
      "  adding: sklearn_transforms/.git/objects/54/ (stored 0%)\r\n",
      "  adding: sklearn_transforms/.git/objects/54/a860e717a464beb16bcb21419ab86f8351fbf0 (stored 0%)\r\n",
      "  adding: sklearn_transforms/.git/objects/54/5d0fb908f733cd9eed69b0004a2dfeb33b5c48 (stored 0%)\r\n",
      "  adding: sklearn_transforms/.git/objects/e6/ (stored 0%)\r\n",
      "  adding: sklearn_transforms/.git/objects/e6/9de29bb2d1d6434b8b29ae775ad8c2e48c5391 (stored 0%)\r\n",
      "  adding: sklearn_transforms/.git/objects/b6/ (stored 0%)\r\n",
      "  adding: sklearn_transforms/.git/objects/b6/979f3149443c66198e505c1e761f2766b4ea35 (stored 0%)\r\n",
      "  adding: sklearn_transforms/.git/objects/82/ (stored 0%)\r\n",
      "  adding: sklearn_transforms/.git/objects/82/e0b0b52c39cd1840e7853e6d00986fae5683f4 (stored 0%)\r\n",
      "  adding: sklearn_transforms/.git/objects/f9/ (stored 0%)\r\n",
      "  adding: sklearn_transforms/.git/objects/f9/842759dbd395649399f47479175e044b6b40ae (stored 0%)\r\n",
      "  adding: sklearn_transforms/.git/objects/29/ (stored 0%)\r\n",
      "  adding: sklearn_transforms/.git/objects/29/c65b6319ccd5b1c7da36655bb0c44e09fff991 (stored 0%)\r\n",
      "  adding: sklearn_transforms/.git/objects/29/ffc1c2af8fa4b0ef5eef0ba4fdc441915d1a91 (stored 0%)\r\n",
      "  adding: sklearn_transforms/.git/objects/8c/ (stored 0%)\r\n",
      "  adding: sklearn_transforms/.git/objects/8c/46dcca21d6dd2c23afb4a858d2b77d56bbf050 (stored 0%)\r\n",
      "  adding: sklearn_transforms/.git/objects/8c/d09104c54f140d61a6e9fa6c2142d4565ee302 (stored 0%)\r\n",
      "  adding: sklearn_transforms/.git/objects/1b/ (stored 0%)\r\n",
      "  adding: sklearn_transforms/.git/objects/1b/9e7f9e69d0cac5283f551433cdaf8e65199698 (stored 0%)\r\n",
      "  adding: sklearn_transforms/.git/objects/1e/ (stored 0%)\r\n",
      "  adding: sklearn_transforms/.git/objects/1e/1e45038dfc30ed50e6d081ec85e8a3fdfb8913 (stored 0%)\r\n",
      "  adding: sklearn_transforms/.git/objects/aa/ (stored 0%)\r\n",
      "  adding: sklearn_transforms/.git/objects/aa/1db9544c86800c5018cb8f28d1e74fbd192991 (stored 0%)\r\n",
      "  adding: sklearn_transforms/.git/objects/05/ (stored 0%)\r\n",
      "  adding: sklearn_transforms/.git/objects/05/6cab60f81eb62f20ffd3cab59b6d232f0188e9 (stored 0%)\r\n",
      "  adding: sklearn_transforms/.git/objects/22/ (stored 0%)\r\n",
      "  adding: sklearn_transforms/.git/objects/22/2e658014f5f2a43e16ce3c5e896e00fef1f3d5 (stored 0%)\r\n",
      "  adding: sklearn_transforms/.git/objects/7e/ (stored 0%)\r\n",
      "  adding: sklearn_transforms/.git/objects/7e/ae3d08dc940e367e3c1e2ac7a35a8b00df2e12 (stored 0%)\r\n",
      "  adding: sklearn_transforms/.git/objects/bc/ (stored 0%)\r\n",
      "  adding: sklearn_transforms/.git/objects/bc/a817006f92d9e390374c1ed6467fad5ff7bab0 (stored 0%)\r\n",
      "  adding: sklearn_transforms/.git/objects/bc/bd8f17177cd1afe8396315d2039283fa993390 (stored 0%)\r\n",
      "  adding: sklearn_transforms/.git/objects/58/ (stored 0%)\r\n",
      "  adding: sklearn_transforms/.git/objects/58/25ba31fa0c00d63a9dc9865e0c848442a6fbcd (stored 0%)\r\n",
      "  adding: sklearn_transforms/.git/objects/85/ (stored 0%)\r\n",
      "  adding: sklearn_transforms/.git/objects/85/bd34a4ae5f5c965a082a26b38a3268a662ae2b (stored 0%)\r\n",
      "  adding: sklearn_transforms/.git/objects/24/ (stored 0%)\r\n",
      "  adding: sklearn_transforms/.git/objects/24/7b371c9092731e07412dc5286126ed3a18756a (stored 0%)\r\n",
      "  adding: sklearn_transforms/.git/objects/5a/ (stored 0%)\r\n",
      "  adding: sklearn_transforms/.git/objects/5a/b47e5cada9bcefbd66782d50edf2a86005dcb5 (stored 0%)\r\n",
      "  adding: sklearn_transforms/.git/objects/d7/ (stored 0%)\r\n",
      "  adding: sklearn_transforms/.git/objects/d7/cfed1a9cf21930beb933ecafb2e3d4d3a77874 (stored 0%)\r\n",
      "  adding: sklearn_transforms/.git/objects/ee/ (stored 0%)\r\n",
      "  adding: sklearn_transforms/.git/objects/ee/96aaec3459bae7b27b49e17f867db49c3257a8 (stored 0%)\r\n",
      "  adding: sklearn_transforms/.git/objects/cb/ (stored 0%)\r\n",
      "  adding: sklearn_transforms/.git/objects/cb/d827fdd178a26f42d8b01c58320b03f3eae7fa (stored 0%)\r\n",
      "  adding: sklearn_transforms/.git/objects/c0/ (stored 0%)\r\n",
      "  adding: sklearn_transforms/.git/objects/c0/e12da6a090fe6b2740d0cbfa7119915a00a643 (stored 0%)\r\n",
      "  adding: sklearn_transforms/.git/objects/2f/ (stored 0%)\r\n",
      "  adding: sklearn_transforms/.git/objects/2f/ab3357d7d157a7a6bbda08aad6cf19970d2cc3 (stored 0%)\r\n",
      "  adding: sklearn_transforms/.git/objects/6a/ (stored 0%)\r\n",
      "  adding: sklearn_transforms/.git/objects/6a/3c980900b1ce8383ed0fd1cbcb9195d582cf4e (stored 0%)\r\n",
      "  adding: sklearn_transforms/.git/objects/26/ (stored 0%)\r\n",
      "  adding: sklearn_transforms/.git/objects/26/3abe321ee224139817e2325d5c91ac8f0eed50 (stored 0%)\r\n",
      "  adding: sklearn_transforms/.git/objects/80/ (stored 0%)\r\n",
      "  adding: sklearn_transforms/.git/objects/80/b20e55b5f52a87b7769e08df221e07d9cc0f3a (stored 0%)\r\n",
      "  adding: sklearn_transforms/.git/objects/c3/ (stored 0%)\r\n",
      "  adding: sklearn_transforms/.git/objects/c3/9f70251de841c8e55e9c58d2fa7dbbe2d2fb0f (stored 0%)\r\n",
      "  adding: sklearn_transforms/.git/objects/06/ (stored 0%)\r\n",
      "  adding: sklearn_transforms/.git/objects/06/998ae152d5b5fad89c81a6853dbbc0830fd6c7 (stored 0%)\r\n",
      "  adding: sklearn_transforms/.git/objects/c6/ (stored 0%)\r\n",
      "  adding: sklearn_transforms/.git/objects/c6/4e501fc43c00861aa7ccae744058ba87c304fd (stored 0%)\r\n",
      "  adding: sklearn_transforms/.git/objects/d3/ (stored 0%)\r\n",
      "  adding: sklearn_transforms/.git/objects/d3/697484c118054fc68a13eaac93c2f93536b77e (stored 0%)\r\n",
      "  adding: sklearn_transforms/.git/objects/d0/ (stored 0%)\r\n",
      "  adding: sklearn_transforms/.git/objects/d0/4d8adf3dbf886c5799f7f367168b0785f0a4f5 (stored 0%)\r\n",
      "  adding: sklearn_transforms/.git/objects/21/ (stored 0%)\r\n",
      "  adding: sklearn_transforms/.git/objects/21/64a6e4b4ca3afc26c4b21982d433c8c54039a1 (stored 0%)\r\n",
      "  adding: sklearn_transforms/.git/objects/da/ (stored 0%)\r\n",
      "  adding: sklearn_transforms/.git/objects/da/64b79708ea475e8c6b484d837676ce91d9801e (stored 0%)\r\n",
      "  adding: sklearn_transforms/.git/objects/61/ (stored 0%)\r\n",
      "  adding: sklearn_transforms/.git/objects/61/e62b4f1623878ae0d92ffa812570be417feb82 (stored 0%)\r\n",
      "  adding: sklearn_transforms/.git/objects/04/ (stored 0%)\r\n",
      "  adding: sklearn_transforms/.git/objects/04/b1ff2d79c9b11a1d494b6f6d42acb629236af4 (stored 0%)\r\n",
      "  adding: sklearn_transforms/.git/objects/52/ (stored 0%)\r\n",
      "  adding: sklearn_transforms/.git/objects/52/6fb1c4f5a0d3a2482041c7bd3f15263837acf5 (stored 0%)\r\n",
      "  adding: sklearn_transforms/.git/objects/39/ (stored 0%)\r\n",
      "  adding: sklearn_transforms/.git/objects/39/d4d3fd1cc23783dbadb2d673f3758863106854 (stored 0%)\r\n",
      "  adding: sklearn_transforms/.git/objects/39/ccfbaf81e116c9eb9781c7cd0b7acdd5ad10aa (stored 0%)\r\n",
      "  adding: sklearn_transforms/.git/objects/7b/ (stored 0%)\r\n",
      "  adding: sklearn_transforms/.git/objects/7b/04014fbd820cb0146dcec7965f01f304436510 (stored 0%)\r\n",
      "  adding: sklearn_transforms/.git/objects/c4/ (stored 0%)\r\n",
      "  adding: sklearn_transforms/.git/objects/c4/b90bb9bfb2674c96e6d8aa6cc3c8e58194f953 (stored 0%)\r\n",
      "  adding: sklearn_transforms/.git/objects/cc/ (stored 0%)\r\n",
      "  adding: sklearn_transforms/.git/objects/cc/fdab500390127d0490aaf9ee369565b05c41b4 (stored 0%)\r\n",
      "  adding: sklearn_transforms/.git/objects/f2/ (stored 0%)\r\n",
      "  adding: sklearn_transforms/.git/objects/f2/598626ccd27c586d5b759e5186abc64c058912 (stored 0%)\r\n",
      "  adding: sklearn_transforms/.git/objects/2e/ (stored 0%)\r\n",
      "  adding: sklearn_transforms/.git/objects/2e/2e5168d3c37ccbaeb3b899da3f30fb6bc70031 (stored 0%)\r\n",
      "  adding: sklearn_transforms/.git/objects/9b/ (stored 0%)\r\n",
      "  adding: sklearn_transforms/.git/objects/9b/9fe6ce4d68c31dfc1eb7e923e5c90b0595b24d (stored 0%)\r\n",
      "  adding: sklearn_transforms/.git/objects/pack/ (stored 0%)\r\n",
      "  adding: sklearn_transforms/.git/objects/0e/ (stored 0%)\r\n",
      "  adding: sklearn_transforms/.git/objects/0e/cc61a0a4baff0885426f45a8fcb9fbb78f8009 (stored 0%)\r\n",
      "  adding: sklearn_transforms/.git/objects/info/ (stored 0%)\r\n",
      "  adding: sklearn_transforms/.git/objects/8b/ (stored 0%)\r\n",
      "  adding: sklearn_transforms/.git/objects/8b/137891791fe96927ad78e64b0aad7bded08bdc (stored 0%)\r\n",
      "  adding: sklearn_transforms/.git/objects/99/ (stored 0%)\r\n",
      "  adding: sklearn_transforms/.git/objects/99/bde3a281e0a208866b47dcde00a4e4cd8afca0 (stored 0%)\r\n",
      "  adding: sklearn_transforms/.git/objects/77/ (stored 0%)\r\n",
      "  adding: sklearn_transforms/.git/objects/77/7798a7cedea3a2fddef8dd0b7691c9b1f9f97b (stored 0%)\r\n",
      "  adding: sklearn_transforms/.git/objects/46/ (stored 0%)\r\n",
      "  adding: sklearn_transforms/.git/objects/46/862abd9b50e51c99a1f65be820af360594f8c2 (stored 0%)\r\n",
      "  adding: sklearn_transforms/.git/objects/af/ (stored 0%)\r\n",
      "  adding: sklearn_transforms/.git/objects/af/1140cfcb4e33bc03d9b067c1f7d70147d043d7 (stored 0%)\r\n",
      "  adding: sklearn_transforms/.git/objects/1c/ (stored 0%)\r\n",
      "  adding: sklearn_transforms/.git/objects/1c/49d4656922fe1182c905339ec7a468e6881d99 (stored 0%)\r\n",
      "  adding: sklearn_transforms/.git/objects/2c/ (stored 0%)\r\n",
      "  adding: sklearn_transforms/.git/objects/2c/c7a6bf2941a9d553a199a4fe658f0074a54b51 (stored 0%)\r\n",
      "  adding: sklearn_transforms/.git/objects/2c/de64a17098cba673b28c995910b268f5e34e7a (stored 0%)\r\n",
      "  adding: sklearn_transforms/.git/objects/e8/ (stored 0%)\r\n",
      "  adding: sklearn_transforms/.git/objects/e8/8e9a7c9bc5a570d097ba4001ea0c327cba6f0a (stored 0%)\r\n",
      "  adding: sklearn_transforms/.git/objects/a0/ (stored 0%)\r\n",
      "  adding: sklearn_transforms/.git/objects/a0/3066ce73d15efd1cc6449dea7e2b678089edd6 (stored 0%)\r\n",
      "  adding: sklearn_transforms/.git/config (deflated 34%)\r\n",
      "  adding: sklearn_transforms/.git/index (deflated 53%)\r\n",
      "  adding: sklearn_transforms/.git/info/ (stored 0%)\r\n",
      "  adding: sklearn_transforms/.git/info/exclude (deflated 28%)\r\n",
      "  adding: sklearn_transforms/.git/refs/ (stored 0%)\r\n",
      "  adding: sklearn_transforms/.git/refs/tags/ (stored 0%)\r\n",
      "  adding: sklearn_transforms/.git/refs/remotes/ (stored 0%)\r\n",
      "  adding: sklearn_transforms/.git/refs/remotes/origin/ (stored 0%)\r\n",
      "  adding: sklearn_transforms/.git/refs/remotes/origin/HEAD (stored 0%)\r\n",
      "  adding: sklearn_transforms/.git/refs/heads/ (stored 0%)\r\n",
      "  adding: sklearn_transforms/.git/refs/heads/master (stored 0%)\r\n",
      "  adding: sklearn_transforms/.git/branches/ (stored 0%)\r\n",
      "  adding: sklearn_transforms/my_custom_sklearn_transforms.egg-info/ (stored 0%)\r\n",
      "  adding: sklearn_transforms/my_custom_sklearn_transforms.egg-info/dependency_links.txt (stored 0%)\r\n",
      "  adding: sklearn_transforms/my_custom_sklearn_transforms.egg-info/not-zip-safe (stored 0%)\r\n",
      "  adding: sklearn_transforms/my_custom_sklearn_transforms.egg-info/PKG-INFO (deflated 33%)\r\n",
      "  adding: sklearn_transforms/my_custom_sklearn_transforms.egg-info/top_level.txt (stored 0%)\r\n",
      "  adding: sklearn_transforms/my_custom_sklearn_transforms.egg-info/SOURCES.txt (deflated 48%)\r\n",
      "  adding: sklearn_transforms/PKG-INFO (deflated 31%)\r\n",
      "  adding: sklearn_transforms/my_custom_sklearn_transforms/ (stored 0%)\r\n",
      "  adding: sklearn_transforms/my_custom_sklearn_transforms/sklearn_transformers.py (deflated 46%)\r\n",
      "  adding: sklearn_transforms/my_custom_sklearn_transforms/__init__.py (stored 0%)\r\n",
      "  adding: sklearn_transforms/setup.cfg (deflated 16%)\r\n",
      "  adding: sklearn_transforms/README.md (deflated 15%)\r\n"
     ]
    }
   ],
   "source": [
    "!zip -r sklearn_transforms.zip sklearn_transforms"
   ]
  },
  {
   "cell_type": "markdown",
   "metadata": {},
   "source": [
    "Con el archivo zip de nuestro paquete cargado en el Kernel de este notebook, podemos utiliar la herramienta pip para instalarlo conforme a la siguiente celda:"
   ]
  },
  {
   "cell_type": "code",
   "execution_count": 124,
   "metadata": {},
   "outputs": [
    {
     "name": "stdout",
     "output_type": "stream",
     "text": [
      "Processing ./sklearn_transforms.zip\n",
      "Building wheels for collected packages: my-custom-sklearn-transforms\n",
      "  Building wheel for my-custom-sklearn-transforms (setup.py) ... \u001b[?25ldone\n",
      "\u001b[?25h  Stored in directory: /home/dsxuser/.tmp/pip-ephem-wheel-cache-lnhh4lcq/wheels/8f/88/32/f886e7510a37b111e2a1b7e689e04450acda46732970a7ed78\n",
      "Successfully built my-custom-sklearn-transforms\n",
      "Installing collected packages: my-custom-sklearn-transforms\n",
      "Successfully installed my-custom-sklearn-transforms-1.0\n"
     ]
    }
   ],
   "source": [
    "!pip install sklearn_transforms.zip"
   ]
  },
  {
   "cell_type": "markdown",
   "metadata": {},
   "source": [
    "Ahora podemos realizar la importación de nuestro paquiete personalizado en nuestro notabook!\n",
    "\n",
    "Vamos a importan la transformación DropColumns. Si usted posee otras transformaciones personalizadas, ahora es que debe importarlas"
   ]
  },
  {
   "cell_type": "code",
   "execution_count": 125,
   "metadata": {},
   "outputs": [],
   "source": [
    "from my_custom_sklearn_transforms.sklearn_transformers import DropColumns"
   ]
  },
  {
   "cell_type": "markdown",
   "metadata": {},
   "source": [
    "## Construyendo el model Pipeline"
   ]
  },
  {
   "cell_type": "markdown",
   "metadata": {},
   "source": [
    "# ATENCIÓN, NO CAMBIE LA CELDA DE ABAJO O SU MODELO NO SERA EVALUADO"
   ]
  },
  {
   "cell_type": "code",
   "execution_count": 126,
   "metadata": {},
   "outputs": [],
   "source": [
    "pipeline_input = df[\n",
    "    [\n",
    "        'EFECTIVO',\n",
    "        'CXC',\n",
    "        'INVENTARIO',\n",
    "        'EQ_OFICINA',\n",
    "        'EQ_TRANSPORTE',\n",
    "        'TERRENOS_Y_CONSTRUCCIONES',\n",
    "        'CXP',\n",
    "        'CONTRIBUCIONES_X_PAGAR',\n",
    "        'ANTICIPOS_CTE',\n",
    "        'CAP_SOCIAL',\n",
    "        'UTILIDADES_ACUMULADAS',\n",
    "        'UTILIDAD_O_PERDIDA',\n",
    "        'TOTAL_VENTAS',\n",
    "        'TOTAL_COMPRAS',\n",
    "        'UTILIDAD_BRUTA',\n",
    "        'TOTAL_GASTOS',\n",
    "    ]\n",
    "]\n",
    "\n",
    "pipeline_target = df['OBJETIVO']"
   ]
  },
  {
   "cell_type": "code",
   "execution_count": 127,
   "metadata": {},
   "outputs": [],
   "source": [
    "# Separación de los datos en un set de entrenamiento y otro de prueba (PARA CREACION DEL PIPELINE)\n",
    "X_train, X_test, y_train, y_test = train_test_split(\n",
    "    pipeline_input,\n",
    "    pipeline_target,\n",
    "    test_size=0.3,\n",
    "    random_state=21233\n",
    ")"
   ]
  },
  {
   "cell_type": "markdown",
   "metadata": {},
   "source": [
    "### Borrando las columnas del dataset original\n",
    "\n",
    "Debe elminiar todas las columnas que no esta usando"
   ]
  },
  {
   "cell_type": "code",
   "execution_count": 128,
   "metadata": {},
   "outputs": [],
   "source": [
    "# Creacion de la Transformación Personalizada ``DropColumns``\n",
    "\n",
    "rm_columns = DropColumns(\n",
    "    columns=[ 'EFECTIVO', 'CXC', 'INVENTARIO', 'EQ_OFICINA', 'EQ_TRANSPORTE',\n",
    "       'TERRENOS_Y_CONSTRUCCIONES', 'CXP', 'CONTRIBUCIONES_X_PAGAR',\n",
    "       'ANTICIPOS_CTE', 'CAP_SOCIAL']\n",
    ")"
   ]
  },
  {
   "cell_type": "markdown",
   "metadata": {},
   "source": [
    "### Reemplazando con zeros en lugar de valores nulos\n",
    "\n",
    "Ud puede usar otras estrategias, pero deben ser con Transforms"
   ]
  },
  {
   "cell_type": "code",
   "execution_count": 129,
   "metadata": {},
   "outputs": [],
   "source": [
    "# Crear un objeto ``SimpleImputer``\n",
    "si = SimpleImputer(\n",
    "    missing_values=np.nan,  # los valores que faltan son del tipo ``np.nan`` (Pandas estándar)\n",
    "    strategy='most_frequent',  # la estrategia elegida es cambiar el valor faltante por una constante\n",
    "    verbose=0,\n",
    ")"
   ]
  },
  {
   "cell_type": "markdown",
   "metadata": {},
   "source": [
    "### Estandarizando los valores numericos"
   ]
  },
  {
   "cell_type": "code",
   "execution_count": 130,
   "metadata": {},
   "outputs": [],
   "source": [
    "sc = StandardScaler()"
   ]
  },
  {
   "cell_type": "markdown",
   "metadata": {},
   "source": [
    "### Pre-entrenando el modelo para definir el pipeline"
   ]
  },
  {
   "cell_type": "markdown",
   "metadata": {},
   "source": [
    "En la celda de abajo se declara un objeto **Pipeline** de scikit-learn, donde es declarado como parametros *steps*, que es una lista de etapas a ejecutar el pipeline:\n",
    "\n",
    "    'paso_1_remove_cols'     - Transformación personalizada DropColumns\n",
    "    'paso_2_imputer'         - Transformación embebida de scikit-learn para remplazar los valores faltantes\n",
    "    'paso_3_standard_scaler'          - Transformación embebida de scikit-learn para escalar las variables numéricas\n",
    "    'su_modelo'              - Un árbol de desición simple\n",
    "    \n",
    "Note que pasamos como pasos las transformaciones instanciadas anteriormente, con nombres `rm_columns` y `si`."
   ]
  },
  {
   "cell_type": "code",
   "execution_count": 134,
   "metadata": {},
   "outputs": [],
   "source": [
    "# Creación de nuestro para almacenamiento en Watson Machine Learning:\n",
    "my_pipeline = Pipeline(\n",
    "    steps=[\n",
    "        ('paso_1_remove_cols', rm_columns),\n",
    "        ('paso_2_imputer', si),\n",
    "        ('paso_3_standard_scaler', sc),\n",
    "        ('su_modelo',GaussianNB()),\n",
    "    ]\n",
    ")"
   ]
  },
  {
   "cell_type": "markdown",
   "metadata": {},
   "source": [
    "En seguida ejecutaremos el método `fit()` del Pipeline, realizando el pré-procesamiento y el entrenamiento del modelo de una sola vez."
   ]
  },
  {
   "cell_type": "code",
   "execution_count": 135,
   "metadata": {},
   "outputs": [
    {
     "data": {
      "text/plain": [
       "Pipeline(memory=None,\n",
       "     steps=[('paso_1_remove_cols', DropColumns(columns=['EFECTIVO', 'CXC', 'INVENTARIO', 'EQ_OFICINA', 'EQ_TRANSPORTE', 'TERRENOS_Y_CONSTRUCCIONES', 'CXP', 'CONTRIBUCIONES_X_PAGAR', 'ANTICIPOS_CTE', 'CAP_SOCIAL'])), ('paso_2_imputer', SimpleImputer(copy=True, fill_value=None, missing_values=nan,\n",
       "       strategy='most_frequent', verbose=0)), ('paso_3_standard_scaler', StandardScaler(copy=True, with_mean=True, with_std=True)), ('su_modelo', GaussianNB(priors=None, var_smoothing=1e-09))])"
      ]
     },
     "execution_count": 135,
     "metadata": {},
     "output_type": "execute_result"
    }
   ],
   "source": [
    "# Inicializando el Pipeline (pre-procesamiento y entrenamiento del modelo)\n",
    "my_pipeline.fit(X_train, y_train)"
   ]
  },
  {
   "cell_type": "code",
   "execution_count": 136,
   "metadata": {},
   "outputs": [
    {
     "data": {
      "text/plain": [
       "Text(0.5, 15.0, 'Predicted label\\n\\nAccuracy=0.904\\nPrecision=0.250\\nRecall=0.340\\nF1 Score=0.288')"
      ]
     },
     "execution_count": 136,
     "metadata": {},
     "output_type": "execute_result"
    },
    {
     "data": {
      "image/png": "[encoded data removed]",
      "text/plain": [
       "<Figure size 432x288 with 2 Axes>"
      ]
     },
     "metadata": {
      "needs_background": "light"
     },
     "output_type": "display_data"
    }
   ],
   "source": [
    "### Haciendo una predicción con el set de prueba\n",
    "\n",
    "y_pred = my_pipeline.predict(X_test)\n",
    "cf_matrix = confusion_matrix(y_test, y_pred)\n",
    "group_names = ['Aprobado `Aceptado`', 'Refused `Sospechoso`', 'Refused `Aceptado`', 'Aprobado `Sospechoso`']\n",
    "group_counts = ['{0:0.0f}'.format(value) for value in cf_matrix.flatten()]\n",
    "group_percentages = ['{0:.2%}'.format(value) for value in cf_matrix.flatten()/np.sum(cf_matrix)]\n",
    "labels = [f'{v1}\\n{v2}\\n{v3}' for v1, v2, v3 in zip(group_names, group_counts, group_percentages)]\n",
    "labels = np.asarray(labels).reshape(2,2)\n",
    "accuracy  = np.trace(cf_matrix) / float(np.sum(cf_matrix))\n",
    "precision = cf_matrix[1,1] / sum(cf_matrix[:,1])\n",
    "recall    = cf_matrix[1,1] / sum(cf_matrix[1,:])\n",
    "f1_score  = 2*precision*recall / (precision + recall)\n",
    "sns.heatmap(cf_matrix, annot=labels, fmt='')\n",
    "stats_text = \"\\n\\nAccuracy={:0.3f}\\nPrecision={:0.3f}\\nRecall={:0.3f}\\nF1 Score={:0.3f}\".format(accuracy, precision, recall, f1_score)\n",
    "plt.ylabel('True label')\n",
    "plt.xlabel('Predicted label' + stats_text)"
   ]
  },
  {
   "cell_type": "code",
   "execution_count": 137,
   "metadata": {},
   "outputs": [
    {
     "data": {
      "text/plain": [
       "0.9035460992907801"
      ]
     },
     "execution_count": 137,
     "metadata": {},
     "output_type": "execute_result"
    }
   ],
   "source": [
    "# Precisión simple\n",
    "my_pipeline.score(X_test, y_test)"
   ]
  },
  {
   "cell_type": "markdown",
   "metadata": {},
   "source": [
    "Ahora que tenemos un Pipeline completo, con etapas de pre-procesamiento configuradas y tambien un modelo por Árbol de Desición entrenado, podemos realizar la integración con Watson Machine Learning!"
   ]
  },
  {
   "cell_type": "markdown",
   "metadata": {},
   "source": [
    "<hr>"
   ]
  },
  {
   "cell_type": "markdown",
   "metadata": {},
   "source": [
    "### Encapsulando un Pipeline personalizado de Watson Machine Learning"
   ]
  },
  {
   "cell_type": "markdown",
   "metadata": {},
   "source": [
    "#### Estableciendo conexión entre el cliente Python de WML y su instancia del servicio en la nube"
   ]
  },
  {
   "cell_type": "code",
   "execution_count": 138,
   "metadata": {},
   "outputs": [
    {
     "name": "stderr",
     "output_type": "stream",
     "text": [
      "2020-08-25 21:11:15,099 - watson_machine_learning_client.wml_client_error - WARNING - Failure during getting all runtimes. (GET https://us-south.ml.cloud.ibm.com/v4/runtimes?limit=1000)\n",
      "Status code: 404, body: {\"trace\":\"h7dbqm4jcsbx\",\"errors\":[{\"code\":\"not_found\",\"message\":\"Requested object b78f18bf-94ae-41e7-b922-9c2cf2098a3e could not be found.\"}]}\n",
      "2020-08-25 21:11:15,103 - watson_machine_learning_client.repository - ERROR - Failure during getting all runtimes. (GET https://us-south.ml.cloud.ibm.com/v4/runtimes?limit=1000)\n",
      "Status code: 404, body: {\"trace\":\"h7dbqm4jcsbx\",\"errors\":[{\"code\":\"not_found\",\"message\":\"Requested object b78f18bf-94ae-41e7-b922-9c2cf2098a3e could not be found.\"}]}\n",
      "2020-08-25 21:13:03,117 - watson_machine_learning_client.wml_client_error - WARNING - Failure during getting runtime specs details. (GET https://us-south.ml.cloud.ibm.com/v4/runtimes)\n",
      "Status code: 404, body: {\"trace\":\"-1ske8k9szaoq9\",\"errors\":[{\"code\":\"not_found\",\"message\":\"Requested object b78f18bf-94ae-41e7-b922-9c2cf2098a3e could not be found.\"}]}\n",
      "2020-08-25 21:13:53,764 - watson_machine_learning_client.wml_client_error - WARNING - Failure during getting all runtimes. (GET https://us-south.ml.cloud.ibm.com/v4/runtimes?limit=1000)\n",
      "Status code: 404, body: {\"trace\":\"-1j9drwz28w8sj\",\"errors\":[{\"code\":\"not_found\",\"message\":\"Requested object b78f18bf-94ae-41e7-b922-9c2cf2098a3e could not be found.\"}]}\n",
      "2020-08-25 21:13:53,772 - watson_machine_learning_client.repository - ERROR - Failure during getting all runtimes. (GET https://us-south.ml.cloud.ibm.com/v4/runtimes?limit=1000)\n",
      "Status code: 404, body: {\"trace\":\"-1j9drwz28w8sj\",\"errors\":[{\"code\":\"not_found\",\"message\":\"Requested object b78f18bf-94ae-41e7-b922-9c2cf2098a3e could not be found.\"}]}\n",
      "2020-08-25 21:14:52,062 - watson_machine_learning_client.wml_client_error - WARNING - Failure during getting runtime specs details. (GET https://us-south.ml.cloud.ibm.com/v4/runtimes)\n",
      "Status code: 404, body: {\"trace\":\"17ndeojiaj8p0\",\"errors\":[{\"code\":\"not_found\",\"message\":\"Requested object b78f18bf-94ae-41e7-b922-9c2cf2098a3e could not be found.\"}]}\n",
      "2020-08-25 21:17:17,019 - watson_machine_learning_client.wml_client_error - WARNING - Failure during getting all runtimes. (GET https://us-south.ml.cloud.ibm.com/v4/runtimes?limit=1000)\n",
      "Status code: 404, body: {\"trace\":\"-urlvz0csstud\",\"errors\":[{\"code\":\"not_found\",\"message\":\"Requested object b78f18bf-94ae-41e7-b922-9c2cf2098a3e could not be found.\"}]}\n",
      "2020-08-25 21:17:17,022 - watson_machine_learning_client.repository - ERROR - Failure during getting all runtimes. (GET https://us-south.ml.cloud.ibm.com/v4/runtimes?limit=1000)\n",
      "Status code: 404, body: {\"trace\":\"-urlvz0csstud\",\"errors\":[{\"code\":\"not_found\",\"message\":\"Requested object b78f18bf-94ae-41e7-b922-9c2cf2098a3e could not be found.\"}]}\n",
      "2020-08-25 21:17:25,201 - watson_machine_learning_client.wml_client_error - WARNING - Failure during getting all runtimes. (GET https://us-south.ml.cloud.ibm.com/v4/runtimes?limit=1000)\n",
      "Status code: 404, body: {\"trace\":\"243acc8a9f98dc93a1641f1faedb1cb4\",\"errors\":[{\"code\":\"not_found\",\"message\":\"Requested object b78f18bf-94ae-41e7-b922-9c2cf2098a3e could not be found.\"}]}\n",
      "2020-08-25 21:17:25,204 - watson_machine_learning_client.repository - ERROR - Failure during getting all runtimes. (GET https://us-south.ml.cloud.ibm.com/v4/runtimes?limit=1000)\n",
      "Status code: 404, body: {\"trace\":\"243acc8a9f98dc93a1641f1faedb1cb4\",\"errors\":[{\"code\":\"not_found\",\"message\":\"Requested object b78f18bf-94ae-41e7-b922-9c2cf2098a3e could not be found.\"}]}\n",
      "2020-08-25 21:18:08,547 - watson_machine_learning_client.wml_client_error - WARNING - Failure during getting runtime specs details. (GET https://us-south.ml.cloud.ibm.com/v4/runtimes)\n",
      "Status code: 404, body: {\"trace\":\"-1rk94agttage9\",\"errors\":[{\"code\":\"not_found\",\"message\":\"Requested object b78f18bf-94ae-41e7-b922-9c2cf2098a3e could not be found.\"}]}\n",
      "2020-08-25 21:19:24,257 - watson_machine_learning_client.wml_client_error - WARNING - Failure during getting all runtimes. (GET https://us-south.ml.cloud.ibm.com/v4/runtimes?limit=1000)\n",
      "Status code: 404, body: {\"trace\":\"c6ccef6834f1f5912ac956ba9145ed98\",\"errors\":[{\"code\":\"not_found\",\"message\":\"Requested object b78f18bf-94ae-41e7-b922-9c2cf2098a3e could not be found.\"}]}\n",
      "2020-08-25 21:19:24,272 - watson_machine_learning_client.repository - ERROR - Failure during getting all runtimes. (GET https://us-south.ml.cloud.ibm.com/v4/runtimes?limit=1000)\n",
      "Status code: 404, body: {\"trace\":\"c6ccef6834f1f5912ac956ba9145ed98\",\"errors\":[{\"code\":\"not_found\",\"message\":\"Requested object b78f18bf-94ae-41e7-b922-9c2cf2098a3e could not be found.\"}]}\n"
     ]
    }
   ],
   "source": [
    "# Biblioteca Python con implementación de un cliente HTTP para la API de WML\n",
    "from watson_machine_learning_client import WatsonMachineLearningAPIClient"
   ]
  },
  {
   "cell_type": "markdown",
   "metadata": {},
   "source": [
    "Las próximas celdas realizaran el despliegue del pipeline declarada en este notebook en WML. Solo prosiga si usted ya está satisfecho con su modelo y cree que ya es hora de hacer el despliegue de su solución.\n",
    "\n",
    "Copie las credenciales de su instancia de Watson Machine Learning en la variable de la celda de abajo.\n",
    "\n",
    "Es importante que la variable que contenga los valores de la credencial se llame ``wml_credentials`` para que las proximas celdas de este notebook se ejecuten corretamente."
   ]
  },
  {
   "cell_type": "code",
   "execution_count": 139,
   "metadata": {},
   "outputs": [],
   "source": [
    "wml_credentials = {\n",
    "  \"apikey\": \"mO9eeIGjcDsCT0RC2CADyJuCmfKCrIlIo1e3RsToVbuJ\",\n",
    "  \"iam_apikey_description\": \"Auto-generated for key 385a9d77-af63-43ea-b52c-9d6e19ed9d8a\",\n",
    "  \"iam_apikey_name\": \"Credenciales de servicio-1\",\n",
    "  \"iam_role_crn\": \"crn:v1:bluemix:public:iam::::serviceRole:Writer\",\n",
    "  \"iam_serviceid_crn\": \"crn:v1:bluemix:public:iam-identity::a/ade10afa8c764ebcb7184cc3801f0edb::serviceid:ServiceId-719eb510-d940-4a2c-82c3-763e43ef3e12\",\n",
    "  \"instance_id\": \"acde55a6-e981-4899-8e70-8af87d9dd908\",\n",
    "  \"url\": \"https://us-south.ml.cloud.ibm.com\"\n",
    "}"
   ]
  },
  {
   "cell_type": "code",
   "execution_count": 140,
   "metadata": {},
   "outputs": [],
   "source": [
    "# Instanciando un objeto cliente de Watson Machine Learning a partir de las credenciales\n",
    "\n",
    "clientWML = WatsonMachineLearningAPIClient(wml_credentials)"
   ]
  },
  {
   "cell_type": "code",
   "execution_count": 141,
   "metadata": {},
   "outputs": [
    {
     "name": "stdout",
     "output_type": "stream",
     "text": [
      "{\n",
      "    \"entity\": {\n",
      "        \"source\": \"Bluemix\",\n",
      "        \"published_models\": {\n",
      "            \"url\": \"https://us-south.ml.cloud.ibm.com/v3/wml_instances/acde55a6-e981-4899-8e70-8af87d9dd908/published_models\"\n",
      "        },\n",
      "        \"usage\": {\n",
      "            \"capacity_units\": {\n",
      "                \"current\": 0,\n",
      "                \"limit\": 180000000\n",
      "            },\n",
      "            \"computation_time\": {\n",
      "                \"current\": 0,\n",
      "                \"limit\": 180000\n",
      "            },\n",
      "            \"deployment_count\": {\n",
      "                \"current\": 2,\n",
      "                \"limit\": 5\n",
      "            },\n",
      "            \"expiration_date\": \"2020-09-01T00:00:00.000Z\",\n",
      "            \"gpu_count_k80\": {\n",
      "                \"current\": 0,\n",
      "                \"limit\": 8\n",
      "            },\n",
      "            \"gpu_count_p100\": {\n",
      "                \"current\": 0,\n",
      "                \"limit\": 0\n",
      "            },\n",
      "            \"gpu_count_v100\": {\n",
      "                \"current\": 0,\n",
      "                \"limit\": 0\n",
      "            },\n",
      "            \"model_count\": {\n",
      "                \"current\": 1,\n",
      "                \"limit\": 200\n",
      "            },\n",
      "            \"prediction_count\": {\n",
      "                \"current\": 510,\n",
      "                \"limit\": 5000\n",
      "            }\n",
      "        },\n",
      "        \"tags\": null,\n",
      "        \"plan_id\": \"3f6acf43-ede8-413a-ac69-f8af3bb0cbfe\",\n",
      "        \"service_endpoints\": \"public\",\n",
      "        \"status\": \"Active\",\n",
      "        \"organization_guid\": \"N/A\",\n",
      "        \"region\": \"us-south\",\n",
      "        \"account\": {\n",
      "            \"id\": \"ade10afa8c764ebcb7184cc3801f0edb\",\n",
      "            \"name\": \"Joanpellegrino\",\n",
      "            \"type\": \"STANDARD\"\n",
      "        },\n",
      "        \"owner\": {\n",
      "            \"beta_user\": false,\n",
      "            \"country_code\": \"COL\",\n",
      "            \"email\": \"joanpellegrino04@gmail.com\",\n",
      "            \"ibm_id\": \"550008E5GP\",\n",
      "            \"user_id\": \"078b8a57-c66c-4755-bdb3-bfe1ab6b404f\"\n",
      "        },\n",
      "        \"deployments\": {\n",
      "            \"url\": \"https://us-south.ml.cloud.ibm.com/v3/wml_instances/acde55a6-e981-4899-8e70-8af87d9dd908/deployments\"\n",
      "        },\n",
      "        \"space_guid\": \"N/A\",\n",
      "        \"plan\": \"lite\"\n",
      "    },\n",
      "    \"metadata\": {\n",
      "        \"created_at\": \"2020-08-19T10:24:42.905Z\",\n",
      "        \"modified_at\": \"2020-08-19T10:24:42.905Z\",\n",
      "        \"guid\": \"acde55a6-e981-4899-8e70-8af87d9dd908\",\n",
      "        \"url\": \"https://us-south.ml.cloud.ibm.com/v3/wml_instances/acde55a6-e981-4899-8e70-8af87d9dd908\"\n",
      "    }\n",
      "}\n"
     ]
    }
   ],
   "source": [
    "# Extrayendo los detalles de su de Watson Machine Learning\n",
    "\n",
    "instance_details = clientWML.service_instance.get_details()\n",
    "print(json.dumps(instance_details, indent=4))"
   ]
  },
  {
   "cell_type": "markdown",
   "metadata": {},
   "source": [
    "**¡¡ATENCIÓN!!**\n",
    "\n",
    "¡Este atento de los limites de consumo de su instancia de Watson Machine Learning!\n",
    "\n",
    "En caso de que acabe la capa gratuita, no sera posible evualuar su modelo (Pues es necesario para la realización de algunas llamadasal API con sus predicciones!)"
   ]
  },
  {
   "cell_type": "markdown",
   "metadata": {},
   "source": [
    "#### Listando todos los artefatos almacenados en su WML"
   ]
  },
  {
   "cell_type": "markdown",
   "metadata": {},
   "source": [
    "Para listar todos los artefatos almacenados en su Watson Machine Learning, usted puede usar la seguinte función:\n",
    "\n",
    "    clientWML.repository.list()"
   ]
  },
  {
   "cell_type": "code",
   "execution_count": 142,
   "metadata": {},
   "outputs": [
    {
     "name": "stdout",
     "output_type": "stream",
     "text": [
      "------------------------------------  ----------------------------------  ------------------------  -----------------  -----------------\n",
      "GUID                                  NAME                                CREATED                   FRAMEWORK          TYPE\n",
      "a00d8664-6c0b-484e-b8af-c7eba15f7fdf  desafio-2-mbtc2020-pipeline-es-2    2020-08-22T18:48:23.310Z  scikit-learn-0.20  model\n",
      "58e41b49-e462-46f1-b390-8d9c7d109894  desafio-2-mbtc2020-deployment-es-2  2020-08-22T18:48:50.233Z  scikit-learn-0.20  online deployment\n",
      "6ff1960d-6913-4e08-940e-3a79383a03f6  my_custom_sklearn_transform_es_2    2020-08-22T18:43:57.565Z  -                  python library\n",
      "------------------------------------  ----------------------------------  ------------------------  -----------------  -----------------\n"
     ]
    }
   ],
   "source": [
    "# Listando todos los artefatos actualmente almacenados en su instancia de WML\n",
    "\n",
    "clientWML.repository.list()"
   ]
  },
  {
   "cell_type": "markdown",
   "metadata": {},
   "source": [
    "## ATENCIÓN!, SI UD CORRE LAS CELDAS DE ABAJO TODOS LOS DESPLIEGUES ANTERIORS SERAN BORRADOS"
   ]
  },
  {
   "cell_type": "code",
   "execution_count": 146,
   "metadata": {},
   "outputs": [],
   "source": [
    "#Celda para borrar los Deployments:\n",
    "\n",
    "for uid in clientWML.deployments.get_uids():\n",
    "    if clientWML.deployments.get_details(uid)['entity']['name'] == 'deployment_meta_4' : \n",
    "        print('Deleted ' + clientWML.deployments.get_details(uid)['entity']['name'] )\n",
    "        clientWML.deployments.delete(uid)"
   ]
  },
  {
   "cell_type": "code",
   "execution_count": 147,
   "metadata": {},
   "outputs": [
    {
     "ename": "ApiRequestFailure",
     "evalue": "Failure during getting runtime specs details. (GET https://us-south.ml.cloud.ibm.com/v4/runtimes)\nStatus code: 404, body: {\"trace\":\"17ndeojiaj8p0\",\"errors\":[{\"code\":\"not_found\",\"message\":\"Requested object b78f18bf-94ae-41e7-b922-9c2cf2098a3e could not be found.\"}]}",
     "output_type": "error",
     "traceback": [
      "\u001b[0;31m---------------------------------------------------------------------------\u001b[0m",
      "\u001b[0;31mApiRequestFailure\u001b[0m                         Traceback (most recent call last)",
      "\u001b[0;32m<ipython-input-147-28928adf5ece>\u001b[0m in \u001b[0;36m<module>\u001b[0;34m\u001b[0m\n\u001b[1;32m      1\u001b[0m \u001b[0;31m#Celda para borrar todos los recursos:\u001b[0m\u001b[0;34m\u001b[0m\u001b[0;34m\u001b[0m\u001b[0;34m\u001b[0m\u001b[0m\n\u001b[1;32m      2\u001b[0m \u001b[0;34m\u001b[0m\u001b[0m\n\u001b[0;32m----> 3\u001b[0;31m \u001b[0md\u001b[0m \u001b[0;34m=\u001b[0m \u001b[0mclientWML\u001b[0m\u001b[0;34m.\u001b[0m\u001b[0mrepository\u001b[0m\u001b[0;34m.\u001b[0m\u001b[0mget_details\u001b[0m\u001b[0;34m(\u001b[0m\u001b[0;34m)\u001b[0m\u001b[0;34m\u001b[0m\u001b[0;34m\u001b[0m\u001b[0m\n\u001b[0m\u001b[1;32m      4\u001b[0m \u001b[0;32mfor\u001b[0m \u001b[0mk\u001b[0m \u001b[0;32min\u001b[0m \u001b[0md\u001b[0m\u001b[0;34m:\u001b[0m\u001b[0;34m\u001b[0m\u001b[0;34m\u001b[0m\u001b[0m\n\u001b[1;32m      5\u001b[0m     \u001b[0;32mfor\u001b[0m \u001b[0mres\u001b[0m \u001b[0;32min\u001b[0m \u001b[0md\u001b[0m\u001b[0;34m[\u001b[0m\u001b[0mk\u001b[0m\u001b[0;34m]\u001b[0m\u001b[0;34m[\u001b[0m\u001b[0;34m\"resources\"\u001b[0m\u001b[0;34m]\u001b[0m\u001b[0;34m:\u001b[0m\u001b[0;34m\u001b[0m\u001b[0;34m\u001b[0m\u001b[0m\n",
      "\u001b[0;32m/opt/conda/envs/Python36/lib/python3.6/site-packages/watson_machine_learning_client/repository.py\u001b[0m in \u001b[0;36mget_details\u001b[0;34m(self, artifact_uid)\u001b[0m\n\u001b[1;32m    635\u001b[0m                 \u001b[0mexperiment_details\u001b[0m \u001b[0;34m=\u001b[0m \u001b[0mself\u001b[0m\u001b[0;34m.\u001b[0m\u001b[0mget_experiment_details\u001b[0m\u001b[0;34m(\u001b[0m\u001b[0;34m)\u001b[0m\u001b[0;34m\u001b[0m\u001b[0;34m\u001b[0m\u001b[0m\n\u001b[1;32m    636\u001b[0m                 \u001b[0mlibrary_details\u001b[0m \u001b[0;34m=\u001b[0m \u001b[0mself\u001b[0m\u001b[0;34m.\u001b[0m\u001b[0m_client\u001b[0m\u001b[0;34m.\u001b[0m\u001b[0mruntimes\u001b[0m\u001b[0;34m.\u001b[0m\u001b[0mget_library_details\u001b[0m\u001b[0;34m(\u001b[0m\u001b[0;34m)\u001b[0m\u001b[0;34m\u001b[0m\u001b[0;34m\u001b[0m\u001b[0m\n\u001b[0;32m--> 637\u001b[0;31m                 \u001b[0mruntime_details\u001b[0m \u001b[0;34m=\u001b[0m \u001b[0mself\u001b[0m\u001b[0;34m.\u001b[0m\u001b[0m_client\u001b[0m\u001b[0;34m.\u001b[0m\u001b[0mruntimes\u001b[0m\u001b[0;34m.\u001b[0m\u001b[0mget_details\u001b[0m\u001b[0;34m(\u001b[0m\u001b[0;34m)\u001b[0m\u001b[0;34m\u001b[0m\u001b[0;34m\u001b[0m\u001b[0m\n\u001b[0m\u001b[1;32m    638\u001b[0m                 \u001b[0mfunction_details\u001b[0m \u001b[0;34m=\u001b[0m \u001b[0mself\u001b[0m\u001b[0;34m.\u001b[0m\u001b[0m_client\u001b[0m\u001b[0;34m.\u001b[0m\u001b[0m_functions\u001b[0m\u001b[0;34m.\u001b[0m\u001b[0mget_details\u001b[0m\u001b[0;34m(\u001b[0m\u001b[0;34m)\u001b[0m\u001b[0;34m\u001b[0m\u001b[0;34m\u001b[0m\u001b[0m\n\u001b[1;32m    639\u001b[0m                 \u001b[0mdeployment_details\u001b[0m \u001b[0;34m=\u001b[0m \u001b[0mself\u001b[0m\u001b[0;34m.\u001b[0m\u001b[0m_client\u001b[0m\u001b[0;34m.\u001b[0m\u001b[0mdeployments\u001b[0m\u001b[0;34m.\u001b[0m\u001b[0mget_details\u001b[0m\u001b[0;34m(\u001b[0m\u001b[0;34m)\u001b[0m\u001b[0;34m\u001b[0m\u001b[0;34m\u001b[0m\u001b[0m\n",
      "\u001b[0;32m/opt/conda/envs/Python36/lib/python3.6/site-packages/watson_machine_learning_client/runtimes.py\u001b[0m in \u001b[0;36mget_details\u001b[0;34m(self, runtime_uid, limit)\u001b[0m\n\u001b[1;32m    248\u001b[0m         \u001b[0murl\u001b[0m \u001b[0;34m=\u001b[0m \u001b[0mself\u001b[0m\u001b[0;34m.\u001b[0m\u001b[0m_href_definitions\u001b[0m\u001b[0;34m.\u001b[0m\u001b[0mget_runtimes_href\u001b[0m\u001b[0;34m(\u001b[0m\u001b[0;34m)\u001b[0m\u001b[0;34m\u001b[0m\u001b[0;34m\u001b[0m\u001b[0m\n\u001b[1;32m    249\u001b[0m \u001b[0;34m\u001b[0m\u001b[0m\n\u001b[0;32m--> 250\u001b[0;31m         \u001b[0;32mreturn\u001b[0m \u001b[0mself\u001b[0m\u001b[0;34m.\u001b[0m\u001b[0m_get_artifact_details\u001b[0m\u001b[0;34m(\u001b[0m\u001b[0murl\u001b[0m\u001b[0;34m,\u001b[0m \u001b[0mruntime_uid\u001b[0m\u001b[0;34m,\u001b[0m \u001b[0mlimit\u001b[0m\u001b[0;34m,\u001b[0m \u001b[0;34m'runtime specs'\u001b[0m\u001b[0;34m)\u001b[0m\u001b[0;34m\u001b[0m\u001b[0;34m\u001b[0m\u001b[0m\n\u001b[0m\u001b[1;32m    251\u001b[0m \u001b[0;34m\u001b[0m\u001b[0m\n\u001b[1;32m    252\u001b[0m     \u001b[0;32mdef\u001b[0m \u001b[0mget_library_details\u001b[0m\u001b[0;34m(\u001b[0m\u001b[0mself\u001b[0m\u001b[0;34m,\u001b[0m \u001b[0mlibrary_uid\u001b[0m\u001b[0;34m=\u001b[0m\u001b[0;32mNone\u001b[0m\u001b[0;34m,\u001b[0m \u001b[0mlimit\u001b[0m\u001b[0;34m=\u001b[0m\u001b[0;32mNone\u001b[0m\u001b[0;34m)\u001b[0m\u001b[0;34m:\u001b[0m\u001b[0;34m\u001b[0m\u001b[0;34m\u001b[0m\u001b[0m\n",
      "\u001b[0;32m/opt/conda/envs/Python36/lib/python3.6/site-packages/watson_machine_learning_client/wml_resource.py\u001b[0m in \u001b[0;36m_get_artifact_details\u001b[0;34m(self, base_url, uid, limit, resource_name)\u001b[0m\n\u001b[1;32m    138\u001b[0m \u001b[0;34m\u001b[0m\u001b[0m\n\u001b[1;32m    139\u001b[0m         \u001b[0;32mif\u001b[0m \u001b[0muid\u001b[0m \u001b[0;32mis\u001b[0m \u001b[0;32mNone\u001b[0m\u001b[0;34m:\u001b[0m\u001b[0;34m\u001b[0m\u001b[0;34m\u001b[0m\u001b[0m\n\u001b[0;32m--> 140\u001b[0;31m             \u001b[0;32mreturn\u001b[0m \u001b[0mself\u001b[0m\u001b[0;34m.\u001b[0m\u001b[0m_get_with_or_without_limit\u001b[0m\u001b[0;34m(\u001b[0m\u001b[0mbase_url\u001b[0m\u001b[0;34m,\u001b[0m \u001b[0mlimit\u001b[0m\u001b[0;34m,\u001b[0m \u001b[0mop_name\u001b[0m\u001b[0;34m)\u001b[0m\u001b[0;34m\u001b[0m\u001b[0;34m\u001b[0m\u001b[0m\n\u001b[0m\u001b[1;32m    141\u001b[0m         \u001b[0;32melse\u001b[0m\u001b[0;34m:\u001b[0m\u001b[0;34m\u001b[0m\u001b[0;34m\u001b[0m\u001b[0m\n\u001b[1;32m    142\u001b[0m             \u001b[0;31m# if not is_uid(uid):\u001b[0m\u001b[0;34m\u001b[0m\u001b[0;34m\u001b[0m\u001b[0;34m\u001b[0m\u001b[0m\n",
      "\u001b[0;32m/opt/conda/envs/Python36/lib/python3.6/site-packages/watson_machine_learning_client/wml_resource.py\u001b[0m in \u001b[0;36m_get_with_or_without_limit\u001b[0;34m(self, url, limit, op_name)\u001b[0m\n\u001b[1;32m    199\u001b[0m                     )\n\u001b[1;32m    200\u001b[0m \u001b[0;34m\u001b[0m\u001b[0m\n\u001b[0;32m--> 201\u001b[0;31m                 \u001b[0mresult\u001b[0m \u001b[0;34m=\u001b[0m \u001b[0mself\u001b[0m\u001b[0;34m.\u001b[0m\u001b[0m_handle_response\u001b[0m\u001b[0;34m(\u001b[0m\u001b[0;36m200\u001b[0m\u001b[0;34m,\u001b[0m \u001b[0mop_name\u001b[0m\u001b[0;34m,\u001b[0m \u001b[0mresponse_get\u001b[0m\u001b[0;34m)\u001b[0m\u001b[0;34m\u001b[0m\u001b[0;34m\u001b[0m\u001b[0m\n\u001b[0m\u001b[1;32m    202\u001b[0m \u001b[0;34m\u001b[0m\u001b[0m\n\u001b[1;32m    203\u001b[0m                 \u001b[0mresources\u001b[0m\u001b[0;34m.\u001b[0m\u001b[0mextend\u001b[0m\u001b[0;34m(\u001b[0m\u001b[0mresult\u001b[0m\u001b[0;34m[\u001b[0m\u001b[0;34m'resources'\u001b[0m\u001b[0;34m]\u001b[0m\u001b[0;34m)\u001b[0m\u001b[0;34m\u001b[0m\u001b[0;34m\u001b[0m\u001b[0m\n",
      "\u001b[0;32m/opt/conda/envs/Python36/lib/python3.6/site-packages/watson_machine_learning_client/wml_resource.py\u001b[0m in \u001b[0;36m_handle_response\u001b[0;34m(self, expected_status_code, operationName, response, json_response)\u001b[0m\n\u001b[1;32m     53\u001b[0m                 \u001b[0;32mreturn\u001b[0m \u001b[0mresponse\u001b[0m\u001b[0;34m.\u001b[0m\u001b[0mtext\u001b[0m\u001b[0;34m\u001b[0m\u001b[0;34m\u001b[0m\u001b[0m\n\u001b[1;32m     54\u001b[0m         \u001b[0;32melse\u001b[0m\u001b[0;34m:\u001b[0m\u001b[0;34m\u001b[0m\u001b[0;34m\u001b[0m\u001b[0m\n\u001b[0;32m---> 55\u001b[0;31m             \u001b[0;32mraise\u001b[0m \u001b[0mApiRequestFailure\u001b[0m\u001b[0;34m(\u001b[0m\u001b[0;34mu'Failure during {}.'\u001b[0m\u001b[0;34m.\u001b[0m\u001b[0mformat\u001b[0m\u001b[0;34m(\u001b[0m\u001b[0moperationName\u001b[0m\u001b[0;34m)\u001b[0m\u001b[0;34m,\u001b[0m \u001b[0mresponse\u001b[0m\u001b[0;34m)\u001b[0m\u001b[0;34m\u001b[0m\u001b[0;34m\u001b[0m\u001b[0m\n\u001b[0m\u001b[1;32m     56\u001b[0m \u001b[0;34m\u001b[0m\u001b[0m\n\u001b[1;32m     57\u001b[0m     \u001b[0;34m@\u001b[0m\u001b[0mstaticmethod\u001b[0m\u001b[0;34m\u001b[0m\u001b[0;34m\u001b[0m\u001b[0m\n",
      "\u001b[0;31mApiRequestFailure\u001b[0m: Failure during getting runtime specs details. (GET https://us-south.ml.cloud.ibm.com/v4/runtimes)\nStatus code: 404, body: {\"trace\":\"17ndeojiaj8p0\",\"errors\":[{\"code\":\"not_found\",\"message\":\"Requested object b78f18bf-94ae-41e7-b922-9c2cf2098a3e could not be found.\"}]}"
     ]
    }
   ],
   "source": [
    "#Celda para borrar todos los recursos:\n",
    "\n",
    "d = clientWML.repository.get_details()\n",
    "for k in d:\n",
    "    for res in d[k][\"resources\"]:\n",
    "        if res['entity']['name'] in ['package_meta_4', 'runtime_meta_4', 'pipeline_meta_4']:\n",
    "            clientWML.repository.delete(res[\"metadata\"][\"guid\"])\n",
    "            print('Deleted ' + res['entity']['name'])"
   ]
  },
  {
   "cell_type": "code",
   "execution_count": 148,
   "metadata": {},
   "outputs": [
    {
     "name": "stdout",
     "output_type": "stream",
     "text": [
      "------------------------------------  ----------------------------------  ------------------------  -----------------  -----------------\n",
      "GUID                                  NAME                                CREATED                   FRAMEWORK          TYPE\n",
      "a00d8664-6c0b-484e-b8af-c7eba15f7fdf  desafio-2-mbtc2020-pipeline-es-2    2020-08-22T18:48:23.310Z  scikit-learn-0.20  model\n",
      "58e41b49-e462-46f1-b390-8d9c7d109894  desafio-2-mbtc2020-deployment-es-2  2020-08-22T18:48:50.233Z  scikit-learn-0.20  online deployment\n",
      "6ff1960d-6913-4e08-940e-3a79383a03f6  my_custom_sklearn_transform_es_2    2020-08-22T18:43:57.565Z  -                  python library\n",
      "------------------------------------  ----------------------------------  ------------------------  -----------------  -----------------\n"
     ]
    }
   ],
   "source": [
    "# Listando todos los artefatos actualmente almacenados en su instancia de WML\n",
    "\n",
    "clientWML.repository.list()"
   ]
  },
  {
   "cell_type": "markdown",
   "metadata": {},
   "source": [
    "#### Creando una nueva definición de paquete Python personalizado en WML"
   ]
  },
  {
   "cell_type": "markdown",
   "metadata": {},
   "source": [
    "El primer paso para realizar su deploy y almacenar el código de las transformaciones personalizadas creadas por usted.\n",
    "\n",
    "Para esta etapa solo necesitamos el archivo .zip del paquete creado por usted (Que ya tenemos cargados en el Kernel!)"
   ]
  },
  {
   "cell_type": "code",
   "execution_count": 149,
   "metadata": {},
   "outputs": [
    {
     "name": "stdout",
     "output_type": "stream",
     "text": [
      "\n",
      " Lista de artefactos de runtime almacenados en WML:\n",
      "------------------------------------  ----------------------------------  ------------------------  -----------------  -----------------\n",
      "GUID                                  NAME                                CREATED                   FRAMEWORK          TYPE\n",
      "a00d8664-6c0b-484e-b8af-c7eba15f7fdf  desafio-2-mbtc2020-pipeline-es-2    2020-08-22T18:48:23.310Z  scikit-learn-0.20  model\n",
      "58e41b49-e462-46f1-b390-8d9c7d109894  desafio-2-mbtc2020-deployment-es-2  2020-08-22T18:48:50.233Z  scikit-learn-0.20  online deployment\n",
      "04b0573d-1e5f-4a24-86a0-db389a97bc80  package_meta_4                      2020-08-25T21:17:22.325Z  -                  python library\n",
      "6ff1960d-6913-4e08-940e-3a79383a03f6  my_custom_sklearn_transform_es_2    2020-08-22T18:43:57.565Z  -                  python library\n",
      "------------------------------------  ----------------------------------  ------------------------  -----------------  -----------------\n"
     ]
    }
   ],
   "source": [
    "# Definición de metadatos del paquete con las Transformaciones personalizadas\n",
    "pkg_meta = {\n",
    "    clientWML.runtimes.LibraryMetaNames.NAME: \"package_meta_4\",\n",
    "    clientWML.runtimes.LibraryMetaNames.DESCRIPTION: \"A custom sklearn transform package\",\n",
    "    clientWML.runtimes.LibraryMetaNames.FILEPATH: \"sklearn_transforms.zip\",  # Note que estamos utilizando o .zip criado anteriormente!\n",
    "    clientWML.runtimes.LibraryMetaNames.VERSION: \"1.0\",\n",
    "    clientWML.runtimes.LibraryMetaNames.PLATFORM: { \"name\": \"python\", \"versions\": [\"3.6\"] }\n",
    "}\n",
    "custom_package_details = clientWML.runtimes.store_library( pkg_meta )\n",
    "custom_package_uid = clientWML.runtimes.get_library_uid( custom_package_details )\n",
    "\n",
    "print(\"\\n Lista de artefactos de runtime almacenados en WML:\")\n",
    "clientWML.repository.list()"
   ]
  },
  {
   "cell_type": "markdown",
   "metadata": {},
   "source": [
    "#### Creando una nueva definición de runtime Python personalizado en WML\n",
    "\n",
    "El segundo paso es almacenar una definición de runtime Python para utilizar en nuestra biblioteca personalizada.\n",
    "\n",
    "Esto puede hacerse de la siguiente manera:"
   ]
  },
  {
   "cell_type": "code",
   "execution_count": 150,
   "metadata": {},
   "outputs": [
    {
     "name": "stdout",
     "output_type": "stream",
     "text": [
      "\n",
      " Detalles del runtime almacenados:\n",
      "{\n",
      "    \"entity\": {\n",
      "        \"name\": \"runtime_meta_4\",\n",
      "        \"description\": \"A Python runtime with custom sklearn Transforms\",\n",
      "        \"custom_libraries\": [\n",
      "            {\n",
      "                \"name\": \"package_meta_4\",\n",
      "                \"url\": \"https://private.us-south.ml.cloud.ibm.com/v4/libraries/04b0573d-1e5f-4a24-86a0-db389a97bc80\",\n",
      "                \"version\": \"1.0\"\n",
      "            }\n",
      "        ],\n",
      "        \"content_url\": \"https://private.us-south.ml.cloud.ibm.com/v4/runtimes/e52c83c6-8b81-4415-8fd0-ccc7810988a8/content\",\n",
      "        \"platform\": {\n",
      "            \"name\": \"python\",\n",
      "            \"version\": \"3.6\"\n",
      "        }\n",
      "    },\n",
      "    \"metadata\": {\n",
      "        \"created_at\": \"2020-08-25T21:17:47.727Z\",\n",
      "        \"guid\": \"e52c83c6-8b81-4415-8fd0-ccc7810988a8\",\n",
      "        \"url\": \"https://us-south.ml.cloud.ibm.com/v4/runtimes/e52c83c6-8b81-4415-8fd0-ccc7810988a8\"\n",
      "    }\n",
      "}\n"
     ]
    }
   ],
   "source": [
    "runtime_meta = {\n",
    "    clientWML.runtimes.ConfigurationMetaNames.NAME: \"runtime_meta_4\",\n",
    "    clientWML.runtimes.ConfigurationMetaNames.DESCRIPTION: \"A Python runtime with custom sklearn Transforms\",\n",
    "    clientWML.runtimes.ConfigurationMetaNames.PLATFORM: {\n",
    "        \"name\": \"python\",\n",
    "        \"version\": \"3.6\"\n",
    "    },\n",
    "    clientWML.runtimes.ConfigurationMetaNames.LIBRARIES_UIDS: [ custom_package_uid ]\n",
    "}\n",
    "runtime_details = clientWML.runtimes.store( runtime_meta )\n",
    "custom_runtime_uid = clientWML.runtimes.get_uid( runtime_details )\n",
    "\n",
    "print(\"\\n Detalles del runtime almacenados:\")\n",
    "print(json.dumps(runtime_details, indent=4))"
   ]
  },
  {
   "cell_type": "code",
   "execution_count": 151,
   "metadata": {},
   "outputs": [
    {
     "ename": "ApiRequestFailure",
     "evalue": "Failure during getting runtime specs details. (GET https://us-south.ml.cloud.ibm.com/v4/runtimes)\nStatus code: 404, body: {\"trace\":\"-1rk94agttage9\",\"errors\":[{\"code\":\"not_found\",\"message\":\"Requested object b78f18bf-94ae-41e7-b922-9c2cf2098a3e could not be found.\"}]}",
     "output_type": "error",
     "traceback": [
      "\u001b[0;31m---------------------------------------------------------------------------\u001b[0m",
      "\u001b[0;31mApiRequestFailure\u001b[0m                         Traceback (most recent call last)",
      "\u001b[0;32m<ipython-input-151-2e4acd4a7827>\u001b[0m in \u001b[0;36m<module>\u001b[0;34m\u001b[0m\n\u001b[1;32m      1\u001b[0m \u001b[0;31m# Listando todos los runtimes almacenados en su WML:\u001b[0m\u001b[0;34m\u001b[0m\u001b[0;34m\u001b[0m\u001b[0;34m\u001b[0m\u001b[0m\n\u001b[0;32m----> 2\u001b[0;31m \u001b[0mclientWML\u001b[0m\u001b[0;34m.\u001b[0m\u001b[0mruntimes\u001b[0m\u001b[0;34m.\u001b[0m\u001b[0mlist\u001b[0m\u001b[0;34m(\u001b[0m\u001b[0;34m)\u001b[0m\u001b[0;34m\u001b[0m\u001b[0;34m\u001b[0m\u001b[0m\n\u001b[0m",
      "\u001b[0;32m/opt/conda/envs/Python36/lib/python3.6/site-packages/watson_machine_learning_client/runtimes.py\u001b[0m in \u001b[0;36mlist\u001b[0;34m(self, limit)\u001b[0m\n\u001b[1;32m    525\u001b[0m            \u001b[0;34m>>\u001b[0m\u001b[0;34m>\u001b[0m \u001b[0mclient\u001b[0m\u001b[0;34m.\u001b[0m\u001b[0mruntimes\u001b[0m\u001b[0;34m.\u001b[0m\u001b[0mlist\u001b[0m\u001b[0;34m(\u001b[0m\u001b[0;34m)\u001b[0m\u001b[0;34m\u001b[0m\u001b[0;34m\u001b[0m\u001b[0m\n\u001b[1;32m    526\u001b[0m         \"\"\"\n\u001b[0;32m--> 527\u001b[0;31m         \u001b[0mdetails\u001b[0m \u001b[0;34m=\u001b[0m \u001b[0mself\u001b[0m\u001b[0;34m.\u001b[0m\u001b[0mget_details\u001b[0m\u001b[0;34m(\u001b[0m\u001b[0;34m)\u001b[0m\u001b[0;34m\u001b[0m\u001b[0;34m\u001b[0m\u001b[0m\n\u001b[0m\u001b[1;32m    528\u001b[0m         \u001b[0mresources\u001b[0m \u001b[0;34m=\u001b[0m \u001b[0mdetails\u001b[0m\u001b[0;34m[\u001b[0m\u001b[0;34mu'resources'\u001b[0m\u001b[0;34m]\u001b[0m\u001b[0;34m\u001b[0m\u001b[0;34m\u001b[0m\u001b[0m\n\u001b[1;32m    529\u001b[0m         \u001b[0mvalues\u001b[0m \u001b[0;34m=\u001b[0m \u001b[0;34m[\u001b[0m\u001b[0;34m(\u001b[0m\u001b[0mm\u001b[0m\u001b[0;34m[\u001b[0m\u001b[0;34mu'metadata'\u001b[0m\u001b[0;34m]\u001b[0m\u001b[0;34m[\u001b[0m\u001b[0;34mu'guid'\u001b[0m\u001b[0;34m]\u001b[0m\u001b[0;34m,\u001b[0m \u001b[0mm\u001b[0m\u001b[0;34m[\u001b[0m\u001b[0;34mu'entity'\u001b[0m\u001b[0;34m]\u001b[0m\u001b[0;34m[\u001b[0m\u001b[0;34mu'name'\u001b[0m\u001b[0;34m]\u001b[0m\u001b[0;34m,\u001b[0m \u001b[0mm\u001b[0m\u001b[0;34m[\u001b[0m\u001b[0;34mu'metadata'\u001b[0m\u001b[0;34m]\u001b[0m\u001b[0;34m[\u001b[0m\u001b[0;34mu'created_at'\u001b[0m\u001b[0;34m]\u001b[0m\u001b[0;34m,\u001b[0m \u001b[0mm\u001b[0m\u001b[0;34m[\u001b[0m\u001b[0;34mu'entity'\u001b[0m\u001b[0;34m]\u001b[0m\u001b[0;34m[\u001b[0m\u001b[0;34mu'platform'\u001b[0m\u001b[0;34m]\u001b[0m\u001b[0;34m[\u001b[0m\u001b[0;34m'name'\u001b[0m\u001b[0;34m]\u001b[0m \u001b[0;34m+\u001b[0m \u001b[0;34m'-'\u001b[0m \u001b[0;34m+\u001b[0m \u001b[0mm\u001b[0m\u001b[0;34m[\u001b[0m\u001b[0;34mu'entity'\u001b[0m\u001b[0;34m]\u001b[0m\u001b[0;34m[\u001b[0m\u001b[0;34mu'platform'\u001b[0m\u001b[0;34m]\u001b[0m\u001b[0;34m[\u001b[0m\u001b[0;34m'version'\u001b[0m\u001b[0;34m]\u001b[0m\u001b[0;34m)\u001b[0m \u001b[0;32mfor\u001b[0m \u001b[0mm\u001b[0m \u001b[0;32min\u001b[0m \u001b[0mresources\u001b[0m\u001b[0;34m]\u001b[0m\u001b[0;34m\u001b[0m\u001b[0;34m\u001b[0m\u001b[0m\n",
      "\u001b[0;32m/opt/conda/envs/Python36/lib/python3.6/site-packages/watson_machine_learning_client/runtimes.py\u001b[0m in \u001b[0;36mget_details\u001b[0;34m(self, runtime_uid, limit)\u001b[0m\n\u001b[1;32m    248\u001b[0m         \u001b[0murl\u001b[0m \u001b[0;34m=\u001b[0m \u001b[0mself\u001b[0m\u001b[0;34m.\u001b[0m\u001b[0m_href_definitions\u001b[0m\u001b[0;34m.\u001b[0m\u001b[0mget_runtimes_href\u001b[0m\u001b[0;34m(\u001b[0m\u001b[0;34m)\u001b[0m\u001b[0;34m\u001b[0m\u001b[0;34m\u001b[0m\u001b[0m\n\u001b[1;32m    249\u001b[0m \u001b[0;34m\u001b[0m\u001b[0m\n\u001b[0;32m--> 250\u001b[0;31m         \u001b[0;32mreturn\u001b[0m \u001b[0mself\u001b[0m\u001b[0;34m.\u001b[0m\u001b[0m_get_artifact_details\u001b[0m\u001b[0;34m(\u001b[0m\u001b[0murl\u001b[0m\u001b[0;34m,\u001b[0m \u001b[0mruntime_uid\u001b[0m\u001b[0;34m,\u001b[0m \u001b[0mlimit\u001b[0m\u001b[0;34m,\u001b[0m \u001b[0;34m'runtime specs'\u001b[0m\u001b[0;34m)\u001b[0m\u001b[0;34m\u001b[0m\u001b[0;34m\u001b[0m\u001b[0m\n\u001b[0m\u001b[1;32m    251\u001b[0m \u001b[0;34m\u001b[0m\u001b[0m\n\u001b[1;32m    252\u001b[0m     \u001b[0;32mdef\u001b[0m \u001b[0mget_library_details\u001b[0m\u001b[0;34m(\u001b[0m\u001b[0mself\u001b[0m\u001b[0;34m,\u001b[0m \u001b[0mlibrary_uid\u001b[0m\u001b[0;34m=\u001b[0m\u001b[0;32mNone\u001b[0m\u001b[0;34m,\u001b[0m \u001b[0mlimit\u001b[0m\u001b[0;34m=\u001b[0m\u001b[0;32mNone\u001b[0m\u001b[0;34m)\u001b[0m\u001b[0;34m:\u001b[0m\u001b[0;34m\u001b[0m\u001b[0;34m\u001b[0m\u001b[0m\n",
      "\u001b[0;32m/opt/conda/envs/Python36/lib/python3.6/site-packages/watson_machine_learning_client/wml_resource.py\u001b[0m in \u001b[0;36m_get_artifact_details\u001b[0;34m(self, base_url, uid, limit, resource_name)\u001b[0m\n\u001b[1;32m    138\u001b[0m \u001b[0;34m\u001b[0m\u001b[0m\n\u001b[1;32m    139\u001b[0m         \u001b[0;32mif\u001b[0m \u001b[0muid\u001b[0m \u001b[0;32mis\u001b[0m \u001b[0;32mNone\u001b[0m\u001b[0;34m:\u001b[0m\u001b[0;34m\u001b[0m\u001b[0;34m\u001b[0m\u001b[0m\n\u001b[0;32m--> 140\u001b[0;31m             \u001b[0;32mreturn\u001b[0m \u001b[0mself\u001b[0m\u001b[0;34m.\u001b[0m\u001b[0m_get_with_or_without_limit\u001b[0m\u001b[0;34m(\u001b[0m\u001b[0mbase_url\u001b[0m\u001b[0;34m,\u001b[0m \u001b[0mlimit\u001b[0m\u001b[0;34m,\u001b[0m \u001b[0mop_name\u001b[0m\u001b[0;34m)\u001b[0m\u001b[0;34m\u001b[0m\u001b[0;34m\u001b[0m\u001b[0m\n\u001b[0m\u001b[1;32m    141\u001b[0m         \u001b[0;32melse\u001b[0m\u001b[0;34m:\u001b[0m\u001b[0;34m\u001b[0m\u001b[0;34m\u001b[0m\u001b[0m\n\u001b[1;32m    142\u001b[0m             \u001b[0;31m# if not is_uid(uid):\u001b[0m\u001b[0;34m\u001b[0m\u001b[0;34m\u001b[0m\u001b[0;34m\u001b[0m\u001b[0m\n",
      "\u001b[0;32m/opt/conda/envs/Python36/lib/python3.6/site-packages/watson_machine_learning_client/wml_resource.py\u001b[0m in \u001b[0;36m_get_with_or_without_limit\u001b[0;34m(self, url, limit, op_name)\u001b[0m\n\u001b[1;32m    199\u001b[0m                     )\n\u001b[1;32m    200\u001b[0m \u001b[0;34m\u001b[0m\u001b[0m\n\u001b[0;32m--> 201\u001b[0;31m                 \u001b[0mresult\u001b[0m \u001b[0;34m=\u001b[0m \u001b[0mself\u001b[0m\u001b[0;34m.\u001b[0m\u001b[0m_handle_response\u001b[0m\u001b[0;34m(\u001b[0m\u001b[0;36m200\u001b[0m\u001b[0;34m,\u001b[0m \u001b[0mop_name\u001b[0m\u001b[0;34m,\u001b[0m \u001b[0mresponse_get\u001b[0m\u001b[0;34m)\u001b[0m\u001b[0;34m\u001b[0m\u001b[0;34m\u001b[0m\u001b[0m\n\u001b[0m\u001b[1;32m    202\u001b[0m \u001b[0;34m\u001b[0m\u001b[0m\n\u001b[1;32m    203\u001b[0m                 \u001b[0mresources\u001b[0m\u001b[0;34m.\u001b[0m\u001b[0mextend\u001b[0m\u001b[0;34m(\u001b[0m\u001b[0mresult\u001b[0m\u001b[0;34m[\u001b[0m\u001b[0;34m'resources'\u001b[0m\u001b[0;34m]\u001b[0m\u001b[0;34m)\u001b[0m\u001b[0;34m\u001b[0m\u001b[0;34m\u001b[0m\u001b[0m\n",
      "\u001b[0;32m/opt/conda/envs/Python36/lib/python3.6/site-packages/watson_machine_learning_client/wml_resource.py\u001b[0m in \u001b[0;36m_handle_response\u001b[0;34m(self, expected_status_code, operationName, response, json_response)\u001b[0m\n\u001b[1;32m     53\u001b[0m                 \u001b[0;32mreturn\u001b[0m \u001b[0mresponse\u001b[0m\u001b[0;34m.\u001b[0m\u001b[0mtext\u001b[0m\u001b[0;34m\u001b[0m\u001b[0;34m\u001b[0m\u001b[0m\n\u001b[1;32m     54\u001b[0m         \u001b[0;32melse\u001b[0m\u001b[0;34m:\u001b[0m\u001b[0;34m\u001b[0m\u001b[0;34m\u001b[0m\u001b[0m\n\u001b[0;32m---> 55\u001b[0;31m             \u001b[0;32mraise\u001b[0m \u001b[0mApiRequestFailure\u001b[0m\u001b[0;34m(\u001b[0m\u001b[0;34mu'Failure during {}.'\u001b[0m\u001b[0;34m.\u001b[0m\u001b[0mformat\u001b[0m\u001b[0;34m(\u001b[0m\u001b[0moperationName\u001b[0m\u001b[0;34m)\u001b[0m\u001b[0;34m,\u001b[0m \u001b[0mresponse\u001b[0m\u001b[0;34m)\u001b[0m\u001b[0;34m\u001b[0m\u001b[0;34m\u001b[0m\u001b[0m\n\u001b[0m\u001b[1;32m     56\u001b[0m \u001b[0;34m\u001b[0m\u001b[0m\n\u001b[1;32m     57\u001b[0m     \u001b[0;34m@\u001b[0m\u001b[0mstaticmethod\u001b[0m\u001b[0;34m\u001b[0m\u001b[0;34m\u001b[0m\u001b[0m\n",
      "\u001b[0;31mApiRequestFailure\u001b[0m: Failure during getting runtime specs details. (GET https://us-south.ml.cloud.ibm.com/v4/runtimes)\nStatus code: 404, body: {\"trace\":\"-1rk94agttage9\",\"errors\":[{\"code\":\"not_found\",\"message\":\"Requested object b78f18bf-94ae-41e7-b922-9c2cf2098a3e could not be found.\"}]}"
     ]
    }
   ],
   "source": [
    "# Listando todos los runtimes almacenados en su WML:\n",
    "clientWML.runtimes.list()"
   ]
  },
  {
   "cell_type": "markdown",
   "metadata": {},
   "source": [
    "#### Creando una nueva definición de Pipeline personalizado en WML\n",
    "\n",
    "Finalmente creando una definición (metadatos) para que nuestro Pipeline sea hospedada en WML.\n",
    "\n",
    "Definimos como parametros el nombre para el artefacto y el ID de runtime creado anteriormente."
   ]
  },
  {
   "cell_type": "code",
   "execution_count": 152,
   "metadata": {},
   "outputs": [],
   "source": [
    "model_meta = {\n",
    "    clientWML.repository.ModelMetaNames.NAME: 'pipeline_meta_4',\n",
    "    clientWML.repository.ModelMetaNames.DESCRIPTION: \"my pipeline for submission\",\n",
    "    clientWML.repository.ModelMetaNames.RUNTIME_UID: custom_runtime_uid\n",
    "}"
   ]
  },
  {
   "cell_type": "markdown",
   "metadata": {},
   "source": [
    "En seguida llamamos el método para almacenar una nueva definición:"
   ]
  },
  {
   "cell_type": "code",
   "execution_count": 153,
   "metadata": {},
   "outputs": [
    {
     "name": "stdout",
     "output_type": "stream",
     "text": [
      "\n",
      " Lista de artefatos almacenados en WML:\n",
      "------------------------------------  ----------------------------------  ------------------------  -----------------  -----------------\n",
      "GUID                                  NAME                                CREATED                   FRAMEWORK          TYPE\n",
      "ffeea340-e94c-47d5-8b52-c3a14f3d234a  pipeline_meta_4                     2020-08-25T21:19:20.907Z  scikit-learn-0.20  model\n",
      "a00d8664-6c0b-484e-b8af-c7eba15f7fdf  desafio-2-mbtc2020-pipeline-es-2    2020-08-22T18:48:23.310Z  scikit-learn-0.20  model\n",
      "58e41b49-e462-46f1-b390-8d9c7d109894  desafio-2-mbtc2020-deployment-es-2  2020-08-22T18:48:50.233Z  scikit-learn-0.20  online deployment\n",
      "04b0573d-1e5f-4a24-86a0-db389a97bc80  package_meta_4                      2020-08-25T21:17:22.325Z  -                  python library\n",
      "6ff1960d-6913-4e08-940e-3a79383a03f6  my_custom_sklearn_transform_es_2    2020-08-22T18:43:57.565Z  -                  python library\n",
      "------------------------------------  ----------------------------------  ------------------------  -----------------  -----------------\n",
      "\n",
      " Metadatos del modelo almacenado:\n",
      "{\n",
      "    \"metadata\": {\n",
      "        \"guid\": \"ffeea340-e94c-47d5-8b52-c3a14f3d234a\",\n",
      "        \"url\": \"https://us-south.ml.cloud.ibm.com/v3/wml_instances/acde55a6-e981-4899-8e70-8af87d9dd908/published_models/ffeea340-e94c-47d5-8b52-c3a14f3d234a\",\n",
      "        \"created_at\": \"2020-08-25T21:19:20.907Z\",\n",
      "        \"modified_at\": \"2020-08-25T21:19:20.977Z\"\n",
      "    },\n",
      "    \"entity\": {\n",
      "        \"runtime_environment\": \"python-3.6\",\n",
      "        \"learning_configuration_url\": \"https://us-south.ml.cloud.ibm.com/v3/wml_instances/acde55a6-e981-4899-8e70-8af87d9dd908/published_models/ffeea340-e94c-47d5-8b52-c3a14f3d234a/learning_configuration\",\n",
      "        \"name\": \"pipeline_meta_4\",\n",
      "        \"description\": \"my pipeline for submission\",\n",
      "        \"learning_iterations_url\": \"https://us-south.ml.cloud.ibm.com/v3/wml_instances/acde55a6-e981-4899-8e70-8af87d9dd908/published_models/ffeea340-e94c-47d5-8b52-c3a14f3d234a/learning_iterations\",\n",
      "        \"feedback_url\": \"https://us-south.ml.cloud.ibm.com/v3/wml_instances/acde55a6-e981-4899-8e70-8af87d9dd908/published_models/ffeea340-e94c-47d5-8b52-c3a14f3d234a/feedback\",\n",
      "        \"latest_version\": {\n",
      "            \"url\": \"https://us-south.ml.cloud.ibm.com/v3/ml_assets/models/ffeea340-e94c-47d5-8b52-c3a14f3d234a/versions/f97674e0-b80e-42da-b05d-46831e3a9357\",\n",
      "            \"guid\": \"f97674e0-b80e-42da-b05d-46831e3a9357\",\n",
      "            \"created_at\": \"2020-08-25T21:19:20.977Z\"\n",
      "        },\n",
      "        \"model_type\": \"scikit-learn-0.20\",\n",
      "        \"deployments\": {\n",
      "            \"count\": 0,\n",
      "            \"url\": \"https://us-south.ml.cloud.ibm.com/v3/wml_instances/acde55a6-e981-4899-8e70-8af87d9dd908/published_models/ffeea340-e94c-47d5-8b52-c3a14f3d234a/deployments\"\n",
      "        },\n",
      "        \"evaluation_metrics_url\": \"https://us-south.ml.cloud.ibm.com/v3/wml_instances/acde55a6-e981-4899-8e70-8af87d9dd908/published_models/ffeea340-e94c-47d5-8b52-c3a14f3d234a/evaluation_metrics\",\n",
      "        \"runtime\": {\n",
      "            \"url\": \"https://us-south.ml.cloud.ibm.com/v4/runtimes/e52c83c6-8b81-4415-8fd0-ccc7810988a8\"\n",
      "        }\n",
      "    }\n",
      "}\n"
     ]
    }
   ],
   "source": [
    "# Función para almacenar una definición de Pipeline en WML\n",
    "stored_model_details = clientWML.repository.store_model(\n",
    "    model=my_pipeline,  # `my_pipeline` es la variable creada anteriormente que contiene nuestro Pipeline ya entrenado :)\n",
    "    meta_props=model_meta,  # Metadatos definidos en la celda anterior\n",
    "    training_data=None  # No altere este parametro\n",
    ")\n",
    "\n",
    "print(\"\\n Lista de artefatos almacenados en WML:\")\n",
    "clientWML.repository.list()\n",
    "\n",
    "# Datalles del modelo hospedado en Watson Machine Learning\n",
    "print(\"\\n Metadatos del modelo almacenado:\")\n",
    "print(json.dumps(stored_model_details, indent=4))"
   ]
  },
  {
   "cell_type": "markdown",
   "metadata": {},
   "source": [
    "#### Realizando un deployment de su modelo para consumo inmediato por otras aplicaciones"
   ]
  },
  {
   "cell_type": "code",
   "execution_count": 154,
   "metadata": {},
   "outputs": [
    {
     "name": "stdout",
     "output_type": "stream",
     "text": [
      "\n",
      "\n",
      "#######################################################################################\n",
      "\n",
      "Synchronous deployment creation for uid: 'ffeea340-e94c-47d5-8b52-c3a14f3d234a' started\n",
      "\n",
      "#######################################################################################\n",
      "\n",
      "\n",
      "INITIALIZING\n",
      "DEPLOY_IN_PROGRESS..\n",
      "DEPLOY_SUCCESS\n",
      "\n",
      "\n",
      "------------------------------------------------------------------------------------------------\n",
      "Successfully finished deployment creation, deployment_uid='9c0e60e8-db2f-48a9-bfd7-37f1e4ab7728'\n",
      "------------------------------------------------------------------------------------------------\n",
      "\n",
      "\n"
     ]
    }
   ],
   "source": [
    "# El deployment del modelo es finalmente realizado por medio del método ``deployments.create()``\n",
    "\n",
    "model_deployment_details = clientWML.deployments.create(\n",
    "    artifact_uid=stored_model_details[\"metadata\"][\"guid\"],  # No altere este parametro\n",
    "    name=\"deployment_meta_4\",\n",
    "    description=\"Desafio 4 MBTC\",\n",
    "    asynchronous=False,  # No altere este parametro\n",
    "    deployment_type='online',  # No altere este parametro\n",
    "    deployment_format='Core ML',  # No altere este parametro\n",
    "    meta_props=model_meta  # No altere este parametro\n",
    ")"
   ]
  },
  {
   "cell_type": "markdown",
   "metadata": {},
   "source": [
    "#### Probando el modelo hospedado en Watson Machine Learning"
   ]
  },
  {
   "cell_type": "code",
   "execution_count": 155,
   "metadata": {},
   "outputs": [
    {
     "name": "stdout",
     "output_type": "stream",
     "text": [
      "La URL de llamada de su API es: https://us-south.ml.cloud.ibm.com/v3/wml_instances/acde55a6-e981-4899-8e70-8af87d9dd908/deployments/9c0e60e8-db2f-48a9-bfd7-37f1e4ab7728/online\n"
     ]
    }
   ],
   "source": [
    "# Recuperando la URL endpoint dl modelo hospedado en la celda anterior\n",
    "\n",
    "model_endpoint_url = clientWML.deployments.get_scoring_url(model_deployment_details)\n",
    "print(\"La URL de llamada de su API es: {}\".format(model_endpoint_url))"
   ]
  },
  {
   "cell_type": "markdown",
   "metadata": {},
   "source": [
    "### ATENCIÓN: UD necesitará de la URL de arriba para entregar su modelo :)"
   ]
  },
  {
   "cell_type": "code",
   "execution_count": 156,
   "metadata": {},
   "outputs": [
    {
     "name": "stdout",
     "output_type": "stream",
     "text": [
      "Metadatos del deployment realizado: \n",
      "\n",
      "{\n",
      "    \"metadata\": {\n",
      "        \"guid\": \"9c0e60e8-db2f-48a9-bfd7-37f1e4ab7728\",\n",
      "        \"url\": \"https://us-south.ml.cloud.ibm.com/v3/wml_instances/acde55a6-e981-4899-8e70-8af87d9dd908/deployments/9c0e60e8-db2f-48a9-bfd7-37f1e4ab7728\",\n",
      "        \"created_at\": \"2020-08-25T21:19:38.067Z\",\n",
      "        \"modified_at\": \"2020-08-25T21:19:38.696Z\"\n",
      "    },\n",
      "    \"entity\": {\n",
      "        \"runtime_environment\": \"python-3.6\",\n",
      "        \"name\": \"deployment_meta_4\",\n",
      "        \"scoring_url\": \"https://us-south.ml.cloud.ibm.com/v3/wml_instances/acde55a6-e981-4899-8e70-8af87d9dd908/deployments/9c0e60e8-db2f-48a9-bfd7-37f1e4ab7728/online\",\n",
      "        \"deployable_asset\": {\n",
      "            \"name\": \"pipeline_meta_4\",\n",
      "            \"url\": \"https://us-south.ml.cloud.ibm.com/v3/wml_instances/acde55a6-e981-4899-8e70-8af87d9dd908/published_models/ffeea340-e94c-47d5-8b52-c3a14f3d234a\",\n",
      "            \"guid\": \"ffeea340-e94c-47d5-8b52-c3a14f3d234a\",\n",
      "            \"description\": \"my pipeline for submission\",\n",
      "            \"created_at\": \"2020-08-25T21:19:38.037Z\",\n",
      "            \"type\": \"model\"\n",
      "        },\n",
      "        \"description\": \"Desafio 4 MBTC\",\n",
      "        \"status_details\": {\n",
      "            \"status\": \"DEPLOY_SUCCESS\"\n",
      "        },\n",
      "        \"model_type\": \"scikit-learn-0.20\",\n",
      "        \"status\": \"DEPLOY_SUCCESS\",\n",
      "        \"type\": \"online\",\n",
      "        \"deployed_version\": {\n",
      "            \"url\": \"https://us-south.ml.cloud.ibm.com/v3/ml_assets/models/ffeea340-e94c-47d5-8b52-c3a14f3d234a/versions/f97674e0-b80e-42da-b05d-46831e3a9357\",\n",
      "            \"guid\": \"f97674e0-b80e-42da-b05d-46831e3a9357\"\n",
      "        }\n",
      "    }\n",
      "}\n"
     ]
    }
   ],
   "source": [
    "# Detalles del deployment realizado\n",
    "\n",
    "deployment_details = clientWML.deployments.get_details(\n",
    "    deployment_uid=model_deployment_details[\"metadata\"][\"guid\"]  # Este es el ID de su deployment!\n",
    ")\n",
    "\n",
    "print(\"Metadatos del deployment realizado: \\n\")\n",
    "print(json.dumps(deployment_details, indent=4))"
   ]
  },
  {
   "cell_type": "markdown",
   "metadata": {},
   "source": [
    "### Realizando una llamada de API para su modelo almacenado en WML"
   ]
  },
  {
   "cell_type": "code",
   "execution_count": 157,
   "metadata": {
    "scrolled": false
   },
   "outputs": [
    {
     "name": "stdout",
     "output_type": "stream",
     "text": [
      "\n",
      " Payload de datos a ser clasificado:\n",
      "{\n",
      "    \"fields\": [\n",
      "        \"EFECTIVO\",\n",
      "        \"CXC\",\n",
      "        \"INVENTARIO\",\n",
      "        \"EQ_OFICINA\",\n",
      "        \"EQ_TRANSPORTE\",\n",
      "        \"TERRENOS_Y_CONSTRUCCIONES\",\n",
      "        \"CXP\",\n",
      "        \"CONTRIBUCIONES_X_PAGAR\",\n",
      "        \"ANTICIPOS_CTE\",\n",
      "        \"CAP_SOCIAL\",\n",
      "        \"UTILIDADES_ACUMULADAS\",\n",
      "        \"UTILIDAD_O_PERDIDA\",\n",
      "        \"TOTAL_VENTAS\",\n",
      "        \"TOTAL_COMPRAS\",\n",
      "        \"UTILIDAD_BRUTA\",\n",
      "        \"TOTAL_GASTOS\"\n",
      "    ],\n",
      "    \"values\": [\n",
      "        [\n",
      "            968866.8993,\n",
      "            102102.0,\n",
      "            8539205.63,\n",
      "            3898282.548,\n",
      "            416873.3265,\n",
      "            1420050.089,\n",
      "            -629717.8548,\n",
      "            14613560.64,\n",
      "            7620711.462,\n",
      "            116647.7396,\n",
      "            1798064.624,\n",
      "            9535423.826,\n",
      "            3657339.603,\n",
      "            770284.5004,\n",
      "            -102101.201,\n",
      "            -711032.0155\n",
      "        ]\n",
      "    ]\n",
      "}\n"
     ]
    }
   ],
   "source": [
    "scoring_payload = {\n",
    "    'fields': [\n",
    "        'EFECTIVO',\n",
    "        'CXC',\n",
    "        'INVENTARIO',\n",
    "        'EQ_OFICINA',\n",
    "        'EQ_TRANSPORTE',\n",
    "        'TERRENOS_Y_CONSTRUCCIONES',\n",
    "        'CXP',\n",
    "        'CONTRIBUCIONES_X_PAGAR',\n",
    "        'ANTICIPOS_CTE',\n",
    "        'CAP_SOCIAL',\n",
    "        'UTILIDADES_ACUMULADAS',\n",
    "        'UTILIDAD_O_PERDIDA',\n",
    "        'TOTAL_VENTAS',\n",
    "        'TOTAL_COMPRAS',\n",
    "        'UTILIDAD_BRUTA',\n",
    "        'TOTAL_GASTOS',\n",
    "    ],\n",
    "    'values': [\n",
    "        [\n",
    "            968866.8993,\n",
    "            102102.000,\n",
    "            8539205.63,\n",
    "            3898282.548,\n",
    "            416873.3265,\n",
    "            1420050.089,\n",
    "            -629717.8548,\n",
    "            14613560.64,\n",
    "            7620711.462,\n",
    "            116647.7396,\n",
    "            1798064.624,\n",
    "            9535423.826,\n",
    "            3657339.603,\n",
    "            770284.5004,\n",
    "            -102101.201,\n",
    "            -711032.0155\n",
    "        ]\n",
    "    ]\n",
    "}\n",
    "\n",
    "print(\"\\n Payload de datos a ser clasificado:\")\n",
    "print(json.dumps(scoring_payload, indent=4))"
   ]
  },
  {
   "cell_type": "code",
   "execution_count": 158,
   "metadata": {},
   "outputs": [
    {
     "name": "stdout",
     "output_type": "stream",
     "text": [
      "\n",
      " Resultados:\n",
      "{\n",
      "    \"fields\": [\n",
      "        \"prediction\",\n",
      "        \"probability\"\n",
      "    ],\n",
      "    \"values\": [\n",
      "        [\n",
      "            \"Aceptado\",\n",
      "            [\n",
      "                0.9999999882238805,\n",
      "                1.1776119543666055e-08\n",
      "            ]\n",
      "        ]\n",
      "    ]\n",
      "}\n"
     ]
    }
   ],
   "source": [
    "result = clientWML.deployments.score(\n",
    "    model_endpoint_url,\n",
    "    scoring_payload\n",
    ")\n",
    "\n",
    "print(\"\\n Resultados:\")\n",
    "print(json.dumps(result, indent=4))"
   ]
  },
  {
   "cell_type": "markdown",
   "metadata": {},
   "source": [
    "<hr>\n",
    "\n",
    "## ¡Felicitaciones! \n",
    "\n",
    "Si todo fue ejecutado sin errores, ¡usted ya tiene un predictor basado en clasificacíon binaria encapsulado como una API REST!\n",
    "\n",
    "Para enviar su solución, accede a la página:\n",
    "\n",
    "# https://compusoluciones.maratona.dev\n",
    "\n",
    "Usted necesitará del endpoint url de su modelo y las credenciales de WML :)"
   ]
  },
  {
   "cell_type": "markdown",
   "metadata": {},
   "source": []
  }
 ],
 "metadata": {
  "kernelspec": {
   "display_name": "Python 3",
   "language": "python",
   "name": "python3"
  },
  "language_info": {
   "codemirror_mode": {
    "name": "ipython",
    "version": 3
   },
   "file_extension": ".py",
   "mimetype": "text/x-python",
   "name": "python",
   "nbconvert_exporter": "python",
   "pygments_lexer": "ipython3",
   "version": "3.7.6"
  }
 },
 "nbformat": 4,
 "nbformat_minor": 1
}
